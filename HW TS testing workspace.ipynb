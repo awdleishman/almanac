{
 "cells": [
  {
   "cell_type": "code",
   "execution_count": 38,
   "id": "710faf1d",
   "metadata": {},
   "outputs": [],
   "source": [
    "from Almanac.Data import get_weather_data\n",
    "import pandas as pd\n",
    "import numpy as np\n",
    "import matplotlib.pyplot as plt\n",
    "import seaborn as sns\n",
    "from Almanac.Models import hw_weekly_frost_date_forecast\n",
    "import copy\n",
    "from datetime import datetime"
   ]
  },
  {
   "cell_type": "code",
   "execution_count": 2,
   "id": "d5577653",
   "metadata": {},
   "outputs": [],
   "source": [
    "df = get_weather_data(\"Chicago, IL, 60601, US\", \"2018-01-01\", \"2021-12-31\")"
   ]
  },
  {
   "cell_type": "code",
   "execution_count": 3,
   "id": "d09fdd6f",
   "metadata": {},
   "outputs": [
    {
     "data": {
      "text/html": [
       "<div>\n",
       "<style scoped>\n",
       "    .dataframe tbody tr th:only-of-type {\n",
       "        vertical-align: middle;\n",
       "    }\n",
       "\n",
       "    .dataframe tbody tr th {\n",
       "        vertical-align: top;\n",
       "    }\n",
       "\n",
       "    .dataframe thead th {\n",
       "        text-align: right;\n",
       "    }\n",
       "</style>\n",
       "<table border=\"1\" class=\"dataframe\">\n",
       "  <thead>\n",
       "    <tr style=\"text-align: right;\">\n",
       "      <th></th>\n",
       "      <th>tavg</th>\n",
       "      <th>tmin</th>\n",
       "      <th>tmax</th>\n",
       "      <th>prcp</th>\n",
       "      <th>snow</th>\n",
       "      <th>wdir</th>\n",
       "      <th>wspd</th>\n",
       "      <th>wpgt</th>\n",
       "      <th>pres</th>\n",
       "      <th>tsun</th>\n",
       "    </tr>\n",
       "    <tr>\n",
       "      <th>time</th>\n",
       "      <th></th>\n",
       "      <th></th>\n",
       "      <th></th>\n",
       "      <th></th>\n",
       "      <th></th>\n",
       "      <th></th>\n",
       "      <th></th>\n",
       "      <th></th>\n",
       "      <th></th>\n",
       "      <th></th>\n",
       "    </tr>\n",
       "  </thead>\n",
       "  <tbody>\n",
       "    <tr>\n",
       "      <th>2018-01-01</th>\n",
       "      <td>-19.1</td>\n",
       "      <td>-21.7</td>\n",
       "      <td>-16.1</td>\n",
       "      <td>0.0</td>\n",
       "      <td>51.0</td>\n",
       "      <td>281.0</td>\n",
       "      <td>16.9</td>\n",
       "      <td>NaN</td>\n",
       "      <td>1041.9</td>\n",
       "      <td>NaN</td>\n",
       "    </tr>\n",
       "    <tr>\n",
       "      <th>2018-01-02</th>\n",
       "      <td>-18.5</td>\n",
       "      <td>-23.3</td>\n",
       "      <td>-13.9</td>\n",
       "      <td>0.0</td>\n",
       "      <td>51.0</td>\n",
       "      <td>234.0</td>\n",
       "      <td>18.4</td>\n",
       "      <td>NaN</td>\n",
       "      <td>1035.2</td>\n",
       "      <td>NaN</td>\n",
       "    </tr>\n",
       "    <tr>\n",
       "      <th>2018-01-03</th>\n",
       "      <td>-10.0</td>\n",
       "      <td>-13.9</td>\n",
       "      <td>-7.8</td>\n",
       "      <td>0.0</td>\n",
       "      <td>51.0</td>\n",
       "      <td>279.0</td>\n",
       "      <td>20.7</td>\n",
       "      <td>NaN</td>\n",
       "      <td>1021.2</td>\n",
       "      <td>NaN</td>\n",
       "    </tr>\n",
       "    <tr>\n",
       "      <th>2018-01-04</th>\n",
       "      <td>-14.0</td>\n",
       "      <td>-16.7</td>\n",
       "      <td>-10.6</td>\n",
       "      <td>0.0</td>\n",
       "      <td>51.0</td>\n",
       "      <td>322.0</td>\n",
       "      <td>19.2</td>\n",
       "      <td>NaN</td>\n",
       "      <td>1027.6</td>\n",
       "      <td>NaN</td>\n",
       "    </tr>\n",
       "    <tr>\n",
       "      <th>2018-01-05</th>\n",
       "      <td>-14.8</td>\n",
       "      <td>-17.8</td>\n",
       "      <td>-11.1</td>\n",
       "      <td>0.0</td>\n",
       "      <td>51.0</td>\n",
       "      <td>315.0</td>\n",
       "      <td>16.7</td>\n",
       "      <td>NaN</td>\n",
       "      <td>1032.1</td>\n",
       "      <td>NaN</td>\n",
       "    </tr>\n",
       "    <tr>\n",
       "      <th>...</th>\n",
       "      <td>...</td>\n",
       "      <td>...</td>\n",
       "      <td>...</td>\n",
       "      <td>...</td>\n",
       "      <td>...</td>\n",
       "      <td>...</td>\n",
       "      <td>...</td>\n",
       "      <td>...</td>\n",
       "      <td>...</td>\n",
       "      <td>...</td>\n",
       "    </tr>\n",
       "    <tr>\n",
       "      <th>2021-12-27</th>\n",
       "      <td>5.1</td>\n",
       "      <td>1.1</td>\n",
       "      <td>8.9</td>\n",
       "      <td>6.9</td>\n",
       "      <td>0.0</td>\n",
       "      <td>289.0</td>\n",
       "      <td>17.2</td>\n",
       "      <td>NaN</td>\n",
       "      <td>1006.7</td>\n",
       "      <td>NaN</td>\n",
       "    </tr>\n",
       "    <tr>\n",
       "      <th>2021-12-28</th>\n",
       "      <td>2.3</td>\n",
       "      <td>0.6</td>\n",
       "      <td>3.9</td>\n",
       "      <td>6.9</td>\n",
       "      <td>25.0</td>\n",
       "      <td>92.0</td>\n",
       "      <td>12.1</td>\n",
       "      <td>NaN</td>\n",
       "      <td>1008.1</td>\n",
       "      <td>NaN</td>\n",
       "    </tr>\n",
       "    <tr>\n",
       "      <th>2021-12-29</th>\n",
       "      <td>2.5</td>\n",
       "      <td>0.0</td>\n",
       "      <td>3.9</td>\n",
       "      <td>0.5</td>\n",
       "      <td>0.0</td>\n",
       "      <td>322.0</td>\n",
       "      <td>13.9</td>\n",
       "      <td>NaN</td>\n",
       "      <td>1012.7</td>\n",
       "      <td>NaN</td>\n",
       "    </tr>\n",
       "    <tr>\n",
       "      <th>2021-12-30</th>\n",
       "      <td>2.7</td>\n",
       "      <td>0.6</td>\n",
       "      <td>3.9</td>\n",
       "      <td>0.0</td>\n",
       "      <td>0.0</td>\n",
       "      <td>126.0</td>\n",
       "      <td>9.7</td>\n",
       "      <td>NaN</td>\n",
       "      <td>1012.2</td>\n",
       "      <td>NaN</td>\n",
       "    </tr>\n",
       "    <tr>\n",
       "      <th>2021-12-31</th>\n",
       "      <td>4.8</td>\n",
       "      <td>1.1</td>\n",
       "      <td>7.8</td>\n",
       "      <td>0.0</td>\n",
       "      <td>0.0</td>\n",
       "      <td>27.0</td>\n",
       "      <td>12.5</td>\n",
       "      <td>NaN</td>\n",
       "      <td>1007.4</td>\n",
       "      <td>NaN</td>\n",
       "    </tr>\n",
       "  </tbody>\n",
       "</table>\n",
       "<p>1461 rows × 10 columns</p>\n",
       "</div>"
      ],
      "text/plain": [
       "            tavg  tmin  tmax  prcp  snow   wdir  wspd  wpgt    pres  tsun\n",
       "time                                                                     \n",
       "2018-01-01 -19.1 -21.7 -16.1   0.0  51.0  281.0  16.9   NaN  1041.9   NaN\n",
       "2018-01-02 -18.5 -23.3 -13.9   0.0  51.0  234.0  18.4   NaN  1035.2   NaN\n",
       "2018-01-03 -10.0 -13.9  -7.8   0.0  51.0  279.0  20.7   NaN  1021.2   NaN\n",
       "2018-01-04 -14.0 -16.7 -10.6   0.0  51.0  322.0  19.2   NaN  1027.6   NaN\n",
       "2018-01-05 -14.8 -17.8 -11.1   0.0  51.0  315.0  16.7   NaN  1032.1   NaN\n",
       "...          ...   ...   ...   ...   ...    ...   ...   ...     ...   ...\n",
       "2021-12-27   5.1   1.1   8.9   6.9   0.0  289.0  17.2   NaN  1006.7   NaN\n",
       "2021-12-28   2.3   0.6   3.9   6.9  25.0   92.0  12.1   NaN  1008.1   NaN\n",
       "2021-12-29   2.5   0.0   3.9   0.5   0.0  322.0  13.9   NaN  1012.7   NaN\n",
       "2021-12-30   2.7   0.6   3.9   0.0   0.0  126.0   9.7   NaN  1012.2   NaN\n",
       "2021-12-31   4.8   1.1   7.8   0.0   0.0   27.0  12.5   NaN  1007.4   NaN\n",
       "\n",
       "[1461 rows x 10 columns]"
      ]
     },
     "execution_count": 3,
     "metadata": {},
     "output_type": "execute_result"
    }
   ],
   "source": [
    "df"
   ]
  },
  {
   "cell_type": "code",
   "execution_count": 4,
   "id": "3e702ac0",
   "metadata": {},
   "outputs": [],
   "source": [
    "prediction, os = hw_weekly_frost_date_forecast(df)"
   ]
  },
  {
   "cell_type": "code",
   "execution_count": 5,
   "id": "aeb3e0e9",
   "metadata": {},
   "outputs": [
    {
     "data": {
      "text/plain": [
       "2022-01-09    -7.873197\n",
       "2022-01-16   -11.648214\n",
       "2022-01-23    -9.973082\n",
       "2022-01-30   -13.723133\n",
       "2022-02-06   -13.998276\n",
       "2022-02-13   -15.248191\n",
       "2022-02-20    -9.148143\n",
       "2022-02-27    -6.348121\n",
       "2022-03-06    -7.623186\n",
       "2022-03-13    -1.073249\n",
       "2022-03-20    -1.648209\n",
       "2022-03-27    -0.648221\n",
       "2022-04-03    -2.198249\n",
       "2022-04-10     2.651756\n",
       "2022-04-17     0.301821\n",
       "2022-04-24     1.701877\n",
       "2022-05-01     5.301887\n",
       "2022-05-08     5.026862\n",
       "2022-05-15     6.001877\n",
       "2022-05-22    11.701832\n",
       "2022-05-29    10.726854\n",
       "2022-06-05    12.276853\n",
       "2022-06-12    16.151880\n",
       "2022-06-19    14.751899\n",
       "2022-06-26    16.976889\n",
       "2022-07-03    18.901927\n",
       "2022-07-10    18.626874\n",
       "2022-07-17    20.176890\n",
       "2022-07-24    18.501891\n",
       "2022-07-31    18.076936\n",
       "2022-08-07    17.952012\n",
       "2022-08-14    18.751868\n",
       "2022-08-21    17.676897\n",
       "2022-08-28    18.526927\n",
       "2022-09-04    15.726925\n",
       "2022-09-11    15.001823\n",
       "2022-09-18    14.201893\n",
       "2022-09-25    11.151851\n",
       "2022-10-02    11.152005\n",
       "2022-10-09     6.827094\n",
       "2022-10-16     3.376888\n",
       "2022-10-23     4.326906\n",
       "2022-10-30     0.851917\n",
       "2022-11-06    -3.573110\n",
       "2022-11-13    -4.148026\n",
       "2022-11-20    -2.048141\n",
       "2022-11-27    -3.298154\n",
       "2022-12-04    -3.973141\n",
       "2022-12-11    -6.923246\n",
       "2022-12-18    -4.573075\n",
       "2022-12-25    -6.098135\n",
       "2023-01-01    -6.818065\n",
       "Freq: W-SUN, dtype: float64"
      ]
     },
     "execution_count": 5,
     "metadata": {},
     "output_type": "execute_result"
    }
   ],
   "source": [
    "prediction"
   ]
  },
  {
   "cell_type": "code",
   "execution_count": 6,
   "id": "010a27c1",
   "metadata": {},
   "outputs": [
    {
     "data": {
      "text/plain": [
       "0.5"
      ]
     },
     "execution_count": 6,
     "metadata": {},
     "output_type": "execute_result"
    }
   ],
   "source": [
    "os"
   ]
  },
  {
   "cell_type": "code",
   "execution_count": 7,
   "id": "b500dd2c",
   "metadata": {},
   "outputs": [],
   "source": [
    "import plotly.express as px"
   ]
  },
  {
   "cell_type": "code",
   "execution_count": 54,
   "id": "4ee85155",
   "metadata": {
    "scrolled": false
   },
   "outputs": [
    {
     "data": {
      "application/vnd.plotly.v1+json": {
       "config": {
        "plotlyServerURL": "https://plot.ly"
       },
       "data": [
        {
         "hovertemplate": "x=%{x}<br>y=%{y}<extra></extra>",
         "legendgroup": "",
         "line": {
          "color": "#636efa",
          "dash": "solid"
         },
         "marker": {
          "symbol": "circle"
         },
         "mode": "lines",
         "name": "",
         "orientation": "v",
         "showlegend": false,
         "type": "scatter",
         "x": [
          "2022-01-09T00:00:00",
          "2022-01-16T00:00:00",
          "2022-01-23T00:00:00",
          "2022-01-30T00:00:00",
          "2022-02-06T00:00:00",
          "2022-02-13T00:00:00",
          "2022-02-20T00:00:00",
          "2022-02-27T00:00:00",
          "2022-03-06T00:00:00",
          "2022-03-13T00:00:00",
          "2022-03-20T00:00:00",
          "2022-03-27T00:00:00",
          "2022-04-03T00:00:00",
          "2022-04-10T00:00:00",
          "2022-04-17T00:00:00",
          "2022-04-24T00:00:00",
          "2022-05-01T00:00:00",
          "2022-05-08T00:00:00",
          "2022-05-15T00:00:00",
          "2022-05-22T00:00:00",
          "2022-05-29T00:00:00",
          "2022-06-05T00:00:00",
          "2022-06-12T00:00:00",
          "2022-06-19T00:00:00",
          "2022-06-26T00:00:00",
          "2022-07-03T00:00:00",
          "2022-07-10T00:00:00",
          "2022-07-17T00:00:00",
          "2022-07-24T00:00:00",
          "2022-07-31T00:00:00",
          "2022-08-07T00:00:00",
          "2022-08-14T00:00:00",
          "2022-08-21T00:00:00",
          "2022-08-28T00:00:00",
          "2022-09-04T00:00:00",
          "2022-09-11T00:00:00",
          "2022-09-18T00:00:00",
          "2022-09-25T00:00:00",
          "2022-10-02T00:00:00",
          "2022-10-09T00:00:00",
          "2022-10-16T00:00:00",
          "2022-10-23T00:00:00",
          "2022-10-30T00:00:00",
          "2022-11-06T00:00:00",
          "2022-11-13T00:00:00",
          "2022-11-20T00:00:00",
          "2022-11-27T00:00:00",
          "2022-12-04T00:00:00",
          "2022-12-11T00:00:00",
          "2022-12-18T00:00:00",
          "2022-12-25T00:00:00",
          "2023-01-01T00:00:00"
         ],
         "xaxis": "x",
         "y": [
          -7.873197018473636,
          -11.648214045228283,
          -9.97308152233648,
          -13.723133279438443,
          -13.998275665799607,
          -15.248191086044638,
          -9.148142540592218,
          -6.348121272359319,
          -7.623185871924,
          -1.0732488890196477,
          -1.6482089221529872,
          -0.6482211444584554,
          -2.1982485768323787,
          2.651755817808039,
          0.30182131925946454,
          1.7018770018962095,
          5.301887057869346,
          5.026862342584214,
          6.001876621395201,
          11.701831866184458,
          10.726854405477107,
          12.27685288797981,
          16.151880430040094,
          14.751898986292815,
          16.976889325977066,
          18.90192660901462,
          18.626874440406,
          20.176890052628035,
          18.50189050495623,
          18.076935915918778,
          17.952012452796737,
          18.75186819552438,
          17.676897193469344,
          18.526927144817215,
          15.726924596898609,
          15.001823045027283,
          14.201893221183086,
          11.151851201203794,
          11.152004855759536,
          6.827094415037067,
          3.3768877867890845,
          4.326906424850513,
          0.8519172406943865,
          -3.573109658059386,
          -4.148025665058252,
          -2.04814094355881,
          -3.2981540568545915,
          -3.9731406287512723,
          -6.9232462570351565,
          -4.573075115739739,
          -6.098135216587046,
          -6.818064740840509
         ],
         "yaxis": "y"
        }
       ],
       "layout": {
        "legend": {
         "tracegroupgap": 0
        },
        "margin": {
         "t": 60
        },
        "template": {
         "data": {
          "bar": [
           {
            "error_x": {
             "color": "#2a3f5f"
            },
            "error_y": {
             "color": "#2a3f5f"
            },
            "marker": {
             "line": {
              "color": "#E5ECF6",
              "width": 0.5
             },
             "pattern": {
              "fillmode": "overlay",
              "size": 10,
              "solidity": 0.2
             }
            },
            "type": "bar"
           }
          ],
          "barpolar": [
           {
            "marker": {
             "line": {
              "color": "#E5ECF6",
              "width": 0.5
             },
             "pattern": {
              "fillmode": "overlay",
              "size": 10,
              "solidity": 0.2
             }
            },
            "type": "barpolar"
           }
          ],
          "carpet": [
           {
            "aaxis": {
             "endlinecolor": "#2a3f5f",
             "gridcolor": "white",
             "linecolor": "white",
             "minorgridcolor": "white",
             "startlinecolor": "#2a3f5f"
            },
            "baxis": {
             "endlinecolor": "#2a3f5f",
             "gridcolor": "white",
             "linecolor": "white",
             "minorgridcolor": "white",
             "startlinecolor": "#2a3f5f"
            },
            "type": "carpet"
           }
          ],
          "choropleth": [
           {
            "colorbar": {
             "outlinewidth": 0,
             "ticks": ""
            },
            "type": "choropleth"
           }
          ],
          "contour": [
           {
            "colorbar": {
             "outlinewidth": 0,
             "ticks": ""
            },
            "colorscale": [
             [
              0,
              "#0d0887"
             ],
             [
              0.1111111111111111,
              "#46039f"
             ],
             [
              0.2222222222222222,
              "#7201a8"
             ],
             [
              0.3333333333333333,
              "#9c179e"
             ],
             [
              0.4444444444444444,
              "#bd3786"
             ],
             [
              0.5555555555555556,
              "#d8576b"
             ],
             [
              0.6666666666666666,
              "#ed7953"
             ],
             [
              0.7777777777777778,
              "#fb9f3a"
             ],
             [
              0.8888888888888888,
              "#fdca26"
             ],
             [
              1,
              "#f0f921"
             ]
            ],
            "type": "contour"
           }
          ],
          "contourcarpet": [
           {
            "colorbar": {
             "outlinewidth": 0,
             "ticks": ""
            },
            "type": "contourcarpet"
           }
          ],
          "heatmap": [
           {
            "colorbar": {
             "outlinewidth": 0,
             "ticks": ""
            },
            "colorscale": [
             [
              0,
              "#0d0887"
             ],
             [
              0.1111111111111111,
              "#46039f"
             ],
             [
              0.2222222222222222,
              "#7201a8"
             ],
             [
              0.3333333333333333,
              "#9c179e"
             ],
             [
              0.4444444444444444,
              "#bd3786"
             ],
             [
              0.5555555555555556,
              "#d8576b"
             ],
             [
              0.6666666666666666,
              "#ed7953"
             ],
             [
              0.7777777777777778,
              "#fb9f3a"
             ],
             [
              0.8888888888888888,
              "#fdca26"
             ],
             [
              1,
              "#f0f921"
             ]
            ],
            "type": "heatmap"
           }
          ],
          "heatmapgl": [
           {
            "colorbar": {
             "outlinewidth": 0,
             "ticks": ""
            },
            "colorscale": [
             [
              0,
              "#0d0887"
             ],
             [
              0.1111111111111111,
              "#46039f"
             ],
             [
              0.2222222222222222,
              "#7201a8"
             ],
             [
              0.3333333333333333,
              "#9c179e"
             ],
             [
              0.4444444444444444,
              "#bd3786"
             ],
             [
              0.5555555555555556,
              "#d8576b"
             ],
             [
              0.6666666666666666,
              "#ed7953"
             ],
             [
              0.7777777777777778,
              "#fb9f3a"
             ],
             [
              0.8888888888888888,
              "#fdca26"
             ],
             [
              1,
              "#f0f921"
             ]
            ],
            "type": "heatmapgl"
           }
          ],
          "histogram": [
           {
            "marker": {
             "pattern": {
              "fillmode": "overlay",
              "size": 10,
              "solidity": 0.2
             }
            },
            "type": "histogram"
           }
          ],
          "histogram2d": [
           {
            "colorbar": {
             "outlinewidth": 0,
             "ticks": ""
            },
            "colorscale": [
             [
              0,
              "#0d0887"
             ],
             [
              0.1111111111111111,
              "#46039f"
             ],
             [
              0.2222222222222222,
              "#7201a8"
             ],
             [
              0.3333333333333333,
              "#9c179e"
             ],
             [
              0.4444444444444444,
              "#bd3786"
             ],
             [
              0.5555555555555556,
              "#d8576b"
             ],
             [
              0.6666666666666666,
              "#ed7953"
             ],
             [
              0.7777777777777778,
              "#fb9f3a"
             ],
             [
              0.8888888888888888,
              "#fdca26"
             ],
             [
              1,
              "#f0f921"
             ]
            ],
            "type": "histogram2d"
           }
          ],
          "histogram2dcontour": [
           {
            "colorbar": {
             "outlinewidth": 0,
             "ticks": ""
            },
            "colorscale": [
             [
              0,
              "#0d0887"
             ],
             [
              0.1111111111111111,
              "#46039f"
             ],
             [
              0.2222222222222222,
              "#7201a8"
             ],
             [
              0.3333333333333333,
              "#9c179e"
             ],
             [
              0.4444444444444444,
              "#bd3786"
             ],
             [
              0.5555555555555556,
              "#d8576b"
             ],
             [
              0.6666666666666666,
              "#ed7953"
             ],
             [
              0.7777777777777778,
              "#fb9f3a"
             ],
             [
              0.8888888888888888,
              "#fdca26"
             ],
             [
              1,
              "#f0f921"
             ]
            ],
            "type": "histogram2dcontour"
           }
          ],
          "mesh3d": [
           {
            "colorbar": {
             "outlinewidth": 0,
             "ticks": ""
            },
            "type": "mesh3d"
           }
          ],
          "parcoords": [
           {
            "line": {
             "colorbar": {
              "outlinewidth": 0,
              "ticks": ""
             }
            },
            "type": "parcoords"
           }
          ],
          "pie": [
           {
            "automargin": true,
            "type": "pie"
           }
          ],
          "scatter": [
           {
            "fillpattern": {
             "fillmode": "overlay",
             "size": 10,
             "solidity": 0.2
            },
            "type": "scatter"
           }
          ],
          "scatter3d": [
           {
            "line": {
             "colorbar": {
              "outlinewidth": 0,
              "ticks": ""
             }
            },
            "marker": {
             "colorbar": {
              "outlinewidth": 0,
              "ticks": ""
             }
            },
            "type": "scatter3d"
           }
          ],
          "scattercarpet": [
           {
            "marker": {
             "colorbar": {
              "outlinewidth": 0,
              "ticks": ""
             }
            },
            "type": "scattercarpet"
           }
          ],
          "scattergeo": [
           {
            "marker": {
             "colorbar": {
              "outlinewidth": 0,
              "ticks": ""
             }
            },
            "type": "scattergeo"
           }
          ],
          "scattergl": [
           {
            "marker": {
             "colorbar": {
              "outlinewidth": 0,
              "ticks": ""
             }
            },
            "type": "scattergl"
           }
          ],
          "scattermapbox": [
           {
            "marker": {
             "colorbar": {
              "outlinewidth": 0,
              "ticks": ""
             }
            },
            "type": "scattermapbox"
           }
          ],
          "scatterpolar": [
           {
            "marker": {
             "colorbar": {
              "outlinewidth": 0,
              "ticks": ""
             }
            },
            "type": "scatterpolar"
           }
          ],
          "scatterpolargl": [
           {
            "marker": {
             "colorbar": {
              "outlinewidth": 0,
              "ticks": ""
             }
            },
            "type": "scatterpolargl"
           }
          ],
          "scatterternary": [
           {
            "marker": {
             "colorbar": {
              "outlinewidth": 0,
              "ticks": ""
             }
            },
            "type": "scatterternary"
           }
          ],
          "surface": [
           {
            "colorbar": {
             "outlinewidth": 0,
             "ticks": ""
            },
            "colorscale": [
             [
              0,
              "#0d0887"
             ],
             [
              0.1111111111111111,
              "#46039f"
             ],
             [
              0.2222222222222222,
              "#7201a8"
             ],
             [
              0.3333333333333333,
              "#9c179e"
             ],
             [
              0.4444444444444444,
              "#bd3786"
             ],
             [
              0.5555555555555556,
              "#d8576b"
             ],
             [
              0.6666666666666666,
              "#ed7953"
             ],
             [
              0.7777777777777778,
              "#fb9f3a"
             ],
             [
              0.8888888888888888,
              "#fdca26"
             ],
             [
              1,
              "#f0f921"
             ]
            ],
            "type": "surface"
           }
          ],
          "table": [
           {
            "cells": {
             "fill": {
              "color": "#EBF0F8"
             },
             "line": {
              "color": "white"
             }
            },
            "header": {
             "fill": {
              "color": "#C8D4E3"
             },
             "line": {
              "color": "white"
             }
            },
            "type": "table"
           }
          ]
         },
         "layout": {
          "annotationdefaults": {
           "arrowcolor": "#2a3f5f",
           "arrowhead": 0,
           "arrowwidth": 1
          },
          "autotypenumbers": "strict",
          "coloraxis": {
           "colorbar": {
            "outlinewidth": 0,
            "ticks": ""
           }
          },
          "colorscale": {
           "diverging": [
            [
             0,
             "#8e0152"
            ],
            [
             0.1,
             "#c51b7d"
            ],
            [
             0.2,
             "#de77ae"
            ],
            [
             0.3,
             "#f1b6da"
            ],
            [
             0.4,
             "#fde0ef"
            ],
            [
             0.5,
             "#f7f7f7"
            ],
            [
             0.6,
             "#e6f5d0"
            ],
            [
             0.7,
             "#b8e186"
            ],
            [
             0.8,
             "#7fbc41"
            ],
            [
             0.9,
             "#4d9221"
            ],
            [
             1,
             "#276419"
            ]
           ],
           "sequential": [
            [
             0,
             "#0d0887"
            ],
            [
             0.1111111111111111,
             "#46039f"
            ],
            [
             0.2222222222222222,
             "#7201a8"
            ],
            [
             0.3333333333333333,
             "#9c179e"
            ],
            [
             0.4444444444444444,
             "#bd3786"
            ],
            [
             0.5555555555555556,
             "#d8576b"
            ],
            [
             0.6666666666666666,
             "#ed7953"
            ],
            [
             0.7777777777777778,
             "#fb9f3a"
            ],
            [
             0.8888888888888888,
             "#fdca26"
            ],
            [
             1,
             "#f0f921"
            ]
           ],
           "sequentialminus": [
            [
             0,
             "#0d0887"
            ],
            [
             0.1111111111111111,
             "#46039f"
            ],
            [
             0.2222222222222222,
             "#7201a8"
            ],
            [
             0.3333333333333333,
             "#9c179e"
            ],
            [
             0.4444444444444444,
             "#bd3786"
            ],
            [
             0.5555555555555556,
             "#d8576b"
            ],
            [
             0.6666666666666666,
             "#ed7953"
            ],
            [
             0.7777777777777778,
             "#fb9f3a"
            ],
            [
             0.8888888888888888,
             "#fdca26"
            ],
            [
             1,
             "#f0f921"
            ]
           ]
          },
          "colorway": [
           "#636efa",
           "#EF553B",
           "#00cc96",
           "#ab63fa",
           "#FFA15A",
           "#19d3f3",
           "#FF6692",
           "#B6E880",
           "#FF97FF",
           "#FECB52"
          ],
          "font": {
           "color": "#2a3f5f"
          },
          "geo": {
           "bgcolor": "white",
           "lakecolor": "white",
           "landcolor": "#E5ECF6",
           "showlakes": true,
           "showland": true,
           "subunitcolor": "white"
          },
          "hoverlabel": {
           "align": "left"
          },
          "hovermode": "closest",
          "mapbox": {
           "style": "light"
          },
          "paper_bgcolor": "white",
          "plot_bgcolor": "#E5ECF6",
          "polar": {
           "angularaxis": {
            "gridcolor": "white",
            "linecolor": "white",
            "ticks": ""
           },
           "bgcolor": "#E5ECF6",
           "radialaxis": {
            "gridcolor": "white",
            "linecolor": "white",
            "ticks": ""
           }
          },
          "scene": {
           "xaxis": {
            "backgroundcolor": "#E5ECF6",
            "gridcolor": "white",
            "gridwidth": 2,
            "linecolor": "white",
            "showbackground": true,
            "ticks": "",
            "zerolinecolor": "white"
           },
           "yaxis": {
            "backgroundcolor": "#E5ECF6",
            "gridcolor": "white",
            "gridwidth": 2,
            "linecolor": "white",
            "showbackground": true,
            "ticks": "",
            "zerolinecolor": "white"
           },
           "zaxis": {
            "backgroundcolor": "#E5ECF6",
            "gridcolor": "white",
            "gridwidth": 2,
            "linecolor": "white",
            "showbackground": true,
            "ticks": "",
            "zerolinecolor": "white"
           }
          },
          "shapedefaults": {
           "line": {
            "color": "#2a3f5f"
           }
          },
          "ternary": {
           "aaxis": {
            "gridcolor": "white",
            "linecolor": "white",
            "ticks": ""
           },
           "baxis": {
            "gridcolor": "white",
            "linecolor": "white",
            "ticks": ""
           },
           "bgcolor": "#E5ECF6",
           "caxis": {
            "gridcolor": "white",
            "linecolor": "white",
            "ticks": ""
           }
          },
          "title": {
           "x": 0.05
          },
          "xaxis": {
           "automargin": true,
           "gridcolor": "white",
           "linecolor": "white",
           "ticks": "",
           "title": {
            "standoff": 15
           },
           "zerolinecolor": "white",
           "zerolinewidth": 2
          },
          "yaxis": {
           "automargin": true,
           "gridcolor": "white",
           "linecolor": "white",
           "ticks": "",
           "title": {
            "standoff": 15
           },
           "zerolinecolor": "white",
           "zerolinewidth": 2
          }
         }
        },
        "title": {
         "font": {
          "color": "deepskyblue",
          "size": 20
         },
         "text": "Holt Winters Prediction Weekly Min Temperature 2022-01-09 to 2023-01-01",
         "x": 0.5,
         "xanchor": "center",
         "y": 0.95
        },
        "xaxis": {
         "anchor": "y",
         "domain": [
          0,
          1
         ],
         "title": {
          "text": "Date"
         }
        },
        "yaxis": {
         "anchor": "x",
         "domain": [
          0,
          1
         ],
         "title": {
          "text": "Temperature"
         }
        }
       }
      },
      "text/html": [
       "<div>                            <div id=\"c0adfc38-e8ce-4e46-9f34-7f1d1c903059\" class=\"plotly-graph-div\" style=\"height:525px; width:100%;\"></div>            <script type=\"text/javascript\">                require([\"plotly\"], function(Plotly) {                    window.PLOTLYENV=window.PLOTLYENV || {};                                    if (document.getElementById(\"c0adfc38-e8ce-4e46-9f34-7f1d1c903059\")) {                    Plotly.newPlot(                        \"c0adfc38-e8ce-4e46-9f34-7f1d1c903059\",                        [{\"hovertemplate\":\"x=%{x}<br>y=%{y}<extra></extra>\",\"legendgroup\":\"\",\"line\":{\"color\":\"#636efa\",\"dash\":\"solid\"},\"marker\":{\"symbol\":\"circle\"},\"mode\":\"lines\",\"name\":\"\",\"orientation\":\"v\",\"showlegend\":false,\"x\":[\"2022-01-09T00:00:00\",\"2022-01-16T00:00:00\",\"2022-01-23T00:00:00\",\"2022-01-30T00:00:00\",\"2022-02-06T00:00:00\",\"2022-02-13T00:00:00\",\"2022-02-20T00:00:00\",\"2022-02-27T00:00:00\",\"2022-03-06T00:00:00\",\"2022-03-13T00:00:00\",\"2022-03-20T00:00:00\",\"2022-03-27T00:00:00\",\"2022-04-03T00:00:00\",\"2022-04-10T00:00:00\",\"2022-04-17T00:00:00\",\"2022-04-24T00:00:00\",\"2022-05-01T00:00:00\",\"2022-05-08T00:00:00\",\"2022-05-15T00:00:00\",\"2022-05-22T00:00:00\",\"2022-05-29T00:00:00\",\"2022-06-05T00:00:00\",\"2022-06-12T00:00:00\",\"2022-06-19T00:00:00\",\"2022-06-26T00:00:00\",\"2022-07-03T00:00:00\",\"2022-07-10T00:00:00\",\"2022-07-17T00:00:00\",\"2022-07-24T00:00:00\",\"2022-07-31T00:00:00\",\"2022-08-07T00:00:00\",\"2022-08-14T00:00:00\",\"2022-08-21T00:00:00\",\"2022-08-28T00:00:00\",\"2022-09-04T00:00:00\",\"2022-09-11T00:00:00\",\"2022-09-18T00:00:00\",\"2022-09-25T00:00:00\",\"2022-10-02T00:00:00\",\"2022-10-09T00:00:00\",\"2022-10-16T00:00:00\",\"2022-10-23T00:00:00\",\"2022-10-30T00:00:00\",\"2022-11-06T00:00:00\",\"2022-11-13T00:00:00\",\"2022-11-20T00:00:00\",\"2022-11-27T00:00:00\",\"2022-12-04T00:00:00\",\"2022-12-11T00:00:00\",\"2022-12-18T00:00:00\",\"2022-12-25T00:00:00\",\"2023-01-01T00:00:00\"],\"xaxis\":\"x\",\"y\":[-7.873197018473636,-11.648214045228283,-9.97308152233648,-13.723133279438443,-13.998275665799607,-15.248191086044638,-9.148142540592218,-6.348121272359319,-7.623185871924,-1.0732488890196477,-1.6482089221529872,-0.6482211444584554,-2.1982485768323787,2.651755817808039,0.30182131925946454,1.7018770018962095,5.301887057869346,5.026862342584214,6.001876621395201,11.701831866184458,10.726854405477107,12.27685288797981,16.151880430040094,14.751898986292815,16.976889325977066,18.90192660901462,18.626874440406,20.176890052628035,18.50189050495623,18.076935915918778,17.952012452796737,18.75186819552438,17.676897193469344,18.526927144817215,15.726924596898609,15.001823045027283,14.201893221183086,11.151851201203794,11.152004855759536,6.827094415037067,3.3768877867890845,4.326906424850513,0.8519172406943865,-3.573109658059386,-4.148025665058252,-2.04814094355881,-3.2981540568545915,-3.9731406287512723,-6.9232462570351565,-4.573075115739739,-6.098135216587046,-6.818064740840509],\"yaxis\":\"y\",\"type\":\"scatter\"}],                        {\"template\":{\"data\":{\"histogram2dcontour\":[{\"type\":\"histogram2dcontour\",\"colorbar\":{\"outlinewidth\":0,\"ticks\":\"\"},\"colorscale\":[[0.0,\"#0d0887\"],[0.1111111111111111,\"#46039f\"],[0.2222222222222222,\"#7201a8\"],[0.3333333333333333,\"#9c179e\"],[0.4444444444444444,\"#bd3786\"],[0.5555555555555556,\"#d8576b\"],[0.6666666666666666,\"#ed7953\"],[0.7777777777777778,\"#fb9f3a\"],[0.8888888888888888,\"#fdca26\"],[1.0,\"#f0f921\"]]}],\"choropleth\":[{\"type\":\"choropleth\",\"colorbar\":{\"outlinewidth\":0,\"ticks\":\"\"}}],\"histogram2d\":[{\"type\":\"histogram2d\",\"colorbar\":{\"outlinewidth\":0,\"ticks\":\"\"},\"colorscale\":[[0.0,\"#0d0887\"],[0.1111111111111111,\"#46039f\"],[0.2222222222222222,\"#7201a8\"],[0.3333333333333333,\"#9c179e\"],[0.4444444444444444,\"#bd3786\"],[0.5555555555555556,\"#d8576b\"],[0.6666666666666666,\"#ed7953\"],[0.7777777777777778,\"#fb9f3a\"],[0.8888888888888888,\"#fdca26\"],[1.0,\"#f0f921\"]]}],\"heatmap\":[{\"type\":\"heatmap\",\"colorbar\":{\"outlinewidth\":0,\"ticks\":\"\"},\"colorscale\":[[0.0,\"#0d0887\"],[0.1111111111111111,\"#46039f\"],[0.2222222222222222,\"#7201a8\"],[0.3333333333333333,\"#9c179e\"],[0.4444444444444444,\"#bd3786\"],[0.5555555555555556,\"#d8576b\"],[0.6666666666666666,\"#ed7953\"],[0.7777777777777778,\"#fb9f3a\"],[0.8888888888888888,\"#fdca26\"],[1.0,\"#f0f921\"]]}],\"heatmapgl\":[{\"type\":\"heatmapgl\",\"colorbar\":{\"outlinewidth\":0,\"ticks\":\"\"},\"colorscale\":[[0.0,\"#0d0887\"],[0.1111111111111111,\"#46039f\"],[0.2222222222222222,\"#7201a8\"],[0.3333333333333333,\"#9c179e\"],[0.4444444444444444,\"#bd3786\"],[0.5555555555555556,\"#d8576b\"],[0.6666666666666666,\"#ed7953\"],[0.7777777777777778,\"#fb9f3a\"],[0.8888888888888888,\"#fdca26\"],[1.0,\"#f0f921\"]]}],\"contourcarpet\":[{\"type\":\"contourcarpet\",\"colorbar\":{\"outlinewidth\":0,\"ticks\":\"\"}}],\"contour\":[{\"type\":\"contour\",\"colorbar\":{\"outlinewidth\":0,\"ticks\":\"\"},\"colorscale\":[[0.0,\"#0d0887\"],[0.1111111111111111,\"#46039f\"],[0.2222222222222222,\"#7201a8\"],[0.3333333333333333,\"#9c179e\"],[0.4444444444444444,\"#bd3786\"],[0.5555555555555556,\"#d8576b\"],[0.6666666666666666,\"#ed7953\"],[0.7777777777777778,\"#fb9f3a\"],[0.8888888888888888,\"#fdca26\"],[1.0,\"#f0f921\"]]}],\"surface\":[{\"type\":\"surface\",\"colorbar\":{\"outlinewidth\":0,\"ticks\":\"\"},\"colorscale\":[[0.0,\"#0d0887\"],[0.1111111111111111,\"#46039f\"],[0.2222222222222222,\"#7201a8\"],[0.3333333333333333,\"#9c179e\"],[0.4444444444444444,\"#bd3786\"],[0.5555555555555556,\"#d8576b\"],[0.6666666666666666,\"#ed7953\"],[0.7777777777777778,\"#fb9f3a\"],[0.8888888888888888,\"#fdca26\"],[1.0,\"#f0f921\"]]}],\"mesh3d\":[{\"type\":\"mesh3d\",\"colorbar\":{\"outlinewidth\":0,\"ticks\":\"\"}}],\"scatter\":[{\"fillpattern\":{\"fillmode\":\"overlay\",\"size\":10,\"solidity\":0.2},\"type\":\"scatter\"}],\"parcoords\":[{\"type\":\"parcoords\",\"line\":{\"colorbar\":{\"outlinewidth\":0,\"ticks\":\"\"}}}],\"scatterpolargl\":[{\"type\":\"scatterpolargl\",\"marker\":{\"colorbar\":{\"outlinewidth\":0,\"ticks\":\"\"}}}],\"bar\":[{\"error_x\":{\"color\":\"#2a3f5f\"},\"error_y\":{\"color\":\"#2a3f5f\"},\"marker\":{\"line\":{\"color\":\"#E5ECF6\",\"width\":0.5},\"pattern\":{\"fillmode\":\"overlay\",\"size\":10,\"solidity\":0.2}},\"type\":\"bar\"}],\"scattergeo\":[{\"type\":\"scattergeo\",\"marker\":{\"colorbar\":{\"outlinewidth\":0,\"ticks\":\"\"}}}],\"scatterpolar\":[{\"type\":\"scatterpolar\",\"marker\":{\"colorbar\":{\"outlinewidth\":0,\"ticks\":\"\"}}}],\"histogram\":[{\"marker\":{\"pattern\":{\"fillmode\":\"overlay\",\"size\":10,\"solidity\":0.2}},\"type\":\"histogram\"}],\"scattergl\":[{\"type\":\"scattergl\",\"marker\":{\"colorbar\":{\"outlinewidth\":0,\"ticks\":\"\"}}}],\"scatter3d\":[{\"type\":\"scatter3d\",\"line\":{\"colorbar\":{\"outlinewidth\":0,\"ticks\":\"\"}},\"marker\":{\"colorbar\":{\"outlinewidth\":0,\"ticks\":\"\"}}}],\"scattermapbox\":[{\"type\":\"scattermapbox\",\"marker\":{\"colorbar\":{\"outlinewidth\":0,\"ticks\":\"\"}}}],\"scatterternary\":[{\"type\":\"scatterternary\",\"marker\":{\"colorbar\":{\"outlinewidth\":0,\"ticks\":\"\"}}}],\"scattercarpet\":[{\"type\":\"scattercarpet\",\"marker\":{\"colorbar\":{\"outlinewidth\":0,\"ticks\":\"\"}}}],\"carpet\":[{\"aaxis\":{\"endlinecolor\":\"#2a3f5f\",\"gridcolor\":\"white\",\"linecolor\":\"white\",\"minorgridcolor\":\"white\",\"startlinecolor\":\"#2a3f5f\"},\"baxis\":{\"endlinecolor\":\"#2a3f5f\",\"gridcolor\":\"white\",\"linecolor\":\"white\",\"minorgridcolor\":\"white\",\"startlinecolor\":\"#2a3f5f\"},\"type\":\"carpet\"}],\"table\":[{\"cells\":{\"fill\":{\"color\":\"#EBF0F8\"},\"line\":{\"color\":\"white\"}},\"header\":{\"fill\":{\"color\":\"#C8D4E3\"},\"line\":{\"color\":\"white\"}},\"type\":\"table\"}],\"barpolar\":[{\"marker\":{\"line\":{\"color\":\"#E5ECF6\",\"width\":0.5},\"pattern\":{\"fillmode\":\"overlay\",\"size\":10,\"solidity\":0.2}},\"type\":\"barpolar\"}],\"pie\":[{\"automargin\":true,\"type\":\"pie\"}]},\"layout\":{\"autotypenumbers\":\"strict\",\"colorway\":[\"#636efa\",\"#EF553B\",\"#00cc96\",\"#ab63fa\",\"#FFA15A\",\"#19d3f3\",\"#FF6692\",\"#B6E880\",\"#FF97FF\",\"#FECB52\"],\"font\":{\"color\":\"#2a3f5f\"},\"hovermode\":\"closest\",\"hoverlabel\":{\"align\":\"left\"},\"paper_bgcolor\":\"white\",\"plot_bgcolor\":\"#E5ECF6\",\"polar\":{\"bgcolor\":\"#E5ECF6\",\"angularaxis\":{\"gridcolor\":\"white\",\"linecolor\":\"white\",\"ticks\":\"\"},\"radialaxis\":{\"gridcolor\":\"white\",\"linecolor\":\"white\",\"ticks\":\"\"}},\"ternary\":{\"bgcolor\":\"#E5ECF6\",\"aaxis\":{\"gridcolor\":\"white\",\"linecolor\":\"white\",\"ticks\":\"\"},\"baxis\":{\"gridcolor\":\"white\",\"linecolor\":\"white\",\"ticks\":\"\"},\"caxis\":{\"gridcolor\":\"white\",\"linecolor\":\"white\",\"ticks\":\"\"}},\"coloraxis\":{\"colorbar\":{\"outlinewidth\":0,\"ticks\":\"\"}},\"colorscale\":{\"sequential\":[[0.0,\"#0d0887\"],[0.1111111111111111,\"#46039f\"],[0.2222222222222222,\"#7201a8\"],[0.3333333333333333,\"#9c179e\"],[0.4444444444444444,\"#bd3786\"],[0.5555555555555556,\"#d8576b\"],[0.6666666666666666,\"#ed7953\"],[0.7777777777777778,\"#fb9f3a\"],[0.8888888888888888,\"#fdca26\"],[1.0,\"#f0f921\"]],\"sequentialminus\":[[0.0,\"#0d0887\"],[0.1111111111111111,\"#46039f\"],[0.2222222222222222,\"#7201a8\"],[0.3333333333333333,\"#9c179e\"],[0.4444444444444444,\"#bd3786\"],[0.5555555555555556,\"#d8576b\"],[0.6666666666666666,\"#ed7953\"],[0.7777777777777778,\"#fb9f3a\"],[0.8888888888888888,\"#fdca26\"],[1.0,\"#f0f921\"]],\"diverging\":[[0,\"#8e0152\"],[0.1,\"#c51b7d\"],[0.2,\"#de77ae\"],[0.3,\"#f1b6da\"],[0.4,\"#fde0ef\"],[0.5,\"#f7f7f7\"],[0.6,\"#e6f5d0\"],[0.7,\"#b8e186\"],[0.8,\"#7fbc41\"],[0.9,\"#4d9221\"],[1,\"#276419\"]]},\"xaxis\":{\"gridcolor\":\"white\",\"linecolor\":\"white\",\"ticks\":\"\",\"title\":{\"standoff\":15},\"zerolinecolor\":\"white\",\"automargin\":true,\"zerolinewidth\":2},\"yaxis\":{\"gridcolor\":\"white\",\"linecolor\":\"white\",\"ticks\":\"\",\"title\":{\"standoff\":15},\"zerolinecolor\":\"white\",\"automargin\":true,\"zerolinewidth\":2},\"scene\":{\"xaxis\":{\"backgroundcolor\":\"#E5ECF6\",\"gridcolor\":\"white\",\"linecolor\":\"white\",\"showbackground\":true,\"ticks\":\"\",\"zerolinecolor\":\"white\",\"gridwidth\":2},\"yaxis\":{\"backgroundcolor\":\"#E5ECF6\",\"gridcolor\":\"white\",\"linecolor\":\"white\",\"showbackground\":true,\"ticks\":\"\",\"zerolinecolor\":\"white\",\"gridwidth\":2},\"zaxis\":{\"backgroundcolor\":\"#E5ECF6\",\"gridcolor\":\"white\",\"linecolor\":\"white\",\"showbackground\":true,\"ticks\":\"\",\"zerolinecolor\":\"white\",\"gridwidth\":2}},\"shapedefaults\":{\"line\":{\"color\":\"#2a3f5f\"}},\"annotationdefaults\":{\"arrowcolor\":\"#2a3f5f\",\"arrowhead\":0,\"arrowwidth\":1},\"geo\":{\"bgcolor\":\"white\",\"landcolor\":\"#E5ECF6\",\"subunitcolor\":\"white\",\"showland\":true,\"showlakes\":true,\"lakecolor\":\"white\"},\"title\":{\"x\":0.05},\"mapbox\":{\"style\":\"light\"}}},\"xaxis\":{\"anchor\":\"y\",\"domain\":[0.0,1.0],\"title\":{\"text\":\"Date\"}},\"yaxis\":{\"anchor\":\"x\",\"domain\":[0.0,1.0],\"title\":{\"text\":\"Temperature\"}},\"legend\":{\"tracegroupgap\":0},\"margin\":{\"t\":60},\"title\":{\"font\":{\"color\":\"deepskyblue\",\"size\":20},\"text\":\"Holt Winters Prediction Weekly Min Temperature 2022-01-09 to 2023-01-01\",\"x\":0.5,\"y\":0.95,\"xanchor\":\"center\"}},                        {\"responsive\": true}                    ).then(function(){\n",
       "                            \n",
       "var gd = document.getElementById('c0adfc38-e8ce-4e46-9f34-7f1d1c903059');\n",
       "var x = new MutationObserver(function (mutations, observer) {{\n",
       "        var display = window.getComputedStyle(gd).display;\n",
       "        if (!display || display === 'none') {{\n",
       "            console.log([gd, 'removed!']);\n",
       "            Plotly.purge(gd);\n",
       "            observer.disconnect();\n",
       "        }}\n",
       "}});\n",
       "\n",
       "// Listen for the removal of the full notebook cells\n",
       "var notebookContainer = gd.closest('#notebook-container');\n",
       "if (notebookContainer) {{\n",
       "    x.observe(notebookContainer, {childList: true});\n",
       "}}\n",
       "\n",
       "// Listen for the clearing of the current output cell\n",
       "var outputEl = gd.closest('.output');\n",
       "if (outputEl) {{\n",
       "    x.observe(outputEl, {childList: true});\n",
       "}}\n",
       "\n",
       "                        })                };                });            </script>        </div>"
      ]
     },
     "metadata": {},
     "output_type": "display_data"
    }
   ],
   "source": [
    "figure = px.line(x=prediction.index, y=prediction)\n",
    "figure.update_layout(\n",
    "    title={\n",
    "        \"text\": f\"Holt Winters Prediction Weekly Min Temperature {figure.data[0].x[0].strftime('%Y-%m-%d')} to {figure.data[0].x[-1].strftime('%Y-%m-%d')}\",\n",
    "        \"x\": 0.5,\n",
    "        \"y\": 0.95,\n",
    "        \"xanchor\": \"center\",\n",
    "    },\n",
    "    title_font={\"color\": \"deepskyblue\", \"size\": 20},\n",
    ")\n",
    "figure.update_xaxes(title=\"Date\")\n",
    "figure.update_yaxes(title=\"Temperature\")"
   ]
  },
  {
   "cell_type": "code",
   "execution_count": 47,
   "id": "dd8f786b",
   "metadata": {},
   "outputs": [
    {
     "data": {
      "text/plain": [
       "'2022-01-09'"
      ]
     },
     "execution_count": 47,
     "metadata": {},
     "output_type": "execute_result"
    }
   ],
   "source": [
    "figure.data[0].x[0].strftime(\"%Y-%m-%d\")"
   ]
  },
  {
   "cell_type": "code",
   "execution_count": 51,
   "id": "781a64d4",
   "metadata": {},
   "outputs": [
    {
     "data": {
      "text/plain": [
       "'Holt Winters Prediction 2022-01-09 to 2023-01-01'"
      ]
     },
     "execution_count": 51,
     "metadata": {},
     "output_type": "execute_result"
    }
   ],
   "source": [
    "f\"Holt Winters Prediction {figure.data[0].x[0].strftime('%Y-%m-%d')} to {figure.data[0].x[-1].strftime('%Y-%m-%d')}\""
   ]
  },
  {
   "cell_type": "code",
   "execution_count": 7,
   "id": "e1a31b36",
   "metadata": {},
   "outputs": [],
   "source": [
    "t = 2015"
   ]
  },
  {
   "cell_type": "code",
   "execution_count": 8,
   "id": "49458fad",
   "metadata": {},
   "outputs": [],
   "source": [
    "df_test = get_weather_data(\n",
    "    \"Chicago, IL, 60601, US\", f\"{str(t)}-01-01\", \"2023-12-31\"\n",
    ")"
   ]
  },
  {
   "cell_type": "code",
   "execution_count": 9,
   "id": "cab22a0d",
   "metadata": {},
   "outputs": [
    {
     "data": {
      "text/html": [
       "<div>\n",
       "<style scoped>\n",
       "    .dataframe tbody tr th:only-of-type {\n",
       "        vertical-align: middle;\n",
       "    }\n",
       "\n",
       "    .dataframe tbody tr th {\n",
       "        vertical-align: top;\n",
       "    }\n",
       "\n",
       "    .dataframe thead th {\n",
       "        text-align: right;\n",
       "    }\n",
       "</style>\n",
       "<table border=\"1\" class=\"dataframe\">\n",
       "  <thead>\n",
       "    <tr style=\"text-align: right;\">\n",
       "      <th></th>\n",
       "      <th>tavg</th>\n",
       "      <th>tmin</th>\n",
       "      <th>tmax</th>\n",
       "      <th>prcp</th>\n",
       "      <th>snow</th>\n",
       "      <th>wdir</th>\n",
       "      <th>wspd</th>\n",
       "      <th>wpgt</th>\n",
       "      <th>pres</th>\n",
       "      <th>tsun</th>\n",
       "    </tr>\n",
       "    <tr>\n",
       "      <th>time</th>\n",
       "      <th></th>\n",
       "      <th></th>\n",
       "      <th></th>\n",
       "      <th></th>\n",
       "      <th></th>\n",
       "      <th></th>\n",
       "      <th></th>\n",
       "      <th></th>\n",
       "      <th></th>\n",
       "      <th></th>\n",
       "    </tr>\n",
       "  </thead>\n",
       "  <tbody>\n",
       "    <tr>\n",
       "      <th>2015-01-01</th>\n",
       "      <td>-4.3</td>\n",
       "      <td>-8.3</td>\n",
       "      <td>0.0</td>\n",
       "      <td>0.0</td>\n",
       "      <td>0.0</td>\n",
       "      <td>240.0</td>\n",
       "      <td>25.5</td>\n",
       "      <td>NaN</td>\n",
       "      <td>1019.8</td>\n",
       "      <td>NaN</td>\n",
       "    </tr>\n",
       "    <tr>\n",
       "      <th>2015-01-02</th>\n",
       "      <td>-1.5</td>\n",
       "      <td>-6.7</td>\n",
       "      <td>2.2</td>\n",
       "      <td>0.0</td>\n",
       "      <td>0.0</td>\n",
       "      <td>NaN</td>\n",
       "      <td>7.8</td>\n",
       "      <td>NaN</td>\n",
       "      <td>1025.3</td>\n",
       "      <td>NaN</td>\n",
       "    </tr>\n",
       "    <tr>\n",
       "      <th>2015-01-03</th>\n",
       "      <td>1.6</td>\n",
       "      <td>-0.6</td>\n",
       "      <td>2.8</td>\n",
       "      <td>15.0</td>\n",
       "      <td>0.0</td>\n",
       "      <td>NaN</td>\n",
       "      <td>8.5</td>\n",
       "      <td>NaN</td>\n",
       "      <td>1013.7</td>\n",
       "      <td>NaN</td>\n",
       "    </tr>\n",
       "    <tr>\n",
       "      <th>2015-01-04</th>\n",
       "      <td>-3.7</td>\n",
       "      <td>-15.0</td>\n",
       "      <td>2.2</td>\n",
       "      <td>4.6</td>\n",
       "      <td>51.0</td>\n",
       "      <td>305.0</td>\n",
       "      <td>20.2</td>\n",
       "      <td>NaN</td>\n",
       "      <td>NaN</td>\n",
       "      <td>NaN</td>\n",
       "    </tr>\n",
       "    <tr>\n",
       "      <th>2015-01-05</th>\n",
       "      <td>-15.6</td>\n",
       "      <td>-18.3</td>\n",
       "      <td>-12.2</td>\n",
       "      <td>3.8</td>\n",
       "      <td>102.0</td>\n",
       "      <td>NaN</td>\n",
       "      <td>17.5</td>\n",
       "      <td>NaN</td>\n",
       "      <td>NaN</td>\n",
       "      <td>NaN</td>\n",
       "    </tr>\n",
       "    <tr>\n",
       "      <th>...</th>\n",
       "      <td>...</td>\n",
       "      <td>...</td>\n",
       "      <td>...</td>\n",
       "      <td>...</td>\n",
       "      <td>...</td>\n",
       "      <td>...</td>\n",
       "      <td>...</td>\n",
       "      <td>...</td>\n",
       "      <td>...</td>\n",
       "      <td>...</td>\n",
       "    </tr>\n",
       "    <tr>\n",
       "      <th>2023-11-19</th>\n",
       "      <td>5.8</td>\n",
       "      <td>1.8</td>\n",
       "      <td>9.8</td>\n",
       "      <td>NaN</td>\n",
       "      <td>NaN</td>\n",
       "      <td>316.0</td>\n",
       "      <td>12.0</td>\n",
       "      <td>NaN</td>\n",
       "      <td>1016.5</td>\n",
       "      <td>NaN</td>\n",
       "    </tr>\n",
       "    <tr>\n",
       "      <th>2023-11-20</th>\n",
       "      <td>5.9</td>\n",
       "      <td>3.3</td>\n",
       "      <td>8.6</td>\n",
       "      <td>NaN</td>\n",
       "      <td>NaN</td>\n",
       "      <td>137.0</td>\n",
       "      <td>15.1</td>\n",
       "      <td>NaN</td>\n",
       "      <td>1018.2</td>\n",
       "      <td>NaN</td>\n",
       "    </tr>\n",
       "    <tr>\n",
       "      <th>2023-11-21</th>\n",
       "      <td>5.5</td>\n",
       "      <td>3.9</td>\n",
       "      <td>8.1</td>\n",
       "      <td>NaN</td>\n",
       "      <td>NaN</td>\n",
       "      <td>239.0</td>\n",
       "      <td>15.6</td>\n",
       "      <td>NaN</td>\n",
       "      <td>1016.8</td>\n",
       "      <td>NaN</td>\n",
       "    </tr>\n",
       "    <tr>\n",
       "      <th>2023-11-22</th>\n",
       "      <td>4.0</td>\n",
       "      <td>1.3</td>\n",
       "      <td>5.8</td>\n",
       "      <td>NaN</td>\n",
       "      <td>NaN</td>\n",
       "      <td>262.0</td>\n",
       "      <td>16.7</td>\n",
       "      <td>NaN</td>\n",
       "      <td>1016.0</td>\n",
       "      <td>NaN</td>\n",
       "    </tr>\n",
       "    <tr>\n",
       "      <th>2023-11-23</th>\n",
       "      <td>3.2</td>\n",
       "      <td>0.6</td>\n",
       "      <td>5.4</td>\n",
       "      <td>NaN</td>\n",
       "      <td>NaN</td>\n",
       "      <td>252.0</td>\n",
       "      <td>16.5</td>\n",
       "      <td>NaN</td>\n",
       "      <td>1016.5</td>\n",
       "      <td>NaN</td>\n",
       "    </tr>\n",
       "  </tbody>\n",
       "</table>\n",
       "<p>3249 rows × 10 columns</p>\n",
       "</div>"
      ],
      "text/plain": [
       "            tavg  tmin  tmax  prcp   snow   wdir  wspd  wpgt    pres  tsun\n",
       "time                                                                      \n",
       "2015-01-01  -4.3  -8.3   0.0   0.0    0.0  240.0  25.5   NaN  1019.8   NaN\n",
       "2015-01-02  -1.5  -6.7   2.2   0.0    0.0    NaN   7.8   NaN  1025.3   NaN\n",
       "2015-01-03   1.6  -0.6   2.8  15.0    0.0    NaN   8.5   NaN  1013.7   NaN\n",
       "2015-01-04  -3.7 -15.0   2.2   4.6   51.0  305.0  20.2   NaN     NaN   NaN\n",
       "2015-01-05 -15.6 -18.3 -12.2   3.8  102.0    NaN  17.5   NaN     NaN   NaN\n",
       "...          ...   ...   ...   ...    ...    ...   ...   ...     ...   ...\n",
       "2023-11-19   5.8   1.8   9.8   NaN    NaN  316.0  12.0   NaN  1016.5   NaN\n",
       "2023-11-20   5.9   3.3   8.6   NaN    NaN  137.0  15.1   NaN  1018.2   NaN\n",
       "2023-11-21   5.5   3.9   8.1   NaN    NaN  239.0  15.6   NaN  1016.8   NaN\n",
       "2023-11-22   4.0   1.3   5.8   NaN    NaN  262.0  16.7   NaN  1016.0   NaN\n",
       "2023-11-23   3.2   0.6   5.4   NaN    NaN  252.0  16.5   NaN  1016.5   NaN\n",
       "\n",
       "[3249 rows x 10 columns]"
      ]
     },
     "execution_count": 9,
     "metadata": {},
     "output_type": "execute_result"
    }
   ],
   "source": [
    "df_test"
   ]
  },
  {
   "cell_type": "code",
   "execution_count": 10,
   "id": "27c37aee",
   "metadata": {},
   "outputs": [
    {
     "data": {
      "text/plain": [
       "time\n",
       "2015-01-04   -15.0\n",
       "2015-01-11   -21.7\n",
       "2015-01-18   -15.0\n",
       "2015-01-25    -3.3\n",
       "2015-02-01    -6.1\n",
       "              ... \n",
       "2023-10-29     3.9\n",
       "2023-11-05    -2.8\n",
       "2023-11-12     0.0\n",
       "2023-11-19    -1.0\n",
       "2023-11-26     0.6\n",
       "Freq: W-SUN, Name: tmin, Length: 465, dtype: float64"
      ]
     },
     "execution_count": 10,
     "metadata": {},
     "output_type": "execute_result"
    }
   ],
   "source": [
    "df_test[\"tmin\"].resample(\"W\").min()"
   ]
  },
  {
   "cell_type": "code",
   "execution_count": 11,
   "id": "49fa75f8",
   "metadata": {},
   "outputs": [],
   "source": [
    "years = list(range(1980, 2022))"
   ]
  },
  {
   "cell_type": "code",
   "execution_count": 12,
   "id": "3ccc00f8",
   "metadata": {},
   "outputs": [],
   "source": [
    "df_dict = {}\n",
    "pred_dict = {}\n",
    "os_dict = {}"
   ]
  },
  {
   "cell_type": "code",
   "execution_count": 13,
   "id": "2a292e6b",
   "metadata": {},
   "outputs": [],
   "source": [
    "for year in years:\n",
    "    df = get_weather_data(\"Chicago, IL\", \"1970-01-01\", f\"{str(year)}-12-31\")\n",
    "    prediction, os = hw_weekly_frost_date_forecast(df)\n",
    "    df_dict[year + 1] = get_weather_data(\n",
    "        \"Chicago, IL\", f\"{str(year+1)}-01-01\", f\"{str(year+1)}-12-31\"\n",
    "    )\n",
    "    pred_dict[year + 1] = prediction\n",
    "    os_dict[year + 1] = os"
   ]
  },
  {
   "cell_type": "code",
   "execution_count": 14,
   "id": "06c13e94",
   "metadata": {},
   "outputs": [
    {
     "data": {
      "text/plain": [
       "DatetimeIndex(['1982-01-10', '1982-01-17', '1982-01-24', '1982-01-31',\n",
       "               '1982-02-07', '1982-02-14', '1982-02-21', '1982-02-28',\n",
       "               '1982-03-07', '1982-03-14', '1982-03-21', '1982-03-28',\n",
       "               '1982-04-04', '1982-04-11', '1982-04-18', '1982-04-25',\n",
       "               '1982-05-02', '1982-05-09', '1982-05-16', '1982-05-23',\n",
       "               '1982-05-30', '1982-06-06', '1982-06-13', '1982-06-20',\n",
       "               '1982-06-27', '1982-07-04', '1982-07-11', '1982-07-18',\n",
       "               '1982-07-25', '1982-08-01', '1982-08-08', '1982-08-15',\n",
       "               '1982-08-22', '1982-08-29', '1982-09-05', '1982-09-12',\n",
       "               '1982-09-19', '1982-09-26', '1982-10-03', '1982-10-10',\n",
       "               '1982-10-17', '1982-10-24', '1982-10-31', '1982-11-07',\n",
       "               '1982-11-14', '1982-11-21', '1982-11-28', '1982-12-05',\n",
       "               '1982-12-12', '1982-12-19', '1982-12-26', '1983-01-02'],\n",
       "              dtype='datetime64[ns]', freq='W-SUN')"
      ]
     },
     "execution_count": 14,
     "metadata": {},
     "output_type": "execute_result"
    }
   ],
   "source": [
    "pred_dict[1982].index"
   ]
  },
  {
   "cell_type": "code",
   "execution_count": 15,
   "id": "da7065ea",
   "metadata": {},
   "outputs": [
    {
     "data": {
      "text/plain": [
       "time\n",
       "1982-01-03    -8.9\n",
       "1982-01-10   -30.0\n",
       "1982-01-17   -27.2\n",
       "1982-01-24   -19.4\n",
       "1982-01-31   -22.8\n",
       "1982-02-07   -24.4\n",
       "1982-02-14   -24.4\n",
       "1982-02-21    -3.3\n",
       "1982-02-28   -11.1\n",
       "1982-03-07   -13.3\n",
       "1982-03-14   -16.1\n",
       "1982-03-21     0.0\n",
       "1982-03-28    -7.2\n",
       "1982-04-04    -7.2\n",
       "1982-04-11   -12.2\n",
       "1982-04-18    -0.6\n",
       "1982-04-25    -1.1\n",
       "1982-05-02     0.0\n",
       "1982-05-09     8.3\n",
       "1982-05-16    13.3\n",
       "1982-05-23     7.2\n",
       "1982-05-30    11.7\n",
       "1982-06-06     6.7\n",
       "1982-06-13     8.3\n",
       "1982-06-20     7.2\n",
       "1982-06-27     8.3\n",
       "1982-07-04     9.4\n",
       "1982-07-11    14.4\n",
       "1982-07-18    16.1\n",
       "1982-07-25    17.2\n",
       "1982-08-01    13.9\n",
       "1982-08-08    17.8\n",
       "1982-08-15    10.0\n",
       "1982-08-22    13.3\n",
       "1982-08-29     7.8\n",
       "1982-09-05    10.6\n",
       "1982-09-12    12.2\n",
       "1982-09-19     6.7\n",
       "1982-09-26     5.6\n",
       "1982-10-03     8.9\n",
       "1982-10-10     7.2\n",
       "1982-10-17     1.1\n",
       "1982-10-24    -2.8\n",
       "1982-10-31    -1.7\n",
       "1982-11-07    -2.8\n",
       "1982-11-14    -6.1\n",
       "1982-11-21    -8.9\n",
       "1982-11-28    -8.3\n",
       "1982-12-05     2.8\n",
       "1982-12-12   -12.8\n",
       "1982-12-19    -8.9\n",
       "1982-12-26    -8.3\n",
       "1983-01-02    -9.4\n",
       "Freq: W-SUN, Name: tmin, dtype: float64"
      ]
     },
     "execution_count": 15,
     "metadata": {},
     "output_type": "execute_result"
    }
   ],
   "source": [
    "df_dict[1982][\"tmin\"].resample(\"W\").min()"
   ]
  },
  {
   "cell_type": "code",
   "execution_count": 16,
   "id": "7963755b",
   "metadata": {},
   "outputs": [
    {
     "data": {
      "text/plain": [
       "0.5"
      ]
     },
     "execution_count": 16,
     "metadata": {},
     "output_type": "execute_result"
    }
   ],
   "source": [
    "os_dict[1982]"
   ]
  },
  {
   "cell_type": "code",
   "execution_count": 17,
   "id": "ab0c1fc0",
   "metadata": {},
   "outputs": [],
   "source": [
    "def binarize(df, cols, thresh=0):\n",
    "    \"\"\"\n",
    "    A function to binarize weather data.\n",
    "    Sets values less than 0 to 1 and sets values greater then 0 to 0.\n",
    "\n",
    "    Parameters:\n",
    "\n",
    "    df : pandas.DataFrame\n",
    "        A DataFrame object containing weather data.\n",
    "\n",
    "    cols : str | list\n",
    "        A string or list of strings containing\n",
    "        the names of columns in df to binarize.\n",
    "\n",
    "    thresh : float\n",
    "        A number to split the binarization on.\n",
    "        Values below thresh are assigned 1,\n",
    "        values above thresh are assigned 0.\n",
    "\n",
    "\n",
    "    Returns:\n",
    "\n",
    "    df : pandas.DataFrame\n",
    "        A DataFrame containing the original columns of df and\n",
    "        the new columns of binarized data.\n",
    "    \"\"\"\n",
    "\n",
    "    if isinstance(cols, str):\n",
    "        df[cols + \"_bin\"] = df[cols]\n",
    "\n",
    "        for i, temp in enumerate(df[cols + \"_bin\"]):\n",
    "            if temp <= thresh:\n",
    "                df[cols + \"_bin\"].iloc[i] = 1\n",
    "            else:\n",
    "                df[cols + \"_bin\"].iloc[i] = 0\n",
    "\n",
    "    elif isinstance(cols, list):\n",
    "        for col in cols:\n",
    "            df[col + \"_bin\"] = df[col]\n",
    "\n",
    "            for i, temp in enumerate(df[col + \"_bin\"]):\n",
    "                if temp <= thresh:\n",
    "                    df[col + \"_bin\"].iloc[i] = 1\n",
    "                else:\n",
    "                    df[col + \"_bin\"].iloc[i] = 0\n",
    "\n",
    "    return df"
   ]
  },
  {
   "cell_type": "code",
   "execution_count": 18,
   "id": "d1ab44bd",
   "metadata": {},
   "outputs": [],
   "source": [
    "test_pred = pred_dict[1981]"
   ]
  },
  {
   "cell_type": "code",
   "execution_count": 19,
   "id": "34ee4758",
   "metadata": {},
   "outputs": [
    {
     "data": {
      "text/plain": [
       "-12.55235537410323"
      ]
     },
     "execution_count": 19,
     "metadata": {},
     "output_type": "execute_result"
    }
   ],
   "source": [
    "test_pred.iloc[1]"
   ]
  },
  {
   "cell_type": "code",
   "execution_count": 20,
   "id": "ccda93e9",
   "metadata": {},
   "outputs": [],
   "source": [
    "for i, temp in enumerate(test_pred):\n",
    "    if temp <= 0:\n",
    "        test_pred.iloc[i] = 1\n",
    "    else:\n",
    "        test_pred.iloc[i] = 0"
   ]
  },
  {
   "cell_type": "code",
   "execution_count": 21,
   "id": "7c86842b",
   "metadata": {},
   "outputs": [
    {
     "data": {
      "text/plain": [
       "1981-01-11    1.0\n",
       "1981-01-18    1.0\n",
       "1981-01-25    1.0\n",
       "1981-02-01    1.0\n",
       "1981-02-08    1.0\n",
       "1981-02-15    1.0\n",
       "1981-02-22    1.0\n",
       "1981-03-01    1.0\n",
       "1981-03-08    1.0\n",
       "1981-03-15    1.0\n",
       "1981-03-22    1.0\n",
       "1981-03-29    1.0\n",
       "1981-04-05    0.0\n",
       "1981-04-12    0.0\n",
       "1981-04-19    0.0\n",
       "1981-04-26    0.0\n",
       "1981-05-03    0.0\n",
       "1981-05-10    0.0\n",
       "1981-05-17    0.0\n",
       "1981-05-24    0.0\n",
       "1981-05-31    0.0\n",
       "1981-06-07    0.0\n",
       "1981-06-14    0.0\n",
       "1981-06-21    0.0\n",
       "1981-06-28    0.0\n",
       "1981-07-05    0.0\n",
       "1981-07-12    0.0\n",
       "1981-07-19    0.0\n",
       "1981-07-26    0.0\n",
       "1981-08-02    0.0\n",
       "1981-08-09    0.0\n",
       "1981-08-16    0.0\n",
       "1981-08-23    0.0\n",
       "1981-08-30    0.0\n",
       "1981-09-06    0.0\n",
       "1981-09-13    0.0\n",
       "1981-09-20    0.0\n",
       "1981-09-27    0.0\n",
       "1981-10-04    0.0\n",
       "1981-10-11    0.0\n",
       "1981-10-18    0.0\n",
       "1981-10-25    0.0\n",
       "1981-11-01    0.0\n",
       "1981-11-08    1.0\n",
       "1981-11-15    1.0\n",
       "1981-11-22    1.0\n",
       "1981-11-29    1.0\n",
       "1981-12-06    1.0\n",
       "1981-12-13    1.0\n",
       "1981-12-20    1.0\n",
       "1981-12-27    1.0\n",
       "1982-01-03    1.0\n",
       "Freq: W-SUN, dtype: float64"
      ]
     },
     "execution_count": 21,
     "metadata": {},
     "output_type": "execute_result"
    }
   ],
   "source": [
    "test_pred"
   ]
  },
  {
   "cell_type": "code",
   "execution_count": 22,
   "id": "85fb8527",
   "metadata": {},
   "outputs": [],
   "source": [
    "pred_dict_copy = copy.deepcopy(pred_dict)"
   ]
  },
  {
   "cell_type": "code",
   "execution_count": 23,
   "id": "4122a9ad",
   "metadata": {},
   "outputs": [
    {
     "data": {
      "text/plain": [
       "dict_keys([1981, 1982, 1983, 1984, 1985, 1986, 1987, 1988, 1989, 1990, 1991, 1992, 1993, 1994, 1995, 1996, 1997, 1998, 1999, 2000, 2001, 2002, 2003, 2004, 2005, 2006, 2007, 2008, 2009, 2010, 2011, 2012, 2013, 2014, 2015, 2016, 2017, 2018, 2019, 2020, 2021, 2022])"
      ]
     },
     "execution_count": 23,
     "metadata": {},
     "output_type": "execute_result"
    }
   ],
   "source": [
    "pred_dict_copy.keys()"
   ]
  },
  {
   "cell_type": "code",
   "execution_count": 24,
   "id": "e1d7d24b",
   "metadata": {},
   "outputs": [],
   "source": [
    "for year in pred_dict_copy.keys():\n",
    "    for i, temp in enumerate(pred_dict_copy[year]):\n",
    "        if temp <= 0:\n",
    "            pred_dict_copy[year].iloc[i] = 1\n",
    "        else:\n",
    "            pred_dict_copy[year].iloc[i] = 0"
   ]
  },
  {
   "cell_type": "code",
   "execution_count": 25,
   "id": "bf6c9df4",
   "metadata": {},
   "outputs": [
    {
     "data": {
      "text/plain": [
       "1982-01-10    1.0\n",
       "1982-01-17    1.0\n",
       "1982-01-24    1.0\n",
       "1982-01-31    1.0\n",
       "1982-02-07    1.0\n",
       "1982-02-14    1.0\n",
       "1982-02-21    1.0\n",
       "1982-02-28    1.0\n",
       "1982-03-07    1.0\n",
       "1982-03-14    1.0\n",
       "1982-03-21    1.0\n",
       "1982-03-28    1.0\n",
       "1982-04-04    0.0\n",
       "1982-04-11    0.0\n",
       "1982-04-18    0.0\n",
       "1982-04-25    0.0\n",
       "1982-05-02    0.0\n",
       "1982-05-09    0.0\n",
       "1982-05-16    0.0\n",
       "1982-05-23    0.0\n",
       "1982-05-30    0.0\n",
       "1982-06-06    0.0\n",
       "1982-06-13    0.0\n",
       "1982-06-20    0.0\n",
       "1982-06-27    0.0\n",
       "1982-07-04    0.0\n",
       "1982-07-11    0.0\n",
       "1982-07-18    0.0\n",
       "1982-07-25    0.0\n",
       "1982-08-01    0.0\n",
       "1982-08-08    0.0\n",
       "1982-08-15    0.0\n",
       "1982-08-22    0.0\n",
       "1982-08-29    0.0\n",
       "1982-09-05    0.0\n",
       "1982-09-12    0.0\n",
       "1982-09-19    0.0\n",
       "1982-09-26    0.0\n",
       "1982-10-03    0.0\n",
       "1982-10-10    0.0\n",
       "1982-10-17    0.0\n",
       "1982-10-24    0.0\n",
       "1982-10-31    0.0\n",
       "1982-11-07    1.0\n",
       "1982-11-14    1.0\n",
       "1982-11-21    1.0\n",
       "1982-11-28    1.0\n",
       "1982-12-05    1.0\n",
       "1982-12-12    1.0\n",
       "1982-12-19    1.0\n",
       "1982-12-26    1.0\n",
       "1983-01-02    1.0\n",
       "Freq: W-SUN, dtype: float64"
      ]
     },
     "execution_count": 25,
     "metadata": {},
     "output_type": "execute_result"
    }
   ],
   "source": [
    "pred_dict_copy[1982]"
   ]
  },
  {
   "cell_type": "code",
   "execution_count": 26,
   "id": "a510c05e",
   "metadata": {},
   "outputs": [
    {
     "data": {
      "text/plain": [
       "1982-01-10   -15.687258\n",
       "1982-01-17   -12.856922\n",
       "1982-01-24   -14.016940\n",
       "1982-01-31   -16.982348\n",
       "1982-02-07   -14.031004\n",
       "1982-02-14   -10.272049\n",
       "1982-02-21    -8.687362\n",
       "1982-02-28    -6.330950\n",
       "1982-03-07    -5.823605\n",
       "1982-03-14    -6.057247\n",
       "1982-03-21    -3.641153\n",
       "1982-03-28    -1.249192\n",
       "1982-04-04     0.184790\n",
       "1982-04-11     2.551242\n",
       "1982-04-18     2.984947\n",
       "1982-04-25     3.343351\n",
       "1982-05-02     3.728271\n",
       "1982-05-09     6.536558\n",
       "1982-05-16     9.294671\n",
       "1982-05-23     9.269665\n",
       "1982-05-30    11.077228\n",
       "1982-06-06    12.793033\n",
       "1982-06-13    13.301720\n",
       "1982-06-20    14.685115\n",
       "1982-06-27    15.652321\n",
       "1982-07-04    17.085162\n",
       "1982-07-11    16.268119\n",
       "1982-07-18    17.384419\n",
       "1982-07-25    16.300694\n",
       "1982-08-01    15.508091\n",
       "1982-08-08    16.725880\n",
       "1982-08-15    15.651339\n",
       "1982-08-22    16.160013\n",
       "1982-08-29    14.353468\n",
       "1982-09-05    12.269822\n",
       "1982-09-12    10.112754\n",
       "1982-09-19     8.610861\n",
       "1982-09-26     6.953158\n",
       "1982-10-03     4.311294\n",
       "1982-10-10     3.802382\n",
       "1982-10-17     2.336087\n",
       "1982-10-24     1.069237\n",
       "1982-10-31     1.353391\n",
       "1982-11-07    -2.621836\n",
       "1982-11-14    -2.579023\n",
       "1982-11-21    -6.244756\n",
       "1982-11-28    -8.037714\n",
       "1982-12-05   -11.346780\n",
       "1982-12-12    -9.313463\n",
       "1982-12-19   -11.392718\n",
       "1982-12-26   -14.822083\n",
       "1983-01-02   -17.003814\n",
       "Freq: W-SUN, dtype: float64"
      ]
     },
     "execution_count": 26,
     "metadata": {},
     "output_type": "execute_result"
    }
   ],
   "source": [
    "pred_dict[1982]"
   ]
  },
  {
   "cell_type": "code",
   "execution_count": 27,
   "id": "56ef6152",
   "metadata": {},
   "outputs": [],
   "source": [
    "def get_frost_dates(data):\n",
    "    \"\"\"\n",
    "    A function that finds the dates of the first and last frost of a season\n",
    "    for every year in data.\n",
    "    First frost is defined as the first day after summer where the minimum\n",
    "    temp is <= 0C.\n",
    "    Last frost is defined as the last day before summer where the minimum temp\n",
    "    is <= 0C.\n",
    "\n",
    "\n",
    "    Parameters:\n",
    "\n",
    "    data : pandas.DataFrame\n",
    "        A DataFrame object containing weather data.\n",
    "\n",
    "\n",
    "    Returns:\n",
    "\n",
    "    first_frost : list\n",
    "        A list of the first frost dates of each year.\n",
    "\n",
    "    last_frost : list\n",
    "        A list of the last frost dates of each year.\n",
    "    \"\"\"\n",
    "\n",
    "    # If binarized column does not exist,\n",
    "    # create it.\n",
    "    if \"tmin_bin\" in data.columns:\n",
    "        pass\n",
    "    else:\n",
    "        data = binarize(data, \"tmin\")\n",
    "\n",
    "    # Create the dict data_year\n",
    "    # This is a dictionary of DataFrames\n",
    "    # for each year of data with years as keys\n",
    "    data_year = {}\n",
    "\n",
    "    for y in data.index.year.unique():\n",
    "        data_year[y] = data.loc[data.index.year == y]\n",
    "\n",
    "    # Create lists of the first and last frost dates.\n",
    "    last_frost = []\n",
    "    first_frost = []\n",
    "\n",
    "    # Divide the years in half.\n",
    "    # Note this split assumes a location in the Northern Hemisphere\n",
    "    for y in data_year.keys():\n",
    "        first_half = data_year[y].loc[data_year[y].index.month < 7]\n",
    "        second_half = data_year[y].loc[data_year[y].index.month > 7]\n",
    "\n",
    "        try:\n",
    "            last_frost.append(\n",
    "                first_half[\"tmin_bin\"][first_half[\"tmin_bin\"] == 1].index[-1]\n",
    "            )\n",
    "        except Exception:\n",
    "            last_frost.append(None)\n",
    "\n",
    "        try:\n",
    "            first_frost.append(\n",
    "                second_half[\"tmin_bin\"][second_half[\"tmin_bin\"] == 1].index[0]\n",
    "            )\n",
    "        except Exception:\n",
    "            first_frost.append(None)\n",
    "\n",
    "    return first_frost, last_frost"
   ]
  },
  {
   "cell_type": "code",
   "execution_count": 28,
   "id": "2052568b",
   "metadata": {},
   "outputs": [],
   "source": [
    "last_frost_pred = []\n",
    "first_frost_pred = []"
   ]
  },
  {
   "cell_type": "code",
   "execution_count": 29,
   "id": "349d6eee",
   "metadata": {},
   "outputs": [],
   "source": [
    "for year in pred_dict_copy.keys():\n",
    "    pred_dict_copy[year].drop(pred_dict_copy[year].index[-1], inplace=True)"
   ]
  },
  {
   "cell_type": "code",
   "execution_count": 30,
   "id": "688cbc37",
   "metadata": {},
   "outputs": [],
   "source": [
    "for year in pred_dict_copy.keys():\n",
    "    first_half = pred_dict_copy[year].loc[pred_dict_copy[year].index.month < 7]\n",
    "    second_half = pred_dict_copy[year].loc[\n",
    "        pred_dict_copy[year].index.month > 7\n",
    "    ]\n",
    "\n",
    "    try:\n",
    "        last_frost_pred.append(first_half[first_half == 1].index[-1])\n",
    "    except Exception:\n",
    "        last_frost_pred.append(None)\n",
    "\n",
    "    try:\n",
    "        first_frost_pred.append(second_half[second_half == 1].index[0])\n",
    "    except Exception:\n",
    "        first_frost_pred.append(None)"
   ]
  },
  {
   "cell_type": "code",
   "execution_count": 31,
   "id": "e7d588f0",
   "metadata": {},
   "outputs": [
    {
     "data": {
      "text/plain": [
       "[Timestamp('1981-08-02 00:00:00'),\n",
       " Timestamp('1982-11-07 00:00:00'),\n",
       " Timestamp('1983-11-06 00:00:00'),\n",
       " Timestamp('1984-09-23 00:00:00'),\n",
       " Timestamp('1985-11-17 00:00:00'),\n",
       " Timestamp('1986-09-28 00:00:00'),\n",
       " Timestamp('1987-11-15 00:00:00'),\n",
       " Timestamp('1988-11-13 00:00:00'),\n",
       " Timestamp('1989-11-12 00:00:00'),\n",
       " Timestamp('1990-09-23 00:00:00'),\n",
       " Timestamp('1991-10-27 00:00:00'),\n",
       " Timestamp('1992-11-08 00:00:00'),\n",
       " Timestamp('1993-11-07 00:00:00'),\n",
       " Timestamp('1994-11-06 00:00:00'),\n",
       " Timestamp('1995-11-19 00:00:00'),\n",
       " Timestamp('1996-10-20 00:00:00'),\n",
       " Timestamp('1997-11-02 00:00:00'),\n",
       " Timestamp('1998-11-08 00:00:00'),\n",
       " Timestamp('1999-10-31 00:00:00'),\n",
       " Timestamp('2000-10-29 00:00:00'),\n",
       " Timestamp('2001-09-23 00:00:00'),\n",
       " Timestamp('2002-11-10 00:00:00'),\n",
       " Timestamp('2003-11-09 00:00:00'),\n",
       " Timestamp('2004-11-07 00:00:00'),\n",
       " Timestamp('2005-11-06 00:00:00'),\n",
       " Timestamp('2006-10-15 00:00:00'),\n",
       " Timestamp('2007-11-04 00:00:00'),\n",
       " Timestamp('2008-11-02 00:00:00'),\n",
       " Timestamp('2009-10-25 00:00:00'),\n",
       " Timestamp('2010-10-31 00:00:00'),\n",
       " Timestamp('2011-10-30 00:00:00'),\n",
       " Timestamp('2012-11-11 00:00:00'),\n",
       " Timestamp('2013-11-10 00:00:00'),\n",
       " Timestamp('2014-10-05 00:00:00'),\n",
       " Timestamp('2015-11-15 00:00:00'),\n",
       " Timestamp('2016-11-13 00:00:00'),\n",
       " Timestamp('2017-11-12 00:00:00'),\n",
       " Timestamp('2018-11-11 00:00:00'),\n",
       " Timestamp('2019-11-10 00:00:00'),\n",
       " Timestamp('2020-11-08 00:00:00'),\n",
       " Timestamp('2021-11-07 00:00:00'),\n",
       " Timestamp('2022-11-06 00:00:00')]"
      ]
     },
     "execution_count": 31,
     "metadata": {},
     "output_type": "execute_result"
    }
   ],
   "source": [
    "first_frost_pred"
   ]
  },
  {
   "cell_type": "code",
   "execution_count": 32,
   "id": "420de56c",
   "metadata": {},
   "outputs": [
    {
     "data": {
      "text/plain": [
       "[Timestamp('1981-06-28 00:00:00'),\n",
       " Timestamp('1982-03-28 00:00:00'),\n",
       " Timestamp('1983-03-20 00:00:00'),\n",
       " Timestamp('1984-05-06 00:00:00'),\n",
       " Timestamp('1985-03-10 00:00:00'),\n",
       " Timestamp('1986-05-04 00:00:00'),\n",
       " Timestamp('1987-03-08 00:00:00'),\n",
       " Timestamp('1988-03-06 00:00:00'),\n",
       " Timestamp('1989-03-19 00:00:00'),\n",
       " Timestamp('1990-04-29 00:00:00'),\n",
       " Timestamp('1991-03-17 00:00:00'),\n",
       " Timestamp('1992-03-01 00:00:00'),\n",
       " Timestamp('1993-03-07 00:00:00'),\n",
       " Timestamp('1994-03-13 00:00:00'),\n",
       " Timestamp('1995-02-26 00:00:00'),\n",
       " Timestamp('1996-04-14 00:00:00'),\n",
       " Timestamp('1997-03-09 00:00:00'),\n",
       " Timestamp('1998-02-22 00:00:00'),\n",
       " Timestamp('1999-03-07 00:00:00'),\n",
       " Timestamp('2000-03-05 00:00:00'),\n",
       " Timestamp('2001-04-08 00:00:00'),\n",
       " Timestamp('2002-03-24 00:00:00'),\n",
       " Timestamp('2003-03-30 00:00:00'),\n",
       " Timestamp('2004-03-28 00:00:00'),\n",
       " Timestamp('2005-04-03 00:00:00'),\n",
       " Timestamp('2006-04-16 00:00:00'),\n",
       " Timestamp('2007-03-25 00:00:00'),\n",
       " Timestamp('2008-03-23 00:00:00'),\n",
       " Timestamp('2009-04-19 00:00:00'),\n",
       " Timestamp('2010-04-04 00:00:00'),\n",
       " Timestamp('2011-04-03 00:00:00'),\n",
       " Timestamp('2012-03-18 00:00:00'),\n",
       " Timestamp('2013-03-10 00:00:00'),\n",
       " Timestamp('2014-05-11 00:00:00'),\n",
       " Timestamp('2015-03-29 00:00:00'),\n",
       " Timestamp('2016-03-06 00:00:00'),\n",
       " Timestamp('2017-03-26 00:00:00'),\n",
       " Timestamp('2018-03-25 00:00:00'),\n",
       " Timestamp('2019-03-24 00:00:00'),\n",
       " Timestamp('2020-03-29 00:00:00'),\n",
       " Timestamp('2021-04-04 00:00:00'),\n",
       " Timestamp('2022-03-20 00:00:00')]"
      ]
     },
     "execution_count": 32,
     "metadata": {},
     "output_type": "execute_result"
    }
   ],
   "source": [
    "last_frost_pred"
   ]
  },
  {
   "cell_type": "code",
   "execution_count": 33,
   "id": "29c67423",
   "metadata": {},
   "outputs": [],
   "source": [
    "last_frost = []\n",
    "first_frost = []"
   ]
  },
  {
   "cell_type": "code",
   "execution_count": 34,
   "id": "58ecd93a",
   "metadata": {},
   "outputs": [],
   "source": [
    "for year in df_dict.keys():\n",
    "    first, last = get_frost_dates(df_dict[year])\n",
    "    first_frost.append(first)\n",
    "    last_frost.append(last)"
   ]
  },
  {
   "cell_type": "code",
   "execution_count": 35,
   "id": "cf16e6f1",
   "metadata": {},
   "outputs": [
    {
     "data": {
      "text/plain": [
       "[[Timestamp('1981-10-03 00:00:00')],\n",
       " [Timestamp('1982-10-22 00:00:00')],\n",
       " [Timestamp('1983-11-05 00:00:00')],\n",
       " [Timestamp('1984-10-24 00:00:00')],\n",
       " [Timestamp('1985-11-17 00:00:00')],\n",
       " [Timestamp('1986-11-02 00:00:00')],\n",
       " [Timestamp('1987-10-08 00:00:00')],\n",
       " [Timestamp('1988-10-13 00:00:00')],\n",
       " [Timestamp('1989-11-02 00:00:00')],\n",
       " [Timestamp('1990-10-19 00:00:00')],\n",
       " [Timestamp('1991-10-16 00:00:00')],\n",
       " [Timestamp('1992-10-17 00:00:00')],\n",
       " [Timestamp('1993-10-10 00:00:00')],\n",
       " [Timestamp('1994-11-19 00:00:00')],\n",
       " [Timestamp('1995-11-02 00:00:00')],\n",
       " [Timestamp('1996-10-30 00:00:00')],\n",
       " [Timestamp('1997-10-27 00:00:00')],\n",
       " [Timestamp('1998-11-06 00:00:00')],\n",
       " [Timestamp('1999-10-24 00:00:00')],\n",
       " [Timestamp('2000-10-07 00:00:00')],\n",
       " [Timestamp('2001-10-07 00:00:00')],\n",
       " [Timestamp('2002-11-01 00:00:00')],\n",
       " [Timestamp('2003-10-02 00:00:00')],\n",
       " [Timestamp('2004-10-17 00:00:00')],\n",
       " [Timestamp('2005-11-10 00:00:00')],\n",
       " [Timestamp('2006-10-12 00:00:00')],\n",
       " [Timestamp('2007-11-07 00:00:00')],\n",
       " [Timestamp('2008-10-28 00:00:00')],\n",
       " [Timestamp('2009-10-11 00:00:00')],\n",
       " [Timestamp('2010-11-05 00:00:00')],\n",
       " [Timestamp('2011-11-10 00:00:00')],\n",
       " [Timestamp('2012-11-06 00:00:00')],\n",
       " [Timestamp('2013-10-22 00:00:00')],\n",
       " [Timestamp('2014-11-02 00:00:00')],\n",
       " [Timestamp('2015-11-14 00:00:00')],\n",
       " [Timestamp('2016-11-19 00:00:00')],\n",
       " [Timestamp('2017-11-08 00:00:00')],\n",
       " [Timestamp('2018-10-20 00:00:00')],\n",
       " [Timestamp('2019-10-31 00:00:00')],\n",
       " [Timestamp('2020-10-28 00:00:00')],\n",
       " [Timestamp('2021-11-02 00:00:00')],\n",
       " [Timestamp('2022-11-13 00:00:00')]]"
      ]
     },
     "execution_count": 35,
     "metadata": {},
     "output_type": "execute_result"
    }
   ],
   "source": [
    "first_frost"
   ]
  },
  {
   "cell_type": "code",
   "execution_count": 36,
   "id": "d0aabf0b",
   "metadata": {},
   "outputs": [
    {
     "data": {
      "text/plain": [
       "<matplotlib.legend.Legend at 0x278c3ccec10>"
      ]
     },
     "execution_count": 36,
     "metadata": {},
     "output_type": "execute_result"
    },
    {
     "data": {
      "image/png": "[encoded data removed]",
      "text/plain": [
       "<Figure size 1200x800 with 1 Axes>"
      ]
     },
     "metadata": {},
     "output_type": "display_data"
    }
   ],
   "source": [
    "fig = plt.figure(figsize=(12, 8))\n",
    "plt.scatter(\n",
    "    x=range(1981, 2023), y=first_frost_pred, label=\"First Frost Predicted\"\n",
    ")\n",
    "plt.scatter(x=range(1981, 2023), y=first_frost, label=\"First Frost Observed\")\n",
    "fig.legend()"
   ]
  },
  {
   "cell_type": "code",
   "execution_count": 37,
   "id": "dc1d58df",
   "metadata": {},
   "outputs": [
    {
     "data": {
      "text/plain": [
       "Timedelta('-62 days +00:00:00')"
      ]
     },
     "execution_count": 37,
     "metadata": {},
     "output_type": "execute_result"
    }
   ],
   "source": [
    "first_frost_pred[0] - first_frost[0][0]"
   ]
  },
  {
   "cell_type": "code",
   "execution_count": 38,
   "id": "096c1e29",
   "metadata": {},
   "outputs": [],
   "source": [
    "first_frost_diffs = []"
   ]
  },
  {
   "cell_type": "code",
   "execution_count": 39,
   "id": "85d462b0",
   "metadata": {},
   "outputs": [
    {
     "data": {
      "text/plain": [
       "42"
      ]
     },
     "execution_count": 39,
     "metadata": {},
     "output_type": "execute_result"
    }
   ],
   "source": [
    "len(first_frost_pred)"
   ]
  },
  {
   "cell_type": "code",
   "execution_count": 40,
   "id": "361263b3",
   "metadata": {},
   "outputs": [],
   "source": [
    "for i in range(len(first_frost_pred)):\n",
    "    first_frost_diffs.append(first_frost_pred[i] - first_frost[i][0])"
   ]
  },
  {
   "cell_type": "code",
   "execution_count": 41,
   "id": "99883e40",
   "metadata": {},
   "outputs": [
    {
     "data": {
      "text/plain": [
       "-62"
      ]
     },
     "execution_count": 41,
     "metadata": {},
     "output_type": "execute_result"
    }
   ],
   "source": [
    "first_frost_diffs[0].days"
   ]
  },
  {
   "cell_type": "code",
   "execution_count": 42,
   "id": "9823cf66",
   "metadata": {},
   "outputs": [
    {
     "data": {
      "text/plain": [
       "Text(0, 0.5, 'days')"
      ]
     },
     "execution_count": 42,
     "metadata": {},
     "output_type": "execute_result"
    },
    {
     "data": {
      "image/png": "[encoded data removed]",
      "text/plain": [
       "<Figure size 1200x800 with 1 Axes>"
      ]
     },
     "metadata": {},
     "output_type": "display_data"
    }
   ],
   "source": [
    "fig = plt.figure(figsize=(12, 8))\n",
    "plt.scatter(x=range(1981, 2023), y=[x.days for x in first_frost_diffs])\n",
    "fig.get_axes()[0].set_title(\"First Frost (Prediction - Observed)\")\n",
    "fig.get_axes()[0].set_ylabel(\"days\")"
   ]
  },
  {
   "cell_type": "code",
   "execution_count": 43,
   "id": "fdd6bf7e",
   "metadata": {},
   "outputs": [],
   "source": [
    "last_frost_diffs = []"
   ]
  },
  {
   "cell_type": "code",
   "execution_count": 44,
   "id": "d08c868e",
   "metadata": {},
   "outputs": [],
   "source": [
    "for i in range(len(last_frost_pred)):\n",
    "    last_frost_diffs.append(last_frost_pred[i] - last_frost[i][0])"
   ]
  },
  {
   "cell_type": "code",
   "execution_count": 45,
   "id": "5a9aa9ce",
   "metadata": {},
   "outputs": [
    {
     "data": {
      "text/plain": [
       "Text(0, 0.5, 'days')"
      ]
     },
     "execution_count": 45,
     "metadata": {},
     "output_type": "execute_result"
    },
    {
     "data": {
      "image/png": "[encoded data removed]",
      "text/plain": [
       "<Figure size 1200x800 with 1 Axes>"
      ]
     },
     "metadata": {},
     "output_type": "display_data"
    }
   ],
   "source": [
    "fig2 = plt.figure(figsize=(12, 8))\n",
    "plt.scatter(x=range(1981, 2023), y=[x.days for x in last_frost_diffs])\n",
    "fig2.get_axes()[0].set_title(\"Last Frost (Prediction - Observed)\")\n",
    "fig2.get_axes()[0].set_ylabel(\"days\")"
   ]
  },
  {
   "cell_type": "code",
   "execution_count": 46,
   "id": "f912939a",
   "metadata": {},
   "outputs": [
    {
     "data": {
      "text/plain": [
       "[Timestamp('1981-10-03 00:00:00')]"
      ]
     },
     "execution_count": 46,
     "metadata": {},
     "output_type": "execute_result"
    }
   ],
   "source": [
    "first_frost[0]"
   ]
  },
  {
   "cell_type": "code",
   "execution_count": 47,
   "id": "45cacf1d",
   "metadata": {},
   "outputs": [
    {
     "data": {
      "text/plain": [
       "Timestamp('1981-08-02 00:00:00')"
      ]
     },
     "execution_count": 47,
     "metadata": {},
     "output_type": "execute_result"
    }
   ],
   "source": [
    "first_frost_pred[0]"
   ]
  },
  {
   "cell_type": "code",
   "execution_count": 48,
   "id": "a988b548",
   "metadata": {},
   "outputs": [
    {
     "data": {
      "text/plain": [
       "Timedelta('-62 days +00:00:00')"
      ]
     },
     "execution_count": 48,
     "metadata": {},
     "output_type": "execute_result"
    }
   ],
   "source": [
    "first_frost_pred[0] - first_frost[0][0]"
   ]
  },
  {
   "cell_type": "code",
   "execution_count": 49,
   "id": "5a0399ab",
   "metadata": {},
   "outputs": [
    {
     "data": {
      "text/plain": [
       "[Timestamp('1981-05-12 00:00:00')]"
      ]
     },
     "execution_count": 49,
     "metadata": {},
     "output_type": "execute_result"
    }
   ],
   "source": [
    "last_frost[0]"
   ]
  },
  {
   "attachments": {
    "image.png": {
     "image/png": "[encoded data removed]"
    }
   },
   "cell_type": "markdown",
   "id": "50539ba3",
   "metadata": {},
   "source": [
    "Offset = 0\n",
    "\n",
    "![image.png](attachment:image.png)"
   ]
  },
  {
   "attachments": {
    "image.png": {
     "image/png": "[encoded data removed]"
    }
   },
   "cell_type": "markdown",
   "id": "91a30d31",
   "metadata": {},
   "source": [
    "![image.png](attachment:image.png)"
   ]
  },
  {
   "cell_type": "code",
   "execution_count": null,
   "id": "c140ed08",
   "metadata": {},
   "outputs": [],
   "source": []
  },
  {
   "cell_type": "code",
   "execution_count": null,
   "id": "dde7b842",
   "metadata": {},
   "outputs": [],
   "source": []
  },
  {
   "attachments": {
    "image.png": {
     "image/png": "[encoded data removed]"
    }
   },
   "cell_type": "markdown",
   "id": "20b68d61",
   "metadata": {},
   "source": [
    "Max Offset = 3.5\n",
    "![image.png](attachment:image.png)"
   ]
  },
  {
   "attachments": {
    "image.png": {
     "image/png": "[encoded data removed]"
    }
   },
   "cell_type": "markdown",
   "id": "988f349d",
   "metadata": {},
   "source": [
    "![image.png](attachment:image.png)"
   ]
  },
  {
   "cell_type": "code",
   "execution_count": null,
   "id": "f6d25f4a",
   "metadata": {},
   "outputs": [],
   "source": []
  },
  {
   "cell_type": "code",
   "execution_count": null,
   "id": "7a70a0d4",
   "metadata": {},
   "outputs": [],
   "source": []
  },
  {
   "attachments": {
    "image.png": {
     "image/png": "[encoded data removed]"
    }
   },
   "cell_type": "markdown",
   "id": "654c7d94",
   "metadata": {},
   "source": [
    "Max Offset = 6.5\n",
    "![image.png](attachment:image.png)"
   ]
  },
  {
   "attachments": {
    "image.png": {
     "image/png": "[encoded data removed]"
    }
   },
   "cell_type": "markdown",
   "id": "af5fd65c",
   "metadata": {},
   "source": [
    "![image.png](attachment:image.png)"
   ]
  },
  {
   "cell_type": "code",
   "execution_count": 50,
   "id": "ae56617d",
   "metadata": {},
   "outputs": [],
   "source": [
    "import scipy.stats\n",
    "\n",
    "a, b = np.polyfit(df[\"tmin\"], df[\"tmax\"], 1)\n",
    "result = scipy.stats.linregress(df[\"tmin\"], df[\"tmax\"])"
   ]
  },
  {
   "cell_type": "code",
   "execution_count": 51,
   "id": "03ccea88",
   "metadata": {
    "scrolled": true
   },
   "outputs": [
    {
     "data": {
      "text/plain": [
       "Text(-20, 20, 'R: 0.9496077702043431')"
      ]
     },
     "execution_count": 51,
     "metadata": {},
     "output_type": "execute_result"
    },
    {
     "data": {
      "image/png": "[encoded data removed]",
      "text/plain": [
       "<Figure size 1200x800 with 1 Axes>"
      ]
     },
     "metadata": {},
     "output_type": "display_data"
    }
   ],
   "source": [
    "fig = plt.figure(figsize=(12, 8))\n",
    "plt.scatter(x=df[\"tmin\"], y=df[\"tmax\"])\n",
    "plt.plot(df[\"tmin\"], a * df[\"tmin\"] + b, color=\"orange\")\n",
    "ax = fig.get_axes()[0]\n",
    "ax.set_title(\"tmin vs tmax\")\n",
    "ax.set_xlabel(\"tmin\")\n",
    "ax.set_ylabel(\"tmax\")\n",
    "ax.text(-20, 20, f\"R: {result.rvalue}\")"
   ]
  },
  {
   "cell_type": "code",
   "execution_count": 52,
   "id": "be8036e2",
   "metadata": {},
   "outputs": [
    {
     "data": {
      "text/plain": [
       "pandas._libs.tslibs.offsets.Week"
      ]
     },
     "execution_count": 52,
     "metadata": {},
     "output_type": "execute_result"
    }
   ],
   "source": [
    "type(df[\"tmin\"].resample(\"W\").min().index.freq)"
   ]
  },
  {
   "cell_type": "code",
   "execution_count": 53,
   "id": "e8452c71",
   "metadata": {},
   "outputs": [],
   "source": [
    "from statsmodels.tsa.holtwinters import ExponentialSmoothing"
   ]
  },
  {
   "cell_type": "code",
   "execution_count": 54,
   "id": "f2871685",
   "metadata": {},
   "outputs": [],
   "source": [
    "fitted_model = ExponentialSmoothing(\n",
    "    df[\"tmin\"].resample(\"W\").min(),\n",
    "    trend=\"add\",\n",
    "    seasonal=\"add\",\n",
    "    seasonal_periods=52,\n",
    ").fit()"
   ]
  },
  {
   "cell_type": "code",
   "execution_count": 55,
   "id": "a2071541",
   "metadata": {},
   "outputs": [
    {
     "data": {
      "text/plain": [
       "DatetimeIndex(['2021-11-07', '2021-11-14', '2021-11-21', '2021-11-28',\n",
       "               '2021-12-05', '2021-12-12', '2021-12-19', '2021-12-26',\n",
       "               '2022-01-02'],\n",
       "              dtype='datetime64[ns]', name='time', freq='W-SUN')"
      ]
     },
     "execution_count": 55,
     "metadata": {},
     "output_type": "execute_result"
    }
   ],
   "source": [
    "fitted_model.data.orig_endog.tail(9).index"
   ]
  },
  {
   "cell_type": "code",
   "execution_count": 56,
   "id": "b1ca30f5",
   "metadata": {},
   "outputs": [
    {
     "data": {
      "text/plain": [
       "time\n",
       "2021-12-18    0.6\n",
       "2021-12-19    0.0\n",
       "2021-12-20   -0.6\n",
       "2021-12-21   -2.8\n",
       "2021-12-22   -6.7\n",
       "Freq: D, Name: tmin, dtype: float64"
      ]
     },
     "execution_count": 56,
     "metadata": {},
     "output_type": "execute_result"
    }
   ],
   "source": [
    "df[\"tmin\"][0:-9].tail()"
   ]
  },
  {
   "cell_type": "code",
   "execution_count": 57,
   "id": "fe05a4ce",
   "metadata": {},
   "outputs": [
    {
     "data": {
      "text/plain": [
       "time\n",
       "2021-12-27    1.1\n",
       "2021-12-28    0.6\n",
       "2021-12-29    0.0\n",
       "2021-12-30    0.6\n",
       "2021-12-31    1.1\n",
       "Freq: D, Name: tmin, dtype: float64"
      ]
     },
     "execution_count": 57,
     "metadata": {},
     "output_type": "execute_result"
    }
   ],
   "source": [
    "df[\"tmin\"].tail()"
   ]
  },
  {
   "cell_type": "code",
   "execution_count": 58,
   "id": "36f6f02a",
   "metadata": {},
   "outputs": [],
   "source": [
    "import copy"
   ]
  },
  {
   "cell_type": "code",
   "execution_count": 59,
   "id": "a74badaa",
   "metadata": {},
   "outputs": [],
   "source": [
    "df2 = copy.deepcopy(df)"
   ]
  },
  {
   "cell_type": "code",
   "execution_count": 60,
   "id": "80b7403f",
   "metadata": {},
   "outputs": [],
   "source": [
    "df2 = df2.resample(\"W\").min()"
   ]
  },
  {
   "cell_type": "code",
   "execution_count": 61,
   "id": "e3585914",
   "metadata": {},
   "outputs": [
    {
     "data": {
      "text/html": [
       "<div>\n",
       "<style scoped>\n",
       "    .dataframe tbody tr th:only-of-type {\n",
       "        vertical-align: middle;\n",
       "    }\n",
       "\n",
       "    .dataframe tbody tr th {\n",
       "        vertical-align: top;\n",
       "    }\n",
       "\n",
       "    .dataframe thead th {\n",
       "        text-align: right;\n",
       "    }\n",
       "</style>\n",
       "<table border=\"1\" class=\"dataframe\">\n",
       "  <thead>\n",
       "    <tr style=\"text-align: right;\">\n",
       "      <th></th>\n",
       "      <th>tavg</th>\n",
       "      <th>tmin</th>\n",
       "      <th>tmax</th>\n",
       "      <th>prcp</th>\n",
       "      <th>snow</th>\n",
       "      <th>wdir</th>\n",
       "      <th>wspd</th>\n",
       "      <th>wpgt</th>\n",
       "      <th>pres</th>\n",
       "      <th>tsun</th>\n",
       "    </tr>\n",
       "    <tr>\n",
       "      <th>time</th>\n",
       "      <th></th>\n",
       "      <th></th>\n",
       "      <th></th>\n",
       "      <th></th>\n",
       "      <th></th>\n",
       "      <th></th>\n",
       "      <th></th>\n",
       "      <th></th>\n",
       "      <th></th>\n",
       "      <th></th>\n",
       "    </tr>\n",
       "  </thead>\n",
       "  <tbody>\n",
       "    <tr>\n",
       "      <th>1970-01-04</th>\n",
       "      <td>NaN</td>\n",
       "      <td>-15.6</td>\n",
       "      <td>-8.3</td>\n",
       "      <td>0.0</td>\n",
       "      <td>76.0</td>\n",
       "      <td>NaN</td>\n",
       "      <td>NaN</td>\n",
       "      <td>24.1</td>\n",
       "      <td>NaN</td>\n",
       "      <td>0.0</td>\n",
       "    </tr>\n",
       "    <tr>\n",
       "      <th>1970-01-11</th>\n",
       "      <td>NaN</td>\n",
       "      <td>-24.4</td>\n",
       "      <td>-17.8</td>\n",
       "      <td>0.0</td>\n",
       "      <td>76.0</td>\n",
       "      <td>NaN</td>\n",
       "      <td>NaN</td>\n",
       "      <td>27.7</td>\n",
       "      <td>NaN</td>\n",
       "      <td>0.0</td>\n",
       "    </tr>\n",
       "    <tr>\n",
       "      <th>1970-01-18</th>\n",
       "      <td>NaN</td>\n",
       "      <td>-16.7</td>\n",
       "      <td>-10.6</td>\n",
       "      <td>0.0</td>\n",
       "      <td>76.0</td>\n",
       "      <td>NaN</td>\n",
       "      <td>NaN</td>\n",
       "      <td>20.5</td>\n",
       "      <td>NaN</td>\n",
       "      <td>0.0</td>\n",
       "    </tr>\n",
       "    <tr>\n",
       "      <th>1970-01-25</th>\n",
       "      <td>NaN</td>\n",
       "      <td>-23.9</td>\n",
       "      <td>-17.8</td>\n",
       "      <td>0.0</td>\n",
       "      <td>152.0</td>\n",
       "      <td>NaN</td>\n",
       "      <td>NaN</td>\n",
       "      <td>29.5</td>\n",
       "      <td>NaN</td>\n",
       "      <td>0.0</td>\n",
       "    </tr>\n",
       "    <tr>\n",
       "      <th>1970-02-01</th>\n",
       "      <td>NaN</td>\n",
       "      <td>-7.8</td>\n",
       "      <td>0.6</td>\n",
       "      <td>0.0</td>\n",
       "      <td>0.0</td>\n",
       "      <td>NaN</td>\n",
       "      <td>NaN</td>\n",
       "      <td>33.5</td>\n",
       "      <td>NaN</td>\n",
       "      <td>0.0</td>\n",
       "    </tr>\n",
       "    <tr>\n",
       "      <th>...</th>\n",
       "      <td>...</td>\n",
       "      <td>...</td>\n",
       "      <td>...</td>\n",
       "      <td>...</td>\n",
       "      <td>...</td>\n",
       "      <td>...</td>\n",
       "      <td>...</td>\n",
       "      <td>...</td>\n",
       "      <td>...</td>\n",
       "      <td>...</td>\n",
       "    </tr>\n",
       "    <tr>\n",
       "      <th>2021-12-05</th>\n",
       "      <td>1.5</td>\n",
       "      <td>-3.3</td>\n",
       "      <td>5.0</td>\n",
       "      <td>0.0</td>\n",
       "      <td>0.0</td>\n",
       "      <td>83.0</td>\n",
       "      <td>11.7</td>\n",
       "      <td>NaN</td>\n",
       "      <td>1010.2</td>\n",
       "      <td>NaN</td>\n",
       "    </tr>\n",
       "    <tr>\n",
       "      <th>2021-12-12</th>\n",
       "      <td>-7.2</td>\n",
       "      <td>-10.6</td>\n",
       "      <td>-3.9</td>\n",
       "      <td>0.0</td>\n",
       "      <td>0.0</td>\n",
       "      <td>65.0</td>\n",
       "      <td>12.2</td>\n",
       "      <td>NaN</td>\n",
       "      <td>1003.7</td>\n",
       "      <td>NaN</td>\n",
       "    </tr>\n",
       "    <tr>\n",
       "      <th>2021-12-19</th>\n",
       "      <td>1.5</td>\n",
       "      <td>-2.2</td>\n",
       "      <td>4.4</td>\n",
       "      <td>0.0</td>\n",
       "      <td>0.0</td>\n",
       "      <td>9.0</td>\n",
       "      <td>13.0</td>\n",
       "      <td>NaN</td>\n",
       "      <td>1010.5</td>\n",
       "      <td>NaN</td>\n",
       "    </tr>\n",
       "    <tr>\n",
       "      <th>2021-12-26</th>\n",
       "      <td>-2.7</td>\n",
       "      <td>-6.7</td>\n",
       "      <td>0.0</td>\n",
       "      <td>0.0</td>\n",
       "      <td>0.0</td>\n",
       "      <td>9.0</td>\n",
       "      <td>13.8</td>\n",
       "      <td>NaN</td>\n",
       "      <td>1002.2</td>\n",
       "      <td>NaN</td>\n",
       "    </tr>\n",
       "    <tr>\n",
       "      <th>2022-01-02</th>\n",
       "      <td>2.3</td>\n",
       "      <td>0.0</td>\n",
       "      <td>3.9</td>\n",
       "      <td>0.0</td>\n",
       "      <td>0.0</td>\n",
       "      <td>27.0</td>\n",
       "      <td>9.7</td>\n",
       "      <td>NaN</td>\n",
       "      <td>1006.7</td>\n",
       "      <td>NaN</td>\n",
       "    </tr>\n",
       "  </tbody>\n",
       "</table>\n",
       "<p>2714 rows × 10 columns</p>\n",
       "</div>"
      ],
      "text/plain": [
       "            tavg  tmin  tmax  prcp   snow  wdir  wspd  wpgt    pres  tsun\n",
       "time                                                                     \n",
       "1970-01-04   NaN -15.6  -8.3   0.0   76.0   NaN   NaN  24.1     NaN   0.0\n",
       "1970-01-11   NaN -24.4 -17.8   0.0   76.0   NaN   NaN  27.7     NaN   0.0\n",
       "1970-01-18   NaN -16.7 -10.6   0.0   76.0   NaN   NaN  20.5     NaN   0.0\n",
       "1970-01-25   NaN -23.9 -17.8   0.0  152.0   NaN   NaN  29.5     NaN   0.0\n",
       "1970-02-01   NaN  -7.8   0.6   0.0    0.0   NaN   NaN  33.5     NaN   0.0\n",
       "...          ...   ...   ...   ...    ...   ...   ...   ...     ...   ...\n",
       "2021-12-05   1.5  -3.3   5.0   0.0    0.0  83.0  11.7   NaN  1010.2   NaN\n",
       "2021-12-12  -7.2 -10.6  -3.9   0.0    0.0  65.0  12.2   NaN  1003.7   NaN\n",
       "2021-12-19   1.5  -2.2   4.4   0.0    0.0   9.0  13.0   NaN  1010.5   NaN\n",
       "2021-12-26  -2.7  -6.7   0.0   0.0    0.0   9.0  13.8   NaN  1002.2   NaN\n",
       "2022-01-02   2.3   0.0   3.9   0.0    0.0  27.0   9.7   NaN  1006.7   NaN\n",
       "\n",
       "[2714 rows x 10 columns]"
      ]
     },
     "execution_count": 61,
     "metadata": {},
     "output_type": "execute_result"
    }
   ],
   "source": [
    "df2"
   ]
  },
  {
   "cell_type": "code",
   "execution_count": 70,
   "id": "c8c214af",
   "metadata": {},
   "outputs": [],
   "source": [
    "ff = [x.days for x in first_frost_diffs]\n",
    "ll = [x.days for x in last_frost_diffs]"
   ]
  },
  {
   "cell_type": "code",
   "execution_count": 71,
   "id": "ea0eaaf3",
   "metadata": {},
   "outputs": [],
   "source": [
    "f = pd.Series(ff)\n",
    "l = pd.Series(ll)"
   ]
  },
  {
   "cell_type": "code",
   "execution_count": 77,
   "id": "516a165c",
   "metadata": {},
   "outputs": [
    {
     "data": {
      "text/plain": [
       "15.071428571428571"
      ]
     },
     "execution_count": 77,
     "metadata": {},
     "output_type": "execute_result"
    }
   ],
   "source": [
    "f.abs().mean()"
   ]
  },
  {
   "cell_type": "code",
   "execution_count": 78,
   "id": "0ece6455",
   "metadata": {},
   "outputs": [
    {
     "data": {
      "text/plain": [
       "13.078362053673565"
      ]
     },
     "execution_count": 78,
     "metadata": {},
     "output_type": "execute_result"
    }
   ],
   "source": [
    "f.abs().std()"
   ]
  },
  {
   "cell_type": "code",
   "execution_count": 79,
   "id": "0ca21bf5",
   "metadata": {},
   "outputs": [
    {
     "data": {
      "text/plain": [
       "23.69047619047619"
      ]
     },
     "execution_count": 79,
     "metadata": {},
     "output_type": "execute_result"
    }
   ],
   "source": [
    "l.abs().mean()"
   ]
  },
  {
   "cell_type": "code",
   "execution_count": 80,
   "id": "7bcae35c",
   "metadata": {},
   "outputs": [
    {
     "data": {
      "text/plain": [
       "15.158492902818047"
      ]
     },
     "execution_count": 80,
     "metadata": {},
     "output_type": "execute_result"
    }
   ],
   "source": [
    "l.abs().std()"
   ]
  },
  {
   "cell_type": "code",
   "execution_count": 2,
   "id": "a007345a",
   "metadata": {},
   "outputs": [
    {
     "name": "stdout",
     "output_type": "stream",
     "text": [
      "0\n",
      "1\n",
      "2\n"
     ]
    }
   ],
   "source": [
    "for i in range(3):\n",
    "    print(i)"
   ]
  },
  {
   "cell_type": "code",
   "execution_count": null,
   "id": "20aa2e14",
   "metadata": {},
   "outputs": [],
   "source": []
  }
 ],
 "metadata": {
  "kernelspec": {
   "display_name": "almanac kernel",
   "language": "python",
   "name": "almanac-kernel"
  },
  "language_info": {
   "codemirror_mode": {
    "name": "ipython",
    "version": 3
   },
   "file_extension": ".py",
   "mimetype": "text/x-python",
   "name": "python",
   "nbconvert_exporter": "python",
   "pygments_lexer": "ipython3",
   "version": "3.11.5"
  }
 },
 "nbformat": 4,
 "nbformat_minor": 5
}
