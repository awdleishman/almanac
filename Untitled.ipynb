{
 "cells": [
  {
   "cell_type": "code",
   "execution_count": 42,
   "id": "710faf1d",
   "metadata": {},
   "outputs": [],
   "source": [
    "from Almanac.Data import get_weather_data\n",
    "import pandas as pd\n",
    "import numpy as np\n",
    "import matplotlib.pyplot as plt\n",
    "import seaborn as sns\n",
    "from Almanac.Models import hw_weekly_frost_date_forecast\n",
    "import copy"
   ]
  },
  {
   "cell_type": "code",
   "execution_count": 8,
   "id": "d5577653",
   "metadata": {},
   "outputs": [],
   "source": [
    "df = get_weather_data(\"Chicago, IL, 60601, US\", \"2015-01-01\", \"2022-12-31\")"
   ]
  },
  {
   "cell_type": "code",
   "execution_count": 9,
   "id": "3e702ac0",
   "metadata": {},
   "outputs": [],
   "source": [
    "prediction, os = hw_weekly_frost_date_forecast(df, \"Chicago, IL\")"
   ]
  },
  {
   "cell_type": "code",
   "execution_count": 10,
   "id": "aeb3e0e9",
   "metadata": {},
   "outputs": [
    {
     "data": {
      "text/plain": [
       "2023-01-08   -12.037374\n",
       "2023-01-15   -11.349849\n",
       "2023-01-22    -9.474839\n",
       "2023-01-29   -14.337255\n",
       "2023-02-05   -15.174778\n",
       "2023-02-12   -13.649808\n",
       "2023-02-19   -10.312296\n",
       "2023-02-26    -9.112213\n",
       "2023-03-05    -5.874654\n",
       "2023-03-12    -3.912150\n",
       "2023-03-19    -2.687167\n",
       "2023-03-26    -1.974643\n",
       "2023-04-02    -2.249625\n",
       "2023-04-09     1.912894\n",
       "2023-04-16     0.662864\n",
       "2023-04-23     1.912886\n",
       "2023-04-30     4.125398\n",
       "2023-05-07     4.062901\n",
       "2023-05-14     6.225413\n",
       "2023-05-21     9.900435\n",
       "2023-05-28    10.037888\n",
       "2023-06-04    11.987969\n",
       "2023-06-11    14.700455\n",
       "2023-06-18    13.987964\n",
       "2023-06-25    14.887972\n",
       "2023-07-02    16.700493\n",
       "2023-07-09    16.637991\n",
       "2023-07-16    18.225505\n",
       "2023-07-23    18.025516\n",
       "2023-07-30    16.563026\n",
       "2023-08-06    17.475526\n",
       "2023-08-13    16.700529\n",
       "2023-08-20    15.038063\n",
       "2023-08-27    15.950569\n",
       "2023-09-03    13.300580\n",
       "2023-09-10    13.638062\n",
       "2023-09-17    13.500557\n",
       "2023-09-24     9.963083\n",
       "2023-10-01     9.000591\n",
       "2023-10-08     4.825600\n",
       "2023-10-15     2.963112\n",
       "2023-10-22     2.475614\n",
       "2023-10-29     1.288084\n",
       "2023-11-05    -2.399357\n",
       "2023-11-12    -5.111842\n",
       "2023-11-19    -4.886852\n",
       "2023-11-26    -3.224303\n",
       "2023-12-03    -5.786800\n",
       "2023-12-10    -9.274243\n",
       "2023-12-17    -7.749265\n",
       "2023-12-24   -11.320941\n",
       "2023-12-31   -13.477022\n",
       "Freq: W-SUN, dtype: float64"
      ]
     },
     "execution_count": 10,
     "metadata": {},
     "output_type": "execute_result"
    }
   ],
   "source": [
    "prediction"
   ]
  },
  {
   "cell_type": "code",
   "execution_count": 13,
   "id": "010a27c1",
   "metadata": {},
   "outputs": [
    {
     "data": {
      "text/plain": [
       "0.5"
      ]
     },
     "execution_count": 13,
     "metadata": {},
     "output_type": "execute_result"
    }
   ],
   "source": [
    "os"
   ]
  },
  {
   "cell_type": "code",
   "execution_count": 18,
   "id": "e1a31b36",
   "metadata": {},
   "outputs": [],
   "source": [
    "t = 2015"
   ]
  },
  {
   "cell_type": "code",
   "execution_count": 19,
   "id": "49458fad",
   "metadata": {},
   "outputs": [],
   "source": [
    "df_test = get_weather_data(\n",
    "    \"Chicago, IL, 60601, US\", f\"{str(t)}-01-01\", \"2023-12-31\"\n",
    ")"
   ]
  },
  {
   "cell_type": "code",
   "execution_count": 20,
   "id": "cab22a0d",
   "metadata": {},
   "outputs": [
    {
     "data": {
      "text/html": [
       "<div>\n",
       "<style scoped>\n",
       "    .dataframe tbody tr th:only-of-type {\n",
       "        vertical-align: middle;\n",
       "    }\n",
       "\n",
       "    .dataframe tbody tr th {\n",
       "        vertical-align: top;\n",
       "    }\n",
       "\n",
       "    .dataframe thead th {\n",
       "        text-align: right;\n",
       "    }\n",
       "</style>\n",
       "<table border=\"1\" class=\"dataframe\">\n",
       "  <thead>\n",
       "    <tr style=\"text-align: right;\">\n",
       "      <th></th>\n",
       "      <th>tavg</th>\n",
       "      <th>tmin</th>\n",
       "      <th>tmax</th>\n",
       "      <th>prcp</th>\n",
       "      <th>snow</th>\n",
       "      <th>wdir</th>\n",
       "      <th>wspd</th>\n",
       "      <th>wpgt</th>\n",
       "      <th>pres</th>\n",
       "      <th>tsun</th>\n",
       "    </tr>\n",
       "    <tr>\n",
       "      <th>time</th>\n",
       "      <th></th>\n",
       "      <th></th>\n",
       "      <th></th>\n",
       "      <th></th>\n",
       "      <th></th>\n",
       "      <th></th>\n",
       "      <th></th>\n",
       "      <th></th>\n",
       "      <th></th>\n",
       "      <th></th>\n",
       "    </tr>\n",
       "  </thead>\n",
       "  <tbody>\n",
       "    <tr>\n",
       "      <th>2015-01-01</th>\n",
       "      <td>-4.3</td>\n",
       "      <td>-8.3</td>\n",
       "      <td>0.0</td>\n",
       "      <td>0.0</td>\n",
       "      <td>0.0</td>\n",
       "      <td>240.0</td>\n",
       "      <td>25.5</td>\n",
       "      <td>NaN</td>\n",
       "      <td>1019.8</td>\n",
       "      <td>NaN</td>\n",
       "    </tr>\n",
       "    <tr>\n",
       "      <th>2015-01-02</th>\n",
       "      <td>-1.5</td>\n",
       "      <td>-6.7</td>\n",
       "      <td>2.2</td>\n",
       "      <td>0.0</td>\n",
       "      <td>0.0</td>\n",
       "      <td>NaN</td>\n",
       "      <td>7.8</td>\n",
       "      <td>NaN</td>\n",
       "      <td>1025.3</td>\n",
       "      <td>NaN</td>\n",
       "    </tr>\n",
       "    <tr>\n",
       "      <th>2015-01-03</th>\n",
       "      <td>1.6</td>\n",
       "      <td>-0.6</td>\n",
       "      <td>2.8</td>\n",
       "      <td>15.0</td>\n",
       "      <td>0.0</td>\n",
       "      <td>NaN</td>\n",
       "      <td>8.5</td>\n",
       "      <td>NaN</td>\n",
       "      <td>1013.7</td>\n",
       "      <td>NaN</td>\n",
       "    </tr>\n",
       "    <tr>\n",
       "      <th>2015-01-04</th>\n",
       "      <td>-3.7</td>\n",
       "      <td>-15.0</td>\n",
       "      <td>2.2</td>\n",
       "      <td>4.6</td>\n",
       "      <td>51.0</td>\n",
       "      <td>305.0</td>\n",
       "      <td>20.2</td>\n",
       "      <td>NaN</td>\n",
       "      <td>NaN</td>\n",
       "      <td>NaN</td>\n",
       "    </tr>\n",
       "    <tr>\n",
       "      <th>2015-01-05</th>\n",
       "      <td>-15.6</td>\n",
       "      <td>-18.3</td>\n",
       "      <td>-12.2</td>\n",
       "      <td>3.8</td>\n",
       "      <td>102.0</td>\n",
       "      <td>NaN</td>\n",
       "      <td>17.5</td>\n",
       "      <td>NaN</td>\n",
       "      <td>NaN</td>\n",
       "      <td>NaN</td>\n",
       "    </tr>\n",
       "    <tr>\n",
       "      <th>...</th>\n",
       "      <td>...</td>\n",
       "      <td>...</td>\n",
       "      <td>...</td>\n",
       "      <td>...</td>\n",
       "      <td>...</td>\n",
       "      <td>...</td>\n",
       "      <td>...</td>\n",
       "      <td>...</td>\n",
       "      <td>...</td>\n",
       "      <td>...</td>\n",
       "    </tr>\n",
       "    <tr>\n",
       "      <th>2023-11-04</th>\n",
       "      <td>8.6</td>\n",
       "      <td>6.7</td>\n",
       "      <td>10.7</td>\n",
       "      <td>NaN</td>\n",
       "      <td>NaN</td>\n",
       "      <td>261.0</td>\n",
       "      <td>15.1</td>\n",
       "      <td>NaN</td>\n",
       "      <td>1018.9</td>\n",
       "      <td>NaN</td>\n",
       "    </tr>\n",
       "    <tr>\n",
       "      <th>2023-11-05</th>\n",
       "      <td>9.2</td>\n",
       "      <td>5.8</td>\n",
       "      <td>13.0</td>\n",
       "      <td>NaN</td>\n",
       "      <td>NaN</td>\n",
       "      <td>221.0</td>\n",
       "      <td>15.5</td>\n",
       "      <td>NaN</td>\n",
       "      <td>1017.4</td>\n",
       "      <td>NaN</td>\n",
       "    </tr>\n",
       "    <tr>\n",
       "      <th>2023-11-06</th>\n",
       "      <td>8.0</td>\n",
       "      <td>3.9</td>\n",
       "      <td>10.9</td>\n",
       "      <td>NaN</td>\n",
       "      <td>NaN</td>\n",
       "      <td>269.0</td>\n",
       "      <td>16.4</td>\n",
       "      <td>NaN</td>\n",
       "      <td>1013.8</td>\n",
       "      <td>NaN</td>\n",
       "    </tr>\n",
       "    <tr>\n",
       "      <th>2023-11-07</th>\n",
       "      <td>5.6</td>\n",
       "      <td>1.9</td>\n",
       "      <td>8.6</td>\n",
       "      <td>NaN</td>\n",
       "      <td>NaN</td>\n",
       "      <td>303.0</td>\n",
       "      <td>17.2</td>\n",
       "      <td>NaN</td>\n",
       "      <td>1014.8</td>\n",
       "      <td>NaN</td>\n",
       "    </tr>\n",
       "    <tr>\n",
       "      <th>2023-11-08</th>\n",
       "      <td>5.6</td>\n",
       "      <td>1.9</td>\n",
       "      <td>9.5</td>\n",
       "      <td>NaN</td>\n",
       "      <td>NaN</td>\n",
       "      <td>257.0</td>\n",
       "      <td>15.7</td>\n",
       "      <td>NaN</td>\n",
       "      <td>1015.7</td>\n",
       "      <td>NaN</td>\n",
       "    </tr>\n",
       "  </tbody>\n",
       "</table>\n",
       "<p>3234 rows × 10 columns</p>\n",
       "</div>"
      ],
      "text/plain": [
       "            tavg  tmin  tmax  prcp   snow   wdir  wspd  wpgt    pres  tsun\n",
       "time                                                                      \n",
       "2015-01-01  -4.3  -8.3   0.0   0.0    0.0  240.0  25.5   NaN  1019.8   NaN\n",
       "2015-01-02  -1.5  -6.7   2.2   0.0    0.0    NaN   7.8   NaN  1025.3   NaN\n",
       "2015-01-03   1.6  -0.6   2.8  15.0    0.0    NaN   8.5   NaN  1013.7   NaN\n",
       "2015-01-04  -3.7 -15.0   2.2   4.6   51.0  305.0  20.2   NaN     NaN   NaN\n",
       "2015-01-05 -15.6 -18.3 -12.2   3.8  102.0    NaN  17.5   NaN     NaN   NaN\n",
       "...          ...   ...   ...   ...    ...    ...   ...   ...     ...   ...\n",
       "2023-11-04   8.6   6.7  10.7   NaN    NaN  261.0  15.1   NaN  1018.9   NaN\n",
       "2023-11-05   9.2   5.8  13.0   NaN    NaN  221.0  15.5   NaN  1017.4   NaN\n",
       "2023-11-06   8.0   3.9  10.9   NaN    NaN  269.0  16.4   NaN  1013.8   NaN\n",
       "2023-11-07   5.6   1.9   8.6   NaN    NaN  303.0  17.2   NaN  1014.8   NaN\n",
       "2023-11-08   5.6   1.9   9.5   NaN    NaN  257.0  15.7   NaN  1015.7   NaN\n",
       "\n",
       "[3234 rows x 10 columns]"
      ]
     },
     "execution_count": 20,
     "metadata": {},
     "output_type": "execute_result"
    }
   ],
   "source": [
    "df_test"
   ]
  },
  {
   "cell_type": "code",
   "execution_count": 12,
   "id": "27c37aee",
   "metadata": {},
   "outputs": [
    {
     "data": {
      "text/plain": [
       "time\n",
       "2023-01-01     2.8\n",
       "2023-01-08    -3.9\n",
       "2023-01-15    -4.4\n",
       "2023-01-22    -2.2\n",
       "2023-01-29   -10.0\n",
       "2023-02-05   -17.2\n",
       "2023-02-12    -5.0\n",
       "2023-02-19    -7.2\n",
       "2023-02-26    -7.8\n",
       "2023-03-05    -2.2\n",
       "2023-03-12    -1.1\n",
       "2023-03-19   -10.6\n",
       "2023-03-26    -2.2\n",
       "2023-04-02    -2.8\n",
       "2023-04-09     0.6\n",
       "2023-04-16     1.7\n",
       "2023-04-23     0.0\n",
       "2023-04-30     1.1\n",
       "2023-05-07     5.0\n",
       "2023-05-14     9.4\n",
       "2023-05-21     8.3\n",
       "2023-05-28     8.9\n",
       "2023-06-04    12.8\n",
       "2023-06-11    11.7\n",
       "2023-06-18    11.1\n",
       "2023-06-25    16.7\n",
       "2023-07-02    15.0\n",
       "2023-07-09    15.6\n",
       "2023-07-16    17.2\n",
       "2023-07-23    16.7\n",
       "2023-07-30    19.4\n",
       "2023-08-06    17.8\n",
       "2023-08-13    17.8\n",
       "2023-08-20    14.4\n",
       "2023-08-27    18.3\n",
       "2023-09-03    12.2\n",
       "2023-09-10    12.8\n",
       "2023-09-17    10.6\n",
       "2023-09-24    11.7\n",
       "2023-10-01    13.9\n",
       "2023-10-08     7.2\n",
       "2023-10-15     4.4\n",
       "2023-10-22     4.4\n",
       "2023-10-29     3.9\n",
       "2023-11-05    -3.0\n",
       "2023-11-12     2.5\n",
       "Freq: W-SUN, Name: tmin, dtype: float64"
      ]
     },
     "execution_count": 12,
     "metadata": {},
     "output_type": "execute_result"
    }
   ],
   "source": [
    "df_test[\"tmin\"].resample(\"W\").min()"
   ]
  },
  {
   "cell_type": "code",
   "execution_count": 15,
   "id": "49fa75f8",
   "metadata": {},
   "outputs": [],
   "source": [
    "years = list(range(1980, 2022))"
   ]
  },
  {
   "cell_type": "code",
   "execution_count": 51,
   "id": "3ccc00f8",
   "metadata": {},
   "outputs": [],
   "source": [
    "df_dict = {}\n",
    "pred_dict = {}\n",
    "os_dict = {}"
   ]
  },
  {
   "cell_type": "code",
   "execution_count": 52,
   "id": "2a292e6b",
   "metadata": {},
   "outputs": [],
   "source": [
    "for year in years:\n",
    "    df = get_weather_data(\"Chicago, IL\", \"1970-01-01\", f\"{str(year)}-12-31\")\n",
    "    prediction, os = hw_weekly_frost_date_forecast(df, \"Chicago, IL\")\n",
    "    df_dict[year + 1] = get_weather_data(\n",
    "        \"Chicago, IL\", f\"{str(year+1)}-01-01\", f\"{str(year+1)}-12-31\"\n",
    "    )\n",
    "    pred_dict[year + 1] = prediction\n",
    "    os_dict[year + 1] = os"
   ]
  },
  {
   "cell_type": "code",
   "execution_count": 37,
   "id": "06c13e94",
   "metadata": {},
   "outputs": [
    {
     "data": {
      "text/plain": [
       "DatetimeIndex(['1982-01-10', '1982-01-17', '1982-01-24', '1982-01-31',\n",
       "               '1982-02-07', '1982-02-14', '1982-02-21', '1982-02-28',\n",
       "               '1982-03-07', '1982-03-14', '1982-03-21', '1982-03-28',\n",
       "               '1982-04-04', '1982-04-11', '1982-04-18', '1982-04-25',\n",
       "               '1982-05-02', '1982-05-09', '1982-05-16', '1982-05-23',\n",
       "               '1982-05-30', '1982-06-06', '1982-06-13', '1982-06-20',\n",
       "               '1982-06-27', '1982-07-04', '1982-07-11', '1982-07-18',\n",
       "               '1982-07-25', '1982-08-01', '1982-08-08', '1982-08-15',\n",
       "               '1982-08-22', '1982-08-29', '1982-09-05', '1982-09-12',\n",
       "               '1982-09-19', '1982-09-26', '1982-10-03', '1982-10-10',\n",
       "               '1982-10-17', '1982-10-24', '1982-10-31', '1982-11-07',\n",
       "               '1982-11-14', '1982-11-21', '1982-11-28', '1982-12-05',\n",
       "               '1982-12-12', '1982-12-19', '1982-12-26', '1983-01-02'],\n",
       "              dtype='datetime64[ns]', freq='W-SUN')"
      ]
     },
     "execution_count": 37,
     "metadata": {},
     "output_type": "execute_result"
    }
   ],
   "source": [
    "pred_dict[1982].index"
   ]
  },
  {
   "cell_type": "code",
   "execution_count": 32,
   "id": "da7065ea",
   "metadata": {},
   "outputs": [
    {
     "data": {
      "text/plain": [
       "time\n",
       "1982-01-03    -8.9\n",
       "1982-01-10   -30.0\n",
       "1982-01-17   -27.2\n",
       "1982-01-24   -19.4\n",
       "1982-01-31   -22.8\n",
       "1982-02-07   -24.4\n",
       "1982-02-14   -24.4\n",
       "1982-02-21    -3.3\n",
       "1982-02-28   -11.1\n",
       "1982-03-07   -13.3\n",
       "1982-03-14   -16.1\n",
       "1982-03-21     0.0\n",
       "1982-03-28    -7.2\n",
       "1982-04-04    -7.2\n",
       "1982-04-11   -12.2\n",
       "1982-04-18    -0.6\n",
       "1982-04-25    -1.1\n",
       "1982-05-02     0.0\n",
       "1982-05-09     8.3\n",
       "1982-05-16    13.3\n",
       "1982-05-23     7.2\n",
       "1982-05-30    11.7\n",
       "1982-06-06     6.7\n",
       "1982-06-13     8.3\n",
       "1982-06-20     7.2\n",
       "1982-06-27     8.3\n",
       "1982-07-04     9.4\n",
       "1982-07-11    14.4\n",
       "1982-07-18    16.1\n",
       "1982-07-25    17.2\n",
       "1982-08-01    13.9\n",
       "1982-08-08    17.8\n",
       "1982-08-15    10.0\n",
       "1982-08-22    13.3\n",
       "1982-08-29     7.8\n",
       "1982-09-05    10.6\n",
       "1982-09-12    12.2\n",
       "1982-09-19     6.7\n",
       "1982-09-26     5.6\n",
       "1982-10-03     8.9\n",
       "1982-10-10     7.2\n",
       "1982-10-17     1.1\n",
       "1982-10-24    -2.8\n",
       "1982-10-31    -1.7\n",
       "1982-11-07    -2.8\n",
       "1982-11-14    -6.1\n",
       "1982-11-21    -8.9\n",
       "1982-11-28    -8.3\n",
       "1982-12-05     2.8\n",
       "1982-12-12   -12.8\n",
       "1982-12-19    -8.9\n",
       "1982-12-26    -8.3\n",
       "1983-01-02    -9.4\n",
       "Freq: W-SUN, Name: tmin, dtype: float64"
      ]
     },
     "execution_count": 32,
     "metadata": {},
     "output_type": "execute_result"
    }
   ],
   "source": [
    "df_dict[1982][\"tmin\"].resample(\"W\").min()"
   ]
  },
  {
   "cell_type": "code",
   "execution_count": 34,
   "id": "7963755b",
   "metadata": {},
   "outputs": [
    {
     "data": {
      "text/plain": [
       "3.5"
      ]
     },
     "execution_count": 34,
     "metadata": {},
     "output_type": "execute_result"
    }
   ],
   "source": [
    "os_dict[1982]"
   ]
  },
  {
   "cell_type": "code",
   "execution_count": 79,
   "id": "ab0c1fc0",
   "metadata": {},
   "outputs": [],
   "source": [
    "def binarize(df, cols, thresh=0):\n",
    "    \"\"\"\n",
    "    A function to binarize weather data.\n",
    "    Sets values less than 0 to 1 and sets values greater then 0 to 0.\n",
    "\n",
    "    Parameters:\n",
    "\n",
    "    df : pandas.DataFrame\n",
    "        A DataFrame object containing weather data.\n",
    "\n",
    "    cols : str | list\n",
    "        A string or list of strings containing\n",
    "        the names of columns in df to binarize.\n",
    "\n",
    "    thresh : float\n",
    "        A number to split the binarization on.\n",
    "        Values below thresh are assigned 1,\n",
    "        values above thresh are assigned 0.\n",
    "\n",
    "\n",
    "    Returns:\n",
    "\n",
    "    df : pandas.DataFrame\n",
    "        A DataFrame containing the original columns of df and\n",
    "        the new columns of binarized data.\n",
    "    \"\"\"\n",
    "\n",
    "    if isinstance(cols, str):\n",
    "        df[cols + \"_bin\"] = df[cols]\n",
    "\n",
    "        for i, temp in enumerate(df[cols + \"_bin\"]):\n",
    "            if temp <= thresh:\n",
    "                df[cols + \"_bin\"].iloc[i] = 1\n",
    "            else:\n",
    "                df[cols + \"_bin\"].iloc[i] = 0\n",
    "\n",
    "    elif isinstance(cols, list):\n",
    "        for col in cols:\n",
    "            df[col + \"_bin\"] = df[col]\n",
    "\n",
    "            for i, temp in enumerate(df[col + \"_bin\"]):\n",
    "                if temp <= thresh:\n",
    "                    df[col + \"_bin\"].iloc[i] = 1\n",
    "                else:\n",
    "                    df[col + \"_bin\"].iloc[i] = 0\n",
    "\n",
    "    return df"
   ]
  },
  {
   "cell_type": "code",
   "execution_count": 38,
   "id": "d1ab44bd",
   "metadata": {},
   "outputs": [],
   "source": [
    "test_pred = pred_dict[1981]"
   ]
  },
  {
   "cell_type": "code",
   "execution_count": 39,
   "id": "34ee4758",
   "metadata": {},
   "outputs": [
    {
     "data": {
      "text/plain": [
       "-13.05235537410323"
      ]
     },
     "execution_count": 39,
     "metadata": {},
     "output_type": "execute_result"
    }
   ],
   "source": [
    "test_pred.iloc[1]"
   ]
  },
  {
   "cell_type": "code",
   "execution_count": 40,
   "id": "ccda93e9",
   "metadata": {},
   "outputs": [],
   "source": [
    "for i, temp in enumerate(test_pred):\n",
    "    if temp <= 0:\n",
    "        test_pred.iloc[i] = 1\n",
    "    else:\n",
    "        test_pred.iloc[i] = 0"
   ]
  },
  {
   "cell_type": "code",
   "execution_count": 41,
   "id": "7c86842b",
   "metadata": {},
   "outputs": [
    {
     "data": {
      "text/plain": [
       "1981-01-11    1.0\n",
       "1981-01-18    1.0\n",
       "1981-01-25    1.0\n",
       "1981-02-01    1.0\n",
       "1981-02-08    1.0\n",
       "1981-02-15    1.0\n",
       "1981-02-22    1.0\n",
       "1981-03-01    1.0\n",
       "1981-03-08    1.0\n",
       "1981-03-15    1.0\n",
       "1981-03-22    1.0\n",
       "1981-03-29    1.0\n",
       "1981-04-05    1.0\n",
       "1981-04-12    0.0\n",
       "1981-04-19    0.0\n",
       "1981-04-26    0.0\n",
       "1981-05-03    0.0\n",
       "1981-05-10    0.0\n",
       "1981-05-17    0.0\n",
       "1981-05-24    0.0\n",
       "1981-05-31    0.0\n",
       "1981-06-07    0.0\n",
       "1981-06-14    0.0\n",
       "1981-06-21    0.0\n",
       "1981-06-28    0.0\n",
       "1981-07-05    0.0\n",
       "1981-07-12    0.0\n",
       "1981-07-19    0.0\n",
       "1981-07-26    0.0\n",
       "1981-08-02    0.0\n",
       "1981-08-09    0.0\n",
       "1981-08-16    0.0\n",
       "1981-08-23    0.0\n",
       "1981-08-30    0.0\n",
       "1981-09-06    0.0\n",
       "1981-09-13    0.0\n",
       "1981-09-20    0.0\n",
       "1981-09-27    0.0\n",
       "1981-10-04    0.0\n",
       "1981-10-11    0.0\n",
       "1981-10-18    0.0\n",
       "1981-10-25    0.0\n",
       "1981-11-01    0.0\n",
       "1981-11-08    1.0\n",
       "1981-11-15    1.0\n",
       "1981-11-22    1.0\n",
       "1981-11-29    1.0\n",
       "1981-12-06    1.0\n",
       "1981-12-13    1.0\n",
       "1981-12-20    1.0\n",
       "1981-12-27    1.0\n",
       "1982-01-03    1.0\n",
       "Freq: W-SUN, dtype: float64"
      ]
     },
     "execution_count": 41,
     "metadata": {},
     "output_type": "execute_result"
    }
   ],
   "source": [
    "test_pred"
   ]
  },
  {
   "cell_type": "code",
   "execution_count": 53,
   "id": "85fb8527",
   "metadata": {},
   "outputs": [],
   "source": [
    "pred_dict_copy = copy.deepcopy(pred_dict)"
   ]
  },
  {
   "cell_type": "code",
   "execution_count": 54,
   "id": "4122a9ad",
   "metadata": {},
   "outputs": [
    {
     "data": {
      "text/plain": [
       "dict_keys([1981, 1982, 1983, 1984, 1985, 1986, 1987, 1988, 1989, 1990, 1991, 1992, 1993, 1994, 1995, 1996, 1997, 1998, 1999, 2000, 2001, 2002, 2003, 2004, 2005, 2006, 2007, 2008, 2009, 2010, 2011, 2012, 2013, 2014, 2015, 2016, 2017, 2018, 2019, 2020, 2021, 2022])"
      ]
     },
     "execution_count": 54,
     "metadata": {},
     "output_type": "execute_result"
    }
   ],
   "source": [
    "pred_dict_copy.keys()"
   ]
  },
  {
   "cell_type": "code",
   "execution_count": 55,
   "id": "e1d7d24b",
   "metadata": {},
   "outputs": [],
   "source": [
    "for year in pred_dict_copy.keys():\n",
    "    for i, temp in enumerate(pred_dict_copy[year]):\n",
    "        if temp <= 0:\n",
    "            pred_dict_copy[year].iloc[i] = 1\n",
    "        else:\n",
    "            pred_dict_copy[year].iloc[i] = 0"
   ]
  },
  {
   "cell_type": "code",
   "execution_count": 56,
   "id": "bf6c9df4",
   "metadata": {},
   "outputs": [
    {
     "data": {
      "text/plain": [
       "1982-01-10    1.0\n",
       "1982-01-17    1.0\n",
       "1982-01-24    1.0\n",
       "1982-01-31    1.0\n",
       "1982-02-07    1.0\n",
       "1982-02-14    1.0\n",
       "1982-02-21    1.0\n",
       "1982-02-28    1.0\n",
       "1982-03-07    1.0\n",
       "1982-03-14    1.0\n",
       "1982-03-21    1.0\n",
       "1982-03-28    1.0\n",
       "1982-04-04    1.0\n",
       "1982-04-11    1.0\n",
       "1982-04-18    1.0\n",
       "1982-04-25    0.0\n",
       "1982-05-02    0.0\n",
       "1982-05-09    0.0\n",
       "1982-05-16    0.0\n",
       "1982-05-23    0.0\n",
       "1982-05-30    0.0\n",
       "1982-06-06    0.0\n",
       "1982-06-13    0.0\n",
       "1982-06-20    0.0\n",
       "1982-06-27    0.0\n",
       "1982-07-04    0.0\n",
       "1982-07-11    0.0\n",
       "1982-07-18    0.0\n",
       "1982-07-25    0.0\n",
       "1982-08-01    0.0\n",
       "1982-08-08    0.0\n",
       "1982-08-15    0.0\n",
       "1982-08-22    0.0\n",
       "1982-08-29    0.0\n",
       "1982-09-05    0.0\n",
       "1982-09-12    0.0\n",
       "1982-09-19    0.0\n",
       "1982-09-26    0.0\n",
       "1982-10-03    0.0\n",
       "1982-10-10    0.0\n",
       "1982-10-17    1.0\n",
       "1982-10-24    1.0\n",
       "1982-10-31    1.0\n",
       "1982-11-07    1.0\n",
       "1982-11-14    1.0\n",
       "1982-11-21    1.0\n",
       "1982-11-28    1.0\n",
       "1982-12-05    1.0\n",
       "1982-12-12    1.0\n",
       "1982-12-19    1.0\n",
       "1982-12-26    1.0\n",
       "1983-01-02    1.0\n",
       "Freq: W-SUN, dtype: float64"
      ]
     },
     "execution_count": 56,
     "metadata": {},
     "output_type": "execute_result"
    }
   ],
   "source": [
    "pred_dict_copy[1982]"
   ]
  },
  {
   "cell_type": "code",
   "execution_count": 57,
   "id": "a510c05e",
   "metadata": {},
   "outputs": [
    {
     "data": {
      "text/plain": [
       "1982-01-10   -18.687258\n",
       "1982-01-17   -15.856922\n",
       "1982-01-24   -17.016940\n",
       "1982-01-31   -19.982348\n",
       "1982-02-07   -17.031004\n",
       "1982-02-14   -13.272049\n",
       "1982-02-21   -11.687362\n",
       "1982-02-28    -9.330950\n",
       "1982-03-07    -8.823605\n",
       "1982-03-14    -9.057247\n",
       "1982-03-21    -6.641153\n",
       "1982-03-28    -4.249192\n",
       "1982-04-04    -2.815210\n",
       "1982-04-11    -0.448758\n",
       "1982-04-18    -0.015053\n",
       "1982-04-25     0.343351\n",
       "1982-05-02     0.728271\n",
       "1982-05-09     3.536558\n",
       "1982-05-16     6.294671\n",
       "1982-05-23     6.269665\n",
       "1982-05-30     8.077228\n",
       "1982-06-06     9.793033\n",
       "1982-06-13    10.301720\n",
       "1982-06-20    11.685115\n",
       "1982-06-27    12.652321\n",
       "1982-07-04    14.085162\n",
       "1982-07-11    13.268119\n",
       "1982-07-18    14.384419\n",
       "1982-07-25    13.300694\n",
       "1982-08-01    12.508091\n",
       "1982-08-08    13.725880\n",
       "1982-08-15    12.651339\n",
       "1982-08-22    13.160013\n",
       "1982-08-29    11.353468\n",
       "1982-09-05     9.269822\n",
       "1982-09-12     7.112754\n",
       "1982-09-19     5.610861\n",
       "1982-09-26     3.953158\n",
       "1982-10-03     1.311294\n",
       "1982-10-10     0.802382\n",
       "1982-10-17    -0.663913\n",
       "1982-10-24    -1.930763\n",
       "1982-10-31    -1.646609\n",
       "1982-11-07    -5.621836\n",
       "1982-11-14    -5.579023\n",
       "1982-11-21    -9.244756\n",
       "1982-11-28   -11.037714\n",
       "1982-12-05   -14.346780\n",
       "1982-12-12   -12.313463\n",
       "1982-12-19   -14.392718\n",
       "1982-12-26   -17.822083\n",
       "1983-01-02   -20.003814\n",
       "Freq: W-SUN, dtype: float64"
      ]
     },
     "execution_count": 57,
     "metadata": {},
     "output_type": "execute_result"
    }
   ],
   "source": [
    "pred_dict[1982]"
   ]
  },
  {
   "cell_type": "code",
   "execution_count": 78,
   "id": "56ef6152",
   "metadata": {},
   "outputs": [],
   "source": [
    "def get_frost_dates(data):\n",
    "    \"\"\"\n",
    "    A function that finds the dates of the first and last frost of a season\n",
    "    for every year in data.\n",
    "    First frost is defined as the first day after summer where the minimum\n",
    "    temp is <= 0C.\n",
    "    Last frost is defined as the last day before summer where the minimum temp\n",
    "    is <= 0C.\n",
    "\n",
    "\n",
    "    Parameters:\n",
    "\n",
    "    data : pandas.DataFrame\n",
    "        A DataFrame object containing weather data.\n",
    "\n",
    "\n",
    "    Returns:\n",
    "\n",
    "    first_frost : list\n",
    "        A list of the first frost dates of each year.\n",
    "\n",
    "    last_frost : list\n",
    "        A list of the last frost dates of each year.\n",
    "    \"\"\"\n",
    "\n",
    "    # If binarized column does not exist,\n",
    "    # create it.\n",
    "    if \"tmin_bin\" in data.columns:\n",
    "        pass\n",
    "    else:\n",
    "        data = binarize(data, \"tmin\")\n",
    "\n",
    "    # Create the dict data_year\n",
    "    # This is a dictionary of DataFrames\n",
    "    # for each year of data with years as keys\n",
    "    data_year = {}\n",
    "\n",
    "    for y in data.index.year.unique():\n",
    "        data_year[y] = data.loc[data.index.year == y]\n",
    "\n",
    "    # Create lists of the first and last frost dates.\n",
    "    last_frost = []\n",
    "    first_frost = []\n",
    "\n",
    "    # Divide the years in half.\n",
    "    # Note this split assumes a location in the Northern Hemisphere\n",
    "    for y in data_year.keys():\n",
    "        first_half = data_year[y].loc[data_year[y].index.month < 7]\n",
    "        second_half = data_year[y].loc[data_year[y].index.month > 7]\n",
    "\n",
    "        try:\n",
    "            last_frost.append(\n",
    "                first_half[\"tmin_bin\"][first_half[\"tmin_bin\"] == 1].index[-1]\n",
    "            )\n",
    "        except Exception:\n",
    "            last_frost.append(None)\n",
    "\n",
    "        try:\n",
    "            first_frost.append(\n",
    "                second_half[\"tmin_bin\"][second_half[\"tmin_bin\"] == 1].index[0]\n",
    "            )\n",
    "        except Exception:\n",
    "            first_frost.append(None)\n",
    "\n",
    "    return first_frost, last_frost"
   ]
  },
  {
   "cell_type": "code",
   "execution_count": 80,
   "id": "2052568b",
   "metadata": {},
   "outputs": [],
   "source": [
    "last_frost_pred = []\n",
    "first_frost_pred = []"
   ]
  },
  {
   "cell_type": "code",
   "execution_count": 72,
   "id": "349d6eee",
   "metadata": {},
   "outputs": [],
   "source": [
    "for year in pred_dict_copy.keys():\n",
    "    pred_dict_copy[year].drop(pred_dict_copy[year].index[-1], inplace=True)"
   ]
  },
  {
   "cell_type": "code",
   "execution_count": 81,
   "id": "688cbc37",
   "metadata": {},
   "outputs": [],
   "source": [
    "for year in pred_dict_copy.keys():\n",
    "    first_half = pred_dict_copy[year].loc[pred_dict_copy[year].index.month < 7]\n",
    "    second_half = pred_dict_copy[year].loc[\n",
    "        pred_dict_copy[year].index.month > 7\n",
    "    ]\n",
    "\n",
    "    try:\n",
    "        last_frost_pred.append(first_half[first_half == 1].index[-1])\n",
    "    except Exception:\n",
    "        last_frost_pred.append(None)\n",
    "\n",
    "    try:\n",
    "        first_frost_pred.append(second_half[second_half == 1].index[0])\n",
    "    except Exception:\n",
    "        first_frost_pred.append(None)"
   ]
  },
  {
   "cell_type": "code",
   "execution_count": 82,
   "id": "e7d588f0",
   "metadata": {},
   "outputs": [
    {
     "data": {
      "text/plain": [
       "[Timestamp('1981-11-08 00:00:00'),\n",
       " Timestamp('1982-10-17 00:00:00'),\n",
       " Timestamp('1983-11-06 00:00:00'),\n",
       " Timestamp('1984-10-14 00:00:00'),\n",
       " Timestamp('1985-11-03 00:00:00'),\n",
       " Timestamp('1986-10-19 00:00:00'),\n",
       " Timestamp('1987-11-15 00:00:00'),\n",
       " Timestamp('1988-10-30 00:00:00'),\n",
       " Timestamp('1989-10-29 00:00:00'),\n",
       " Timestamp('1990-10-14 00:00:00'),\n",
       " Timestamp('1991-10-27 00:00:00'),\n",
       " Timestamp('1992-11-08 00:00:00'),\n",
       " Timestamp('1993-10-24 00:00:00'),\n",
       " Timestamp('1994-10-23 00:00:00'),\n",
       " Timestamp('1995-11-05 00:00:00'),\n",
       " Timestamp('1996-10-13 00:00:00'),\n",
       " Timestamp('1997-10-19 00:00:00'),\n",
       " Timestamp('1998-11-01 00:00:00'),\n",
       " Timestamp('1999-10-24 00:00:00'),\n",
       " Timestamp('2000-10-22 00:00:00'),\n",
       " Timestamp('2001-09-30 00:00:00'),\n",
       " Timestamp('2002-10-27 00:00:00'),\n",
       " Timestamp('2003-10-19 00:00:00'),\n",
       " Timestamp('2004-10-31 00:00:00'),\n",
       " Timestamp('2005-11-06 00:00:00'),\n",
       " Timestamp('2006-11-05 00:00:00'),\n",
       " Timestamp('2007-10-14 00:00:00'),\n",
       " Timestamp('2008-10-26 00:00:00'),\n",
       " Timestamp('2009-10-25 00:00:00'),\n",
       " Timestamp('2010-10-31 00:00:00'),\n",
       " Timestamp('2011-10-30 00:00:00'),\n",
       " Timestamp('2012-11-11 00:00:00'),\n",
       " Timestamp('2013-10-27 00:00:00'),\n",
       " Timestamp('2014-10-05 00:00:00'),\n",
       " Timestamp('2015-10-25 00:00:00'),\n",
       " Timestamp('2016-11-13 00:00:00'),\n",
       " Timestamp('2017-11-12 00:00:00'),\n",
       " Timestamp('2018-11-11 00:00:00'),\n",
       " Timestamp('2019-10-27 00:00:00'),\n",
       " Timestamp('2020-11-08 00:00:00'),\n",
       " Timestamp('2021-10-31 00:00:00'),\n",
       " Timestamp('2022-10-30 00:00:00')]"
      ]
     },
     "execution_count": 82,
     "metadata": {},
     "output_type": "execute_result"
    }
   ],
   "source": [
    "first_frost_pred"
   ]
  },
  {
   "cell_type": "code",
   "execution_count": 83,
   "id": "420de56c",
   "metadata": {},
   "outputs": [
    {
     "data": {
      "text/plain": [
       "[Timestamp('1981-04-05 00:00:00'),\n",
       " Timestamp('1982-04-18 00:00:00'),\n",
       " Timestamp('1983-03-20 00:00:00'),\n",
       " Timestamp('1984-04-29 00:00:00'),\n",
       " Timestamp('1985-03-24 00:00:00'),\n",
       " Timestamp('1986-04-13 00:00:00'),\n",
       " Timestamp('1987-03-22 00:00:00'),\n",
       " Timestamp('1988-03-20 00:00:00'),\n",
       " Timestamp('1989-03-26 00:00:00'),\n",
       " Timestamp('1990-04-15 00:00:00'),\n",
       " Timestamp('1991-03-24 00:00:00'),\n",
       " Timestamp('1992-03-08 00:00:00'),\n",
       " Timestamp('1993-03-21 00:00:00'),\n",
       " Timestamp('1994-03-20 00:00:00'),\n",
       " Timestamp('1995-03-12 00:00:00'),\n",
       " Timestamp('1996-04-14 00:00:00'),\n",
       " Timestamp('1997-03-16 00:00:00'),\n",
       " Timestamp('1998-03-08 00:00:00'),\n",
       " Timestamp('1999-03-14 00:00:00'),\n",
       " Timestamp('2000-03-19 00:00:00'),\n",
       " Timestamp('2001-04-08 00:00:00'),\n",
       " Timestamp('2002-03-31 00:00:00'),\n",
       " Timestamp('2003-04-06 00:00:00'),\n",
       " Timestamp('2004-04-04 00:00:00'),\n",
       " Timestamp('2005-04-03 00:00:00'),\n",
       " Timestamp('2006-04-02 00:00:00'),\n",
       " Timestamp('2007-04-08 00:00:00'),\n",
       " Timestamp('2008-04-13 00:00:00'),\n",
       " Timestamp('2009-04-12 00:00:00'),\n",
       " Timestamp('2010-04-04 00:00:00'),\n",
       " Timestamp('2011-04-03 00:00:00'),\n",
       " Timestamp('2012-03-18 00:00:00'),\n",
       " Timestamp('2013-04-14 00:00:00'),\n",
       " Timestamp('2014-04-27 00:00:00'),\n",
       " Timestamp('2015-04-19 00:00:00'),\n",
       " Timestamp('2016-03-27 00:00:00'),\n",
       " Timestamp('2017-03-26 00:00:00'),\n",
       " Timestamp('2018-03-25 00:00:00'),\n",
       " Timestamp('2019-04-14 00:00:00'),\n",
       " Timestamp('2020-03-29 00:00:00'),\n",
       " Timestamp('2021-04-04 00:00:00'),\n",
       " Timestamp('2022-04-03 00:00:00')]"
      ]
     },
     "execution_count": 83,
     "metadata": {},
     "output_type": "execute_result"
    }
   ],
   "source": [
    "last_frost_pred"
   ]
  },
  {
   "cell_type": "code",
   "execution_count": 85,
   "id": "29c67423",
   "metadata": {},
   "outputs": [],
   "source": [
    "last_frost = []\n",
    "first_frost = []"
   ]
  },
  {
   "cell_type": "code",
   "execution_count": 87,
   "id": "58ecd93a",
   "metadata": {},
   "outputs": [],
   "source": [
    "for year in df_dict.keys():\n",
    "    first, last = get_frost_dates(df_dict[year])\n",
    "    first_frost.append(first)\n",
    "    last_frost.append(last)"
   ]
  },
  {
   "cell_type": "code",
   "execution_count": 89,
   "id": "cf16e6f1",
   "metadata": {},
   "outputs": [
    {
     "data": {
      "text/plain": [
       "[[Timestamp('1981-10-03 00:00:00')],\n",
       " [Timestamp('1982-10-22 00:00:00')],\n",
       " [Timestamp('1983-11-05 00:00:00')],\n",
       " [Timestamp('1984-10-24 00:00:00')],\n",
       " [Timestamp('1985-11-17 00:00:00')],\n",
       " [Timestamp('1986-11-02 00:00:00')],\n",
       " [Timestamp('1987-10-08 00:00:00')],\n",
       " [Timestamp('1988-10-13 00:00:00')],\n",
       " [Timestamp('1989-11-02 00:00:00')],\n",
       " [Timestamp('1990-10-19 00:00:00')],\n",
       " [Timestamp('1991-10-16 00:00:00')],\n",
       " [Timestamp('1992-10-17 00:00:00')],\n",
       " [Timestamp('1993-10-10 00:00:00')],\n",
       " [Timestamp('1994-11-19 00:00:00')],\n",
       " [Timestamp('1995-11-02 00:00:00')],\n",
       " [Timestamp('1996-10-30 00:00:00')],\n",
       " [Timestamp('1997-10-27 00:00:00')],\n",
       " [Timestamp('1998-11-06 00:00:00')],\n",
       " [Timestamp('1999-10-24 00:00:00')],\n",
       " [Timestamp('2000-10-07 00:00:00')],\n",
       " [Timestamp('2001-10-07 00:00:00')],\n",
       " [Timestamp('2002-11-01 00:00:00')],\n",
       " [Timestamp('2003-10-02 00:00:00')],\n",
       " [Timestamp('2004-10-17 00:00:00')],\n",
       " [Timestamp('2005-11-10 00:00:00')],\n",
       " [Timestamp('2006-10-12 00:00:00')],\n",
       " [Timestamp('2007-11-07 00:00:00')],\n",
       " [Timestamp('2008-10-28 00:00:00')],\n",
       " [Timestamp('2009-10-11 00:00:00')],\n",
       " [Timestamp('2010-11-05 00:00:00')],\n",
       " [Timestamp('2011-11-10 00:00:00')],\n",
       " [Timestamp('2012-11-06 00:00:00')],\n",
       " [Timestamp('2013-10-22 00:00:00')],\n",
       " [Timestamp('2014-11-02 00:00:00')],\n",
       " [Timestamp('2015-11-14 00:00:00')],\n",
       " [Timestamp('2016-11-19 00:00:00')],\n",
       " [Timestamp('2017-11-08 00:00:00')],\n",
       " [Timestamp('2018-10-20 00:00:00')],\n",
       " [Timestamp('2019-10-31 00:00:00')],\n",
       " [Timestamp('2020-10-28 00:00:00')],\n",
       " [Timestamp('2021-11-02 00:00:00')],\n",
       " [Timestamp('2022-11-13 00:00:00')]]"
      ]
     },
     "execution_count": 89,
     "metadata": {},
     "output_type": "execute_result"
    }
   ],
   "source": [
    "first_frost"
   ]
  },
  {
   "cell_type": "code",
   "execution_count": 96,
   "id": "d0aabf0b",
   "metadata": {},
   "outputs": [
    {
     "data": {
      "text/plain": [
       "<matplotlib.legend.Legend at 0x2691e4a2dd0>"
      ]
     },
     "execution_count": 96,
     "metadata": {},
     "output_type": "execute_result"
    },
    {
     "data": {
      "image/png": "[encoded data removed]",
      "text/plain": [
       "<Figure size 1200x800 with 1 Axes>"
      ]
     },
     "metadata": {},
     "output_type": "display_data"
    }
   ],
   "source": [
    "fig = plt.figure(figsize=(12, 8))\n",
    "plt.scatter(\n",
    "    x=range(1981, 2023), y=first_frost_pred, label=\"First Frost Predicted\"\n",
    ")\n",
    "plt.scatter(x=range(1981, 2023), y=first_frost, label=\"First Frost Observed\")\n",
    "fig.legend()"
   ]
  },
  {
   "cell_type": "code",
   "execution_count": 103,
   "id": "dc1d58df",
   "metadata": {},
   "outputs": [
    {
     "data": {
      "text/plain": [
       "Timedelta('36 days 00:00:00')"
      ]
     },
     "execution_count": 103,
     "metadata": {},
     "output_type": "execute_result"
    }
   ],
   "source": [
    "first_frost_pred[0] - first_frost[0][0]"
   ]
  },
  {
   "cell_type": "code",
   "execution_count": 104,
   "id": "096c1e29",
   "metadata": {},
   "outputs": [],
   "source": [
    "first_frost_diffs = []"
   ]
  },
  {
   "cell_type": "code",
   "execution_count": 105,
   "id": "85d462b0",
   "metadata": {},
   "outputs": [
    {
     "data": {
      "text/plain": [
       "42"
      ]
     },
     "execution_count": 105,
     "metadata": {},
     "output_type": "execute_result"
    }
   ],
   "source": [
    "len(first_frost_pred)"
   ]
  },
  {
   "cell_type": "code",
   "execution_count": 106,
   "id": "361263b3",
   "metadata": {},
   "outputs": [],
   "source": [
    "for i in range(len(first_frost_pred)):\n",
    "    first_frost_diffs.append(first_frost_pred[i] - first_frost[i][0])"
   ]
  },
  {
   "cell_type": "code",
   "execution_count": 115,
   "id": "99883e40",
   "metadata": {},
   "outputs": [
    {
     "data": {
      "text/plain": [
       "36"
      ]
     },
     "execution_count": 115,
     "metadata": {},
     "output_type": "execute_result"
    }
   ],
   "source": [
    "first_frost_diffs[0].days"
   ]
  },
  {
   "cell_type": "code",
   "execution_count": 133,
   "id": "9823cf66",
   "metadata": {},
   "outputs": [
    {
     "data": {
      "text/plain": [
       "Text(0, 0.5, 'days')"
      ]
     },
     "execution_count": 133,
     "metadata": {},
     "output_type": "execute_result"
    },
    {
     "data": {
      "image/png": "[encoded data removed]",
      "text/plain": [
       "<Figure size 1200x800 with 1 Axes>"
      ]
     },
     "metadata": {},
     "output_type": "display_data"
    }
   ],
   "source": [
    "fig = plt.figure(figsize=(12, 8))\n",
    "plt.scatter(x=range(1981, 2023), y=[x.days for x in first_frost_diffs])\n",
    "fig.get_axes()[0].set_title(\"First Frost (Prediction - Observed)\")\n",
    "fig.get_axes()[0].set_ylabel(\"days\")"
   ]
  },
  {
   "cell_type": "code",
   "execution_count": 129,
   "id": "fdd6bf7e",
   "metadata": {},
   "outputs": [],
   "source": [
    "last_frost_diffs = []"
   ]
  },
  {
   "cell_type": "code",
   "execution_count": 130,
   "id": "d08c868e",
   "metadata": {},
   "outputs": [],
   "source": [
    "for i in range(len(last_frost_pred)):\n",
    "    last_frost_diffs.append(last_frost_pred[i] - last_frost[i][0])"
   ]
  },
  {
   "cell_type": "code",
   "execution_count": 132,
   "id": "5a9aa9ce",
   "metadata": {},
   "outputs": [
    {
     "data": {
      "text/plain": [
       "Text(0, 0.5, 'days')"
      ]
     },
     "execution_count": 132,
     "metadata": {},
     "output_type": "execute_result"
    },
    {
     "data": {
      "image/png": "[encoded data removed]",
      "text/plain": [
       "<Figure size 1200x800 with 1 Axes>"
      ]
     },
     "metadata": {},
     "output_type": "display_data"
    }
   ],
   "source": [
    "fig2 = plt.figure(figsize=(12, 8))\n",
    "plt.scatter(x=range(1981, 2023), y=[x.days for x in last_frost_diffs])\n",
    "fig2.get_axes()[0].set_title(\"Last Frost (Prediction - Observed)\")\n",
    "fig2.get_axes()[0].set_ylabel(\"days\")"
   ]
  },
  {
   "cell_type": "code",
   "execution_count": null,
   "id": "f912939a",
   "metadata": {},
   "outputs": [],
   "source": [
    "first"
   ]
  }
 ],
 "metadata": {
  "kernelspec": {
   "display_name": "almanac kernel",
   "language": "python",
   "name": "almanac-kernel"
  },
  "language_info": {
   "codemirror_mode": {
    "name": "ipython",
    "version": 3
   },
   "file_extension": ".py",
   "mimetype": "text/x-python",
   "name": "python",
   "nbconvert_exporter": "python",
   "pygments_lexer": "ipython3",
   "version": "3.11.5"
  }
 },
 "nbformat": 4,
 "nbformat_minor": 5
}
