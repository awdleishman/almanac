{
 "cells": [
  {
   "cell_type": "code",
   "execution_count": 1,
   "id": "ae4c8553",
   "metadata": {},
   "outputs": [],
   "source": [
    "from Almanac.Data import get_weather_data\n",
    "from Almanac.Data import get_frost_dates\n",
    "from Almanac.Data import binarize\n",
    "import pandas as pd\n",
    "import numpy as np\n",
    "import seaborn as sns\n",
    "import matplotlib.pyplot as plt\n",
    "from datetime import datetime, timedelta\n",
    "from statsmodels.tsa.statespace.sarimax import SARIMAX\n",
    "from sklearn.ensemble import RandomForestRegressor\n",
    "from sklearn.preprocessing import FunctionTransformer\n",
    "import time\n",
    "\n",
    "%matplotlib inline"
   ]
  },
  {
   "cell_type": "code",
   "execution_count": 2,
   "id": "cc949268",
   "metadata": {},
   "outputs": [],
   "source": [
    "def sarima_forecast(data, config, start=None, end=None):\n",
    "    order, sorder, trend = config\n",
    "    model = SARIMAX(\n",
    "        data,\n",
    "        order=order,\n",
    "        seasonal_order=sorder,\n",
    "        trend=trend,\n",
    "        enforce_stationarity=False,\n",
    "        enforce_invertibility=False,\n",
    "    )\n",
    "\n",
    "    model_fit = model.fit()\n",
    "\n",
    "    if (start != None) & (end != None):\n",
    "        prediction = model_fit.predict(start=start, end=end)\n",
    "        print(\"Returning forecast\")\n",
    "        return prediction\n",
    "    else:\n",
    "        print(\"Returning fitted model\")\n",
    "        return model_fit"
   ]
  },
  {
   "cell_type": "code",
   "execution_count": 3,
   "id": "d919775f",
   "metadata": {},
   "outputs": [],
   "source": [
    "df = get_weather_data(\"Chicago, IL\", start=\"2018-01-01\", end=\"2022-12-31\")"
   ]
  },
  {
   "cell_type": "code",
   "execution_count": 12,
   "id": "2999f132",
   "metadata": {},
   "outputs": [
    {
     "data": {
      "text/html": [
       "<div>\n",
       "<style scoped>\n",
       "    .dataframe tbody tr th:only-of-type {\n",
       "        vertical-align: middle;\n",
       "    }\n",
       "\n",
       "    .dataframe tbody tr th {\n",
       "        vertical-align: top;\n",
       "    }\n",
       "\n",
       "    .dataframe thead th {\n",
       "        text-align: right;\n",
       "    }\n",
       "</style>\n",
       "<table border=\"1\" class=\"dataframe\">\n",
       "  <thead>\n",
       "    <tr style=\"text-align: right;\">\n",
       "      <th></th>\n",
       "      <th>tavg</th>\n",
       "      <th>tmin</th>\n",
       "      <th>tmax</th>\n",
       "      <th>prcp</th>\n",
       "      <th>snow</th>\n",
       "      <th>wdir</th>\n",
       "      <th>wspd</th>\n",
       "      <th>wpgt</th>\n",
       "      <th>pres</th>\n",
       "      <th>tsun</th>\n",
       "    </tr>\n",
       "    <tr>\n",
       "      <th>time</th>\n",
       "      <th></th>\n",
       "      <th></th>\n",
       "      <th></th>\n",
       "      <th></th>\n",
       "      <th></th>\n",
       "      <th></th>\n",
       "      <th></th>\n",
       "      <th></th>\n",
       "      <th></th>\n",
       "      <th></th>\n",
       "    </tr>\n",
       "  </thead>\n",
       "  <tbody>\n",
       "    <tr>\n",
       "      <th>2018-01-01</th>\n",
       "      <td>-19.1</td>\n",
       "      <td>-21.7</td>\n",
       "      <td>-16.1</td>\n",
       "      <td>0.0</td>\n",
       "      <td>51.0</td>\n",
       "      <td>281.0</td>\n",
       "      <td>16.9</td>\n",
       "      <td>NaN</td>\n",
       "      <td>1041.9</td>\n",
       "      <td>NaN</td>\n",
       "    </tr>\n",
       "    <tr>\n",
       "      <th>2018-01-02</th>\n",
       "      <td>-18.5</td>\n",
       "      <td>-23.3</td>\n",
       "      <td>-13.9</td>\n",
       "      <td>0.0</td>\n",
       "      <td>51.0</td>\n",
       "      <td>234.0</td>\n",
       "      <td>18.4</td>\n",
       "      <td>NaN</td>\n",
       "      <td>1035.2</td>\n",
       "      <td>NaN</td>\n",
       "    </tr>\n",
       "    <tr>\n",
       "      <th>2018-01-03</th>\n",
       "      <td>-10.0</td>\n",
       "      <td>-13.9</td>\n",
       "      <td>-7.8</td>\n",
       "      <td>0.0</td>\n",
       "      <td>51.0</td>\n",
       "      <td>279.0</td>\n",
       "      <td>20.7</td>\n",
       "      <td>NaN</td>\n",
       "      <td>1021.2</td>\n",
       "      <td>NaN</td>\n",
       "    </tr>\n",
       "    <tr>\n",
       "      <th>2018-01-04</th>\n",
       "      <td>-14.0</td>\n",
       "      <td>-16.7</td>\n",
       "      <td>-10.6</td>\n",
       "      <td>0.0</td>\n",
       "      <td>51.0</td>\n",
       "      <td>322.0</td>\n",
       "      <td>19.2</td>\n",
       "      <td>NaN</td>\n",
       "      <td>1027.6</td>\n",
       "      <td>NaN</td>\n",
       "    </tr>\n",
       "    <tr>\n",
       "      <th>2018-01-05</th>\n",
       "      <td>-14.8</td>\n",
       "      <td>-17.8</td>\n",
       "      <td>-11.1</td>\n",
       "      <td>0.0</td>\n",
       "      <td>51.0</td>\n",
       "      <td>315.0</td>\n",
       "      <td>16.7</td>\n",
       "      <td>NaN</td>\n",
       "      <td>1032.1</td>\n",
       "      <td>NaN</td>\n",
       "    </tr>\n",
       "    <tr>\n",
       "      <th>...</th>\n",
       "      <td>...</td>\n",
       "      <td>...</td>\n",
       "      <td>...</td>\n",
       "      <td>...</td>\n",
       "      <td>...</td>\n",
       "      <td>...</td>\n",
       "      <td>...</td>\n",
       "      <td>...</td>\n",
       "      <td>...</td>\n",
       "      <td>...</td>\n",
       "    </tr>\n",
       "    <tr>\n",
       "      <th>2022-12-27</th>\n",
       "      <td>-8.1</td>\n",
       "      <td>-13.3</td>\n",
       "      <td>-3.3</td>\n",
       "      <td>0.0</td>\n",
       "      <td>25.0</td>\n",
       "      <td>210.0</td>\n",
       "      <td>19.8</td>\n",
       "      <td>NaN</td>\n",
       "      <td>1021.5</td>\n",
       "      <td>NaN</td>\n",
       "    </tr>\n",
       "    <tr>\n",
       "      <th>2022-12-28</th>\n",
       "      <td>2.7</td>\n",
       "      <td>-3.9</td>\n",
       "      <td>7.2</td>\n",
       "      <td>0.0</td>\n",
       "      <td>0.0</td>\n",
       "      <td>195.0</td>\n",
       "      <td>26.9</td>\n",
       "      <td>NaN</td>\n",
       "      <td>1010.6</td>\n",
       "      <td>NaN</td>\n",
       "    </tr>\n",
       "    <tr>\n",
       "      <th>2022-12-29</th>\n",
       "      <td>10.9</td>\n",
       "      <td>6.7</td>\n",
       "      <td>13.9</td>\n",
       "      <td>0.0</td>\n",
       "      <td>0.0</td>\n",
       "      <td>197.0</td>\n",
       "      <td>26.5</td>\n",
       "      <td>NaN</td>\n",
       "      <td>1010.4</td>\n",
       "      <td>NaN</td>\n",
       "    </tr>\n",
       "    <tr>\n",
       "      <th>2022-12-30</th>\n",
       "      <td>5.9</td>\n",
       "      <td>-0.6</td>\n",
       "      <td>13.9</td>\n",
       "      <td>0.0</td>\n",
       "      <td>0.0</td>\n",
       "      <td>256.0</td>\n",
       "      <td>15.1</td>\n",
       "      <td>NaN</td>\n",
       "      <td>1015.0</td>\n",
       "      <td>NaN</td>\n",
       "    </tr>\n",
       "    <tr>\n",
       "      <th>2022-12-31</th>\n",
       "      <td>0.7</td>\n",
       "      <td>-2.8</td>\n",
       "      <td>3.9</td>\n",
       "      <td>0.0</td>\n",
       "      <td>0.0</td>\n",
       "      <td>301.0</td>\n",
       "      <td>6.1</td>\n",
       "      <td>NaN</td>\n",
       "      <td>1014.1</td>\n",
       "      <td>NaN</td>\n",
       "    </tr>\n",
       "  </tbody>\n",
       "</table>\n",
       "<p>1826 rows × 10 columns</p>\n",
       "</div>"
      ],
      "text/plain": [
       "            tavg  tmin  tmax  prcp  snow   wdir  wspd  wpgt    pres  tsun\n",
       "time                                                                     \n",
       "2018-01-01 -19.1 -21.7 -16.1   0.0  51.0  281.0  16.9   NaN  1041.9   NaN\n",
       "2018-01-02 -18.5 -23.3 -13.9   0.0  51.0  234.0  18.4   NaN  1035.2   NaN\n",
       "2018-01-03 -10.0 -13.9  -7.8   0.0  51.0  279.0  20.7   NaN  1021.2   NaN\n",
       "2018-01-04 -14.0 -16.7 -10.6   0.0  51.0  322.0  19.2   NaN  1027.6   NaN\n",
       "2018-01-05 -14.8 -17.8 -11.1   0.0  51.0  315.0  16.7   NaN  1032.1   NaN\n",
       "...          ...   ...   ...   ...   ...    ...   ...   ...     ...   ...\n",
       "2022-12-27  -8.1 -13.3  -3.3   0.0  25.0  210.0  19.8   NaN  1021.5   NaN\n",
       "2022-12-28   2.7  -3.9   7.2   0.0   0.0  195.0  26.9   NaN  1010.6   NaN\n",
       "2022-12-29  10.9   6.7  13.9   0.0   0.0  197.0  26.5   NaN  1010.4   NaN\n",
       "2022-12-30   5.9  -0.6  13.9   0.0   0.0  256.0  15.1   NaN  1015.0   NaN\n",
       "2022-12-31   0.7  -2.8   3.9   0.0   0.0  301.0   6.1   NaN  1014.1   NaN\n",
       "\n",
       "[1826 rows x 10 columns]"
      ]
     },
     "execution_count": 12,
     "metadata": {},
     "output_type": "execute_result"
    }
   ],
   "source": [
    "df"
   ]
  },
  {
   "cell_type": "markdown",
   "id": "d5b9ca27",
   "metadata": {},
   "source": [
    "# DO SARIMA forcast on df. Predict 2018-2022 do RFR on those residuals."
   ]
  },
  {
   "cell_type": "code",
   "execution_count": 4,
   "id": "d84b9f88",
   "metadata": {},
   "outputs": [],
   "source": [
    "config = ((3, 0, 2), (3, 0, 0, 52), \"c\")"
   ]
  },
  {
   "cell_type": "code",
   "execution_count": 5,
   "id": "e0a475b5",
   "metadata": {
    "scrolled": true
   },
   "outputs": [
    {
     "name": "stdout",
     "output_type": "stream",
     "text": [
      "Returning fitted model\n"
     ]
    }
   ],
   "source": [
    "mod = sarima_forecast(df[\"tmin\"].resample(\"W\").min(), config)"
   ]
  },
  {
   "cell_type": "code",
   "execution_count": 6,
   "id": "37fbcea5",
   "metadata": {},
   "outputs": [
    {
     "data": {
      "text/plain": [
       "statsmodels.tsa.statespace.sarimax.SARIMAXResultsWrapper"
      ]
     },
     "execution_count": 6,
     "metadata": {},
     "output_type": "execute_result"
    }
   ],
   "source": [
    "type(mod)"
   ]
  },
  {
   "cell_type": "code",
   "execution_count": 19,
   "id": "a8c24804",
   "metadata": {},
   "outputs": [],
   "source": [
    "start = df[\"tmin\"].resample(\"W\").min().index[0]\n",
    "end = df[\"tmin\"].resample(\"W\").min().index[-1]"
   ]
  },
  {
   "cell_type": "code",
   "execution_count": 22,
   "id": "1d87ada9",
   "metadata": {},
   "outputs": [],
   "source": [
    "pred = mod.predict(start, end)\n",
    "act = df[\"tmin\"].resample(\"W\").min()"
   ]
  },
  {
   "cell_type": "code",
   "execution_count": 624,
   "id": "c5ab45cf",
   "metadata": {},
   "outputs": [
    {
     "data": {
      "text/plain": [
       "<matplotlib.legend.Legend at 0x29658271d90>"
      ]
     },
     "execution_count": 624,
     "metadata": {},
     "output_type": "execute_result"
    },
    {
     "data": {
      "image/png": "[encoded data removed]",
      "text/plain": [
       "<Figure size 640x480 with 1 Axes>"
      ]
     },
     "metadata": {},
     "output_type": "display_data"
    }
   ],
   "source": [
    "plt.plot(pred)\n",
    "plt.plot(act)\n",
    "plt.legend([\"pred\", \"act\"])"
   ]
  },
  {
   "cell_type": "code",
   "execution_count": 625,
   "id": "6f489518",
   "metadata": {},
   "outputs": [
    {
     "data": {
      "text/plain": [
       "time\n",
       "2018-01-07   -23.300000\n",
       "2018-01-14    16.050339\n",
       "2018-01-21   -23.015400\n",
       "2018-01-28     6.797014\n",
       "2018-02-04   -23.851185\n",
       "                ...    \n",
       "2022-12-04    -9.118658\n",
       "2022-12-11     4.094087\n",
       "2022-12-18    -0.488687\n",
       "2022-12-25    -9.834556\n",
       "2023-01-01    -2.617847\n",
       "Freq: W-SUN, Length: 261, dtype: float64"
      ]
     },
     "execution_count": 625,
     "metadata": {},
     "output_type": "execute_result"
    }
   ],
   "source": [
    "mod.resid"
   ]
  },
  {
   "cell_type": "code",
   "execution_count": 626,
   "id": "fcf3a9b0",
   "metadata": {},
   "outputs": [],
   "source": [
    "rfr = RandomForestRegressor(n_estimators=600)"
   ]
  },
  {
   "cell_type": "code",
   "execution_count": 627,
   "id": "5d77c177",
   "metadata": {},
   "outputs": [],
   "source": [
    "def sin_transformer(period):\n",
    "    return FunctionTransformer(lambda x: np.sin(x / period * 2 * np.pi))\n",
    "\n",
    "\n",
    "def cos_transformer(period):\n",
    "    return FunctionTransformer(lambda x: np.cos(x / period * 2 * np.pi))"
   ]
  },
  {
   "cell_type": "code",
   "execution_count": 628,
   "id": "153f6762",
   "metadata": {},
   "outputs": [],
   "source": [
    "df[\"day_sin\"] = sin_transformer(365).fit_transform(df.index.day_of_year)\n",
    "df[\"day_cos\"] = cos_transformer(365).fit_transform(df.index.day_of_year)"
   ]
  },
  {
   "cell_type": "code",
   "execution_count": 629,
   "id": "a22f7b85",
   "metadata": {},
   "outputs": [],
   "source": [
    "resid = mod.resid.drop(\"2023-01-01\")"
   ]
  },
  {
   "cell_type": "code",
   "execution_count": 630,
   "id": "02479ed9",
   "metadata": {},
   "outputs": [
    {
     "data": {
      "text/html": [
       "<style>#sk-container-id-14 {color: black;}#sk-container-id-14 pre{padding: 0;}#sk-container-id-14 div.sk-toggleable {background-color: white;}#sk-container-id-14 label.sk-toggleable__label {cursor: pointer;display: block;width: 100%;margin-bottom: 0;padding: 0.3em;box-sizing: border-box;text-align: center;}#sk-container-id-14 label.sk-toggleable__label-arrow:before {content: \"▸\";float: left;margin-right: 0.25em;color: #696969;}#sk-container-id-14 label.sk-toggleable__label-arrow:hover:before {color: black;}#sk-container-id-14 div.sk-estimator:hover label.sk-toggleable__label-arrow:before {color: black;}#sk-container-id-14 div.sk-toggleable__content {max-height: 0;max-width: 0;overflow: hidden;text-align: left;background-color: #f0f8ff;}#sk-container-id-14 div.sk-toggleable__content pre {margin: 0.2em;color: black;border-radius: 0.25em;background-color: #f0f8ff;}#sk-container-id-14 input.sk-toggleable__control:checked~div.sk-toggleable__content {max-height: 200px;max-width: 100%;overflow: auto;}#sk-container-id-14 input.sk-toggleable__control:checked~label.sk-toggleable__label-arrow:before {content: \"▾\";}#sk-container-id-14 div.sk-estimator input.sk-toggleable__control:checked~label.sk-toggleable__label {background-color: #d4ebff;}#sk-container-id-14 div.sk-label input.sk-toggleable__control:checked~label.sk-toggleable__label {background-color: #d4ebff;}#sk-container-id-14 input.sk-hidden--visually {border: 0;clip: rect(1px 1px 1px 1px);clip: rect(1px, 1px, 1px, 1px);height: 1px;margin: -1px;overflow: hidden;padding: 0;position: absolute;width: 1px;}#sk-container-id-14 div.sk-estimator {font-family: monospace;background-color: #f0f8ff;border: 1px dotted black;border-radius: 0.25em;box-sizing: border-box;margin-bottom: 0.5em;}#sk-container-id-14 div.sk-estimator:hover {background-color: #d4ebff;}#sk-container-id-14 div.sk-parallel-item::after {content: \"\";width: 100%;border-bottom: 1px solid gray;flex-grow: 1;}#sk-container-id-14 div.sk-label:hover label.sk-toggleable__label {background-color: #d4ebff;}#sk-container-id-14 div.sk-serial::before {content: \"\";position: absolute;border-left: 1px solid gray;box-sizing: border-box;top: 0;bottom: 0;left: 50%;z-index: 0;}#sk-container-id-14 div.sk-serial {display: flex;flex-direction: column;align-items: center;background-color: white;padding-right: 0.2em;padding-left: 0.2em;position: relative;}#sk-container-id-14 div.sk-item {position: relative;z-index: 1;}#sk-container-id-14 div.sk-parallel {display: flex;align-items: stretch;justify-content: center;background-color: white;position: relative;}#sk-container-id-14 div.sk-item::before, #sk-container-id-14 div.sk-parallel-item::before {content: \"\";position: absolute;border-left: 1px solid gray;box-sizing: border-box;top: 0;bottom: 0;left: 50%;z-index: -1;}#sk-container-id-14 div.sk-parallel-item {display: flex;flex-direction: column;z-index: 1;position: relative;background-color: white;}#sk-container-id-14 div.sk-parallel-item:first-child::after {align-self: flex-end;width: 50%;}#sk-container-id-14 div.sk-parallel-item:last-child::after {align-self: flex-start;width: 50%;}#sk-container-id-14 div.sk-parallel-item:only-child::after {width: 0;}#sk-container-id-14 div.sk-dashed-wrapped {border: 1px dashed gray;margin: 0 0.4em 0.5em 0.4em;box-sizing: border-box;padding-bottom: 0.4em;background-color: white;}#sk-container-id-14 div.sk-label label {font-family: monospace;font-weight: bold;display: inline-block;line-height: 1.2em;}#sk-container-id-14 div.sk-label-container {text-align: center;}#sk-container-id-14 div.sk-container {/* jupyter's `normalize.less` sets `[hidden] { display: none; }` but bootstrap.min.css set `[hidden] { display: none !important; }` so we also need the `!important` here to be able to override the default hidden behavior on the sphinx rendered scikit-learn.org. See: https://github.com/scikit-learn/scikit-learn/issues/21755 */display: inline-block !important;position: relative;}#sk-container-id-14 div.sk-text-repr-fallback {display: none;}</style><div id=\"sk-container-id-14\" class=\"sk-top-container\"><div class=\"sk-text-repr-fallback\"><pre>RandomForestRegressor(n_estimators=9000)</pre><b>In a Jupyter environment, please rerun this cell to show the HTML representation or trust the notebook. <br />On GitHub, the HTML representation is unable to render, please try loading this page with nbviewer.org.</b></div><div class=\"sk-container\" hidden><div class=\"sk-item\"><div class=\"sk-estimator sk-toggleable\"><input class=\"sk-toggleable__control sk-hidden--visually\" id=\"sk-estimator-id-14\" type=\"checkbox\" checked><label for=\"sk-estimator-id-14\" class=\"sk-toggleable__label sk-toggleable__label-arrow\">RandomForestRegressor</label><div class=\"sk-toggleable__content\"><pre>RandomForestRegressor(n_estimators=9000)</pre></div></div></div></div></div>"
      ],
      "text/plain": [
       "RandomForestRegressor(n_estimators=9000)"
      ]
     },
     "execution_count": 630,
     "metadata": {},
     "output_type": "execute_result"
    }
   ],
   "source": [
    "rfr.fit(df[[\"day_sin\", \"day_cos\"]].loc[resid.index], resid)"
   ]
  },
  {
   "cell_type": "code",
   "execution_count": 631,
   "id": "52c11f9b",
   "metadata": {},
   "outputs": [],
   "source": [
    "pred_resid = rfr.predict(df[[\"day_sin\", \"day_cos\"]].loc[resid.index])"
   ]
  },
  {
   "cell_type": "code",
   "execution_count": 632,
   "id": "50c6079d",
   "metadata": {},
   "outputs": [
    {
     "data": {
      "text/plain": [
       "<matplotlib.legend.Legend at 0x29658480210>"
      ]
     },
     "execution_count": 632,
     "metadata": {},
     "output_type": "execute_result"
    },
    {
     "data": {
      "image/png": "[encoded data removed]",
      "text/plain": [
       "<Figure size 640x480 with 1 Axes>"
      ]
     },
     "metadata": {},
     "output_type": "display_data"
    }
   ],
   "source": [
    "plt.plot(pred.drop(\"2023-01-01\") + pred_resid)\n",
    "plt.plot(act)\n",
    "plt.legend([\"Pred 2\", \"act\"])"
   ]
  },
  {
   "cell_type": "code",
   "execution_count": 633,
   "id": "834f63fe",
   "metadata": {},
   "outputs": [
    {
     "data": {
      "text/plain": [
       "array([-14.24999626,   6.51879533, -14.43514152,   0.91423525,\n",
       "       -17.51326973,   1.53029281,  -9.72101564,   0.73472073,\n",
       "        -9.38669925,  -3.15697434,   1.27109937,  -4.77752229,\n",
       "        -1.40392789,  -2.89169526,   1.97638734,  -4.44521299,\n",
       "         2.09619921,   1.88384366,   1.34020461,   2.6700737 ,\n",
       "         5.52959149,   3.84707264,   3.69681872,   8.95432417,\n",
       "         3.68995981,   9.71976643,   6.04379016,   9.07937727,\n",
       "         7.60173605,   6.45463272,   9.46680317,   8.15216612,\n",
       "         7.11317722,   6.16932377,   9.69865447,   5.11178413,\n",
       "         5.93904069,   6.07787762,   1.02584775,   8.64758053,\n",
       "        -6.2416921 ,   5.36165681,   2.43510679,  -4.10281206,\n",
       "        -2.17773982,  -1.33647381,  -1.64411415,  -6.67244866,\n",
       "        -2.68069141,  -2.80140856,  -2.19292371,  -5.17378672,\n",
       "        -0.9706557 ,  -6.86653622,  -3.85912096,  -7.22360124,\n",
       "       -10.86247488,   1.22807839, -13.6830105 ,  -1.3336321 ,\n",
       "        -7.85099627,  -5.62311348,   4.62141242, -10.383364  ,\n",
       "         1.65957108,  -0.39882031,  -0.05831947,  -2.44046461,\n",
       "         1.77227447,   0.95681943,   0.26393585,   2.48204975,\n",
       "         3.56193493,   3.10941294,   2.88886855,   4.13101821,\n",
       "         4.48458758,   6.52178051,   5.05323541,   4.20619585,\n",
       "        11.16560872,   2.16440982,   8.88443921,   6.06373993,\n",
       "         6.97998021,   4.88951407,   6.95419287,   4.27209164,\n",
       "         6.79666469,   5.636351  ,   2.75360985,   2.58419118,\n",
       "         2.21788873,   3.36093621,  -0.53419477,  -3.2312736 ,\n",
       "         0.044895  ,  -4.72820568,   3.00701741,  -5.6734003 ,\n",
       "        -2.65262526,  -2.62026474,  -2.66223127,   0.40796955,\n",
       "        -2.25708792,  -5.58484841,  -2.28639098,  -0.18157018,\n",
       "        -0.80207584,  -5.33221429,  -7.5318293 ,   2.33984095,\n",
       "        -6.18876076,  -1.88205449,   0.47828491,  -3.56729297,\n",
       "         3.93887307,  -1.28144207,   1.00748201,  -1.89253096,\n",
       "         2.9594986 ,  -2.44820978,  -1.38177662,   3.761008  ,\n",
       "         1.72153312,  -0.47354508,   5.01669333,   0.59840711,\n",
       "         3.97416265,   2.17635152,   4.12174608,   1.39241667,\n",
       "         6.95082512,   4.65687497,   4.27638433,   1.89085629,\n",
       "         7.69685883,   1.41041922,   5.49269975,   1.02158207,\n",
       "         6.940565  ,  -1.03381689,   7.88397802,  -5.4682743 ,\n",
       "         7.20886845,  -0.73811836,  -1.20604473,  -0.0534308 ,\n",
       "         1.09828192,  -1.33449347,   0.09048091,  -0.71059532,\n",
       "        -1.77563842,   0.88624617,  -4.4168871 ,  -2.09770751,\n",
       "         7.54677797,  -8.77297729,   3.95158371,  -4.42587473,\n",
       "         5.6996919 ,  -5.22025984,  -0.19717668,  -6.92253912,\n",
       "         1.03045885,   1.10787219,  -1.20840603,   2.54245458,\n",
       "         3.02831356,   0.04451462,   3.46690539,  -0.14214298,\n",
       "        -2.30576949,  -1.11903344,  -1.16532084,   0.93619274,\n",
       "         3.66147488,  -4.51372039,   1.36270242,   3.14082766,\n",
       "         0.33170012,  -1.00738864,  -1.5988736 ,  -2.05137254,\n",
       "         0.45869914,   2.99149245,   1.52527367,   2.02938659,\n",
       "        -0.46164267,   0.90188302,   1.16513834,   0.82241085,\n",
       "         1.51188649,   2.06924856,   0.32923189,   3.47452733,\n",
       "         8.45111622,   0.64712178,  -0.37399059,   2.92421106,\n",
       "         3.65747612,   4.78751514,  -3.04335815,  -2.59423827,\n",
       "        -1.17217671,  -2.29959475,   1.41942399,  -3.22467724,\n",
       "         1.02971699,  -9.11079717,   0.64875918,  -3.41265408,\n",
       "        -0.87639979,  -3.27939214,   4.0170745 ,  -4.35333971,\n",
       "         0.43252876,   2.79362895,  -7.65141899,   2.92805131,\n",
       "        -1.44029713,  -0.26779393,   0.15543723,   1.44992652,\n",
       "        -1.52076349,  -1.85518291,   0.70805809,   4.97930147,\n",
       "         2.16343971,  -0.88633655,   2.11925478,  -0.81706654,\n",
       "         0.71794383,   2.01348029,   2.50043643,   1.28513795,\n",
       "         0.79679177,   3.17299353,   0.36688105,   4.49520644,\n",
       "         0.11306488,   1.83769162,   0.52868567,   2.7407122 ,\n",
       "         1.0479735 ,   0.63052101,   0.96446962,   0.30664114,\n",
       "         2.25468176,  -0.81400669,  -0.77585279,   4.81530754,\n",
       "         7.20230943,   3.47962607,  -6.25185744,  -3.02895504,\n",
       "        -6.44935003,   1.13680746,  -0.16649051,  -6.75057319])"
      ]
     },
     "execution_count": 633,
     "metadata": {},
     "output_type": "execute_result"
    }
   ],
   "source": [
    "pred_resid"
   ]
  },
  {
   "cell_type": "code",
   "execution_count": 634,
   "id": "c82c4095",
   "metadata": {},
   "outputs": [
    {
     "data": {
      "text/plain": [
       "time\n",
       "2018-01-07   -9.050004\n",
       "2018-01-14    9.531544\n",
       "2018-01-21   -8.580259\n",
       "2018-01-28    5.882779\n",
       "2018-02-04   -6.337915\n",
       "                ...   \n",
       "2022-11-27   -0.032381\n",
       "2022-12-04   -2.669308\n",
       "2022-12-11    2.957280\n",
       "2022-12-18   -0.322196\n",
       "2022-12-25   -3.083983\n",
       "Freq: W-SUN, Length: 260, dtype: float64"
      ]
     },
     "execution_count": 634,
     "metadata": {},
     "output_type": "execute_result"
    }
   ],
   "source": [
    "resid - pred_resid"
   ]
  },
  {
   "cell_type": "code",
   "execution_count": 635,
   "id": "173c3b19",
   "metadata": {},
   "outputs": [
    {
     "data": {
      "text/html": [
       "<style>#sk-container-id-15 {color: black;}#sk-container-id-15 pre{padding: 0;}#sk-container-id-15 div.sk-toggleable {background-color: white;}#sk-container-id-15 label.sk-toggleable__label {cursor: pointer;display: block;width: 100%;margin-bottom: 0;padding: 0.3em;box-sizing: border-box;text-align: center;}#sk-container-id-15 label.sk-toggleable__label-arrow:before {content: \"▸\";float: left;margin-right: 0.25em;color: #696969;}#sk-container-id-15 label.sk-toggleable__label-arrow:hover:before {color: black;}#sk-container-id-15 div.sk-estimator:hover label.sk-toggleable__label-arrow:before {color: black;}#sk-container-id-15 div.sk-toggleable__content {max-height: 0;max-width: 0;overflow: hidden;text-align: left;background-color: #f0f8ff;}#sk-container-id-15 div.sk-toggleable__content pre {margin: 0.2em;color: black;border-radius: 0.25em;background-color: #f0f8ff;}#sk-container-id-15 input.sk-toggleable__control:checked~div.sk-toggleable__content {max-height: 200px;max-width: 100%;overflow: auto;}#sk-container-id-15 input.sk-toggleable__control:checked~label.sk-toggleable__label-arrow:before {content: \"▾\";}#sk-container-id-15 div.sk-estimator input.sk-toggleable__control:checked~label.sk-toggleable__label {background-color: #d4ebff;}#sk-container-id-15 div.sk-label input.sk-toggleable__control:checked~label.sk-toggleable__label {background-color: #d4ebff;}#sk-container-id-15 input.sk-hidden--visually {border: 0;clip: rect(1px 1px 1px 1px);clip: rect(1px, 1px, 1px, 1px);height: 1px;margin: -1px;overflow: hidden;padding: 0;position: absolute;width: 1px;}#sk-container-id-15 div.sk-estimator {font-family: monospace;background-color: #f0f8ff;border: 1px dotted black;border-radius: 0.25em;box-sizing: border-box;margin-bottom: 0.5em;}#sk-container-id-15 div.sk-estimator:hover {background-color: #d4ebff;}#sk-container-id-15 div.sk-parallel-item::after {content: \"\";width: 100%;border-bottom: 1px solid gray;flex-grow: 1;}#sk-container-id-15 div.sk-label:hover label.sk-toggleable__label {background-color: #d4ebff;}#sk-container-id-15 div.sk-serial::before {content: \"\";position: absolute;border-left: 1px solid gray;box-sizing: border-box;top: 0;bottom: 0;left: 50%;z-index: 0;}#sk-container-id-15 div.sk-serial {display: flex;flex-direction: column;align-items: center;background-color: white;padding-right: 0.2em;padding-left: 0.2em;position: relative;}#sk-container-id-15 div.sk-item {position: relative;z-index: 1;}#sk-container-id-15 div.sk-parallel {display: flex;align-items: stretch;justify-content: center;background-color: white;position: relative;}#sk-container-id-15 div.sk-item::before, #sk-container-id-15 div.sk-parallel-item::before {content: \"\";position: absolute;border-left: 1px solid gray;box-sizing: border-box;top: 0;bottom: 0;left: 50%;z-index: -1;}#sk-container-id-15 div.sk-parallel-item {display: flex;flex-direction: column;z-index: 1;position: relative;background-color: white;}#sk-container-id-15 div.sk-parallel-item:first-child::after {align-self: flex-end;width: 50%;}#sk-container-id-15 div.sk-parallel-item:last-child::after {align-self: flex-start;width: 50%;}#sk-container-id-15 div.sk-parallel-item:only-child::after {width: 0;}#sk-container-id-15 div.sk-dashed-wrapped {border: 1px dashed gray;margin: 0 0.4em 0.5em 0.4em;box-sizing: border-box;padding-bottom: 0.4em;background-color: white;}#sk-container-id-15 div.sk-label label {font-family: monospace;font-weight: bold;display: inline-block;line-height: 1.2em;}#sk-container-id-15 div.sk-label-container {text-align: center;}#sk-container-id-15 div.sk-container {/* jupyter's `normalize.less` sets `[hidden] { display: none; }` but bootstrap.min.css set `[hidden] { display: none !important; }` so we also need the `!important` here to be able to override the default hidden behavior on the sphinx rendered scikit-learn.org. See: https://github.com/scikit-learn/scikit-learn/issues/21755 */display: inline-block !important;position: relative;}#sk-container-id-15 div.sk-text-repr-fallback {display: none;}</style><div id=\"sk-container-id-15\" class=\"sk-top-container\"><div class=\"sk-text-repr-fallback\"><pre>RandomForestRegressor(n_estimators=9000)</pre><b>In a Jupyter environment, please rerun this cell to show the HTML representation or trust the notebook. <br />On GitHub, the HTML representation is unable to render, please try loading this page with nbviewer.org.</b></div><div class=\"sk-container\" hidden><div class=\"sk-item\"><div class=\"sk-estimator sk-toggleable\"><input class=\"sk-toggleable__control sk-hidden--visually\" id=\"sk-estimator-id-15\" type=\"checkbox\" checked><label for=\"sk-estimator-id-15\" class=\"sk-toggleable__label sk-toggleable__label-arrow\">RandomForestRegressor</label><div class=\"sk-toggleable__content\"><pre>RandomForestRegressor(n_estimators=9000)</pre></div></div></div></div></div>"
      ],
      "text/plain": [
       "RandomForestRegressor(n_estimators=9000)"
      ]
     },
     "execution_count": 635,
     "metadata": {},
     "output_type": "execute_result"
    }
   ],
   "source": [
    "# rfr.fit(df[[\"day_sin\",\"day_cos\"]].loc[resid.index],pred.drop(\"2023-01-01\")-pred_resid)"
   ]
  },
  {
   "cell_type": "code",
   "execution_count": 636,
   "id": "d99438fe",
   "metadata": {},
   "outputs": [],
   "source": [
    "# new_pred = rfr.predict(df[[\"day_sin\",\"day_cos\"]].loc[resid.index])"
   ]
  },
  {
   "cell_type": "code",
   "execution_count": 637,
   "id": "634805f6",
   "metadata": {},
   "outputs": [
    {
     "data": {
      "text/plain": [
       "<matplotlib.legend.Legend at 0x29656d21d90>"
      ]
     },
     "execution_count": 637,
     "metadata": {},
     "output_type": "execute_result"
    },
    {
     "data": {
      "image/png": "[encoded data removed]",
      "text/plain": [
       "<Figure size 640x480 with 1 Axes>"
      ]
     },
     "metadata": {},
     "output_type": "display_data"
    }
   ],
   "source": [
    "# plt.plot(pred.drop(\"2023-01-01\")+(pred_resid-new_pred))\n",
    "# plt.plot(act)\n",
    "# plt.legend([\"pred\",\"act\"])"
   ]
  },
  {
   "cell_type": "code",
   "execution_count": 638,
   "id": "830dad48",
   "metadata": {},
   "outputs": [
    {
     "data": {
      "text/plain": [
       "time\n",
       "2018-01-07   -20.986078\n",
       "2018-01-14    -1.598942\n",
       "2018-01-21   -16.773549\n",
       "2018-01-28    -0.402685\n",
       "2018-02-04   -22.426804\n",
       "                ...    \n",
       "2022-11-27    -4.153185\n",
       "2022-12-04    -9.982491\n",
       "2022-12-11     0.722940\n",
       "2022-12-18    -2.102052\n",
       "2022-12-25   -14.748465\n",
       "Freq: W-SUN, Name: predicted_mean, Length: 260, dtype: float64"
      ]
     },
     "execution_count": 638,
     "metadata": {},
     "output_type": "execute_result"
    }
   ],
   "source": [
    "# pred.drop(\"2023-01-01\")+(pred_resid-new_pred)"
   ]
  },
  {
   "cell_type": "code",
   "execution_count": 639,
   "id": "56fe1cfc",
   "metadata": {},
   "outputs": [
    {
     "data": {
      "text/plain": [
       "time\n",
       "2018-01-07   -23.3\n",
       "2018-01-14   -13.9\n",
       "2018-01-21   -15.0\n",
       "2018-01-28    -3.3\n",
       "2018-02-04   -15.0\n",
       "              ... \n",
       "2022-12-04    -7.8\n",
       "2022-12-11    -2.2\n",
       "2022-12-18   -10.0\n",
       "2022-12-25   -22.8\n",
       "2023-01-01   -13.3\n",
       "Freq: W-SUN, Name: tmin, Length: 261, dtype: float64"
      ]
     },
     "execution_count": 639,
     "metadata": {},
     "output_type": "execute_result"
    }
   ],
   "source": [
    "# act"
   ]
  },
  {
   "cell_type": "code",
   "execution_count": 640,
   "id": "2d04066e",
   "metadata": {},
   "outputs": [
    {
     "data": {
      "text/html": [
       "<style>#sk-container-id-16 {color: black;}#sk-container-id-16 pre{padding: 0;}#sk-container-id-16 div.sk-toggleable {background-color: white;}#sk-container-id-16 label.sk-toggleable__label {cursor: pointer;display: block;width: 100%;margin-bottom: 0;padding: 0.3em;box-sizing: border-box;text-align: center;}#sk-container-id-16 label.sk-toggleable__label-arrow:before {content: \"▸\";float: left;margin-right: 0.25em;color: #696969;}#sk-container-id-16 label.sk-toggleable__label-arrow:hover:before {color: black;}#sk-container-id-16 div.sk-estimator:hover label.sk-toggleable__label-arrow:before {color: black;}#sk-container-id-16 div.sk-toggleable__content {max-height: 0;max-width: 0;overflow: hidden;text-align: left;background-color: #f0f8ff;}#sk-container-id-16 div.sk-toggleable__content pre {margin: 0.2em;color: black;border-radius: 0.25em;background-color: #f0f8ff;}#sk-container-id-16 input.sk-toggleable__control:checked~div.sk-toggleable__content {max-height: 200px;max-width: 100%;overflow: auto;}#sk-container-id-16 input.sk-toggleable__control:checked~label.sk-toggleable__label-arrow:before {content: \"▾\";}#sk-container-id-16 div.sk-estimator input.sk-toggleable__control:checked~label.sk-toggleable__label {background-color: #d4ebff;}#sk-container-id-16 div.sk-label input.sk-toggleable__control:checked~label.sk-toggleable__label {background-color: #d4ebff;}#sk-container-id-16 input.sk-hidden--visually {border: 0;clip: rect(1px 1px 1px 1px);clip: rect(1px, 1px, 1px, 1px);height: 1px;margin: -1px;overflow: hidden;padding: 0;position: absolute;width: 1px;}#sk-container-id-16 div.sk-estimator {font-family: monospace;background-color: #f0f8ff;border: 1px dotted black;border-radius: 0.25em;box-sizing: border-box;margin-bottom: 0.5em;}#sk-container-id-16 div.sk-estimator:hover {background-color: #d4ebff;}#sk-container-id-16 div.sk-parallel-item::after {content: \"\";width: 100%;border-bottom: 1px solid gray;flex-grow: 1;}#sk-container-id-16 div.sk-label:hover label.sk-toggleable__label {background-color: #d4ebff;}#sk-container-id-16 div.sk-serial::before {content: \"\";position: absolute;border-left: 1px solid gray;box-sizing: border-box;top: 0;bottom: 0;left: 50%;z-index: 0;}#sk-container-id-16 div.sk-serial {display: flex;flex-direction: column;align-items: center;background-color: white;padding-right: 0.2em;padding-left: 0.2em;position: relative;}#sk-container-id-16 div.sk-item {position: relative;z-index: 1;}#sk-container-id-16 div.sk-parallel {display: flex;align-items: stretch;justify-content: center;background-color: white;position: relative;}#sk-container-id-16 div.sk-item::before, #sk-container-id-16 div.sk-parallel-item::before {content: \"\";position: absolute;border-left: 1px solid gray;box-sizing: border-box;top: 0;bottom: 0;left: 50%;z-index: -1;}#sk-container-id-16 div.sk-parallel-item {display: flex;flex-direction: column;z-index: 1;position: relative;background-color: white;}#sk-container-id-16 div.sk-parallel-item:first-child::after {align-self: flex-end;width: 50%;}#sk-container-id-16 div.sk-parallel-item:last-child::after {align-self: flex-start;width: 50%;}#sk-container-id-16 div.sk-parallel-item:only-child::after {width: 0;}#sk-container-id-16 div.sk-dashed-wrapped {border: 1px dashed gray;margin: 0 0.4em 0.5em 0.4em;box-sizing: border-box;padding-bottom: 0.4em;background-color: white;}#sk-container-id-16 div.sk-label label {font-family: monospace;font-weight: bold;display: inline-block;line-height: 1.2em;}#sk-container-id-16 div.sk-label-container {text-align: center;}#sk-container-id-16 div.sk-container {/* jupyter's `normalize.less` sets `[hidden] { display: none; }` but bootstrap.min.css set `[hidden] { display: none !important; }` so we also need the `!important` here to be able to override the default hidden behavior on the sphinx rendered scikit-learn.org. See: https://github.com/scikit-learn/scikit-learn/issues/21755 */display: inline-block !important;position: relative;}#sk-container-id-16 div.sk-text-repr-fallback {display: none;}</style><div id=\"sk-container-id-16\" class=\"sk-top-container\"><div class=\"sk-text-repr-fallback\"><pre>RandomForestRegressor(n_estimators=9000)</pre><b>In a Jupyter environment, please rerun this cell to show the HTML representation or trust the notebook. <br />On GitHub, the HTML representation is unable to render, please try loading this page with nbviewer.org.</b></div><div class=\"sk-container\" hidden><div class=\"sk-item\"><div class=\"sk-estimator sk-toggleable\"><input class=\"sk-toggleable__control sk-hidden--visually\" id=\"sk-estimator-id-16\" type=\"checkbox\" checked><label for=\"sk-estimator-id-16\" class=\"sk-toggleable__label sk-toggleable__label-arrow\">RandomForestRegressor</label><div class=\"sk-toggleable__content\"><pre>RandomForestRegressor(n_estimators=9000)</pre></div></div></div></div></div>"
      ],
      "text/plain": [
       "RandomForestRegressor(n_estimators=9000)"
      ]
     },
     "execution_count": 640,
     "metadata": {},
     "output_type": "execute_result"
    }
   ],
   "source": [
    "# rfr.fit(df[[\"day_sin\",\"day_cos\"]].loc[resid.index],pred.drop(\"2023-01-01\")+(pred_resid-new_pred))"
   ]
  },
  {
   "cell_type": "code",
   "execution_count": 641,
   "id": "ed49e4fe",
   "metadata": {},
   "outputs": [],
   "source": [
    "# new_pred2 = rfr.predict(df[[\"day_sin\",\"day_cos\"]].loc[resid.index])"
   ]
  },
  {
   "cell_type": "code",
   "execution_count": null,
   "id": "541db43e",
   "metadata": {},
   "outputs": [],
   "source": []
  },
  {
   "cell_type": "code",
   "execution_count": null,
   "id": "294154ba",
   "metadata": {},
   "outputs": [],
   "source": []
  },
  {
   "cell_type": "code",
   "execution_count": 642,
   "id": "638b5517",
   "metadata": {},
   "outputs": [],
   "source": [
    "first, last = get_frost_dates(df)"
   ]
  },
  {
   "cell_type": "code",
   "execution_count": 643,
   "id": "7f2a72ea",
   "metadata": {},
   "outputs": [
    {
     "data": {
      "text/plain": [
       "[Timestamp('2018-10-20 00:00:00'),\n",
       " Timestamp('2019-10-31 00:00:00'),\n",
       " Timestamp('2020-10-28 00:00:00'),\n",
       " Timestamp('2021-11-02 00:00:00'),\n",
       " Timestamp('2022-11-13 00:00:00')]"
      ]
     },
     "execution_count": 643,
     "metadata": {},
     "output_type": "execute_result"
    }
   ],
   "source": [
    "first"
   ]
  },
  {
   "cell_type": "code",
   "execution_count": 644,
   "id": "91b76987",
   "metadata": {},
   "outputs": [
    {
     "data": {
      "text/plain": [
       "[Timestamp('2018-04-18 00:00:00'),\n",
       " Timestamp('2019-04-15 00:00:00'),\n",
       " Timestamp('2020-05-09 00:00:00'),\n",
       " Timestamp('2021-04-22 00:00:00'),\n",
       " Timestamp('2022-03-29 00:00:00')]"
      ]
     },
     "execution_count": 644,
     "metadata": {},
     "output_type": "execute_result"
    }
   ],
   "source": [
    "last"
   ]
  },
  {
   "cell_type": "code",
   "execution_count": 645,
   "id": "1590de0a",
   "metadata": {},
   "outputs": [],
   "source": [
    "pred_df = pd.DataFrame(\n",
    "    {\n",
    "        \"tmin\": pred.drop(\"2023-01-01\"),\n",
    "        \"boost\": pred.drop(\"2023-01-01\") + pred_resid,\n",
    "    }\n",
    ")"
   ]
  },
  {
   "cell_type": "code",
   "execution_count": 646,
   "id": "3dfb6a61",
   "metadata": {},
   "outputs": [
    {
     "data": {
      "text/html": [
       "<div>\n",
       "<style scoped>\n",
       "    .dataframe tbody tr th:only-of-type {\n",
       "        vertical-align: middle;\n",
       "    }\n",
       "\n",
       "    .dataframe tbody tr th {\n",
       "        vertical-align: top;\n",
       "    }\n",
       "\n",
       "    .dataframe thead th {\n",
       "        text-align: right;\n",
       "    }\n",
       "</style>\n",
       "<table border=\"1\" class=\"dataframe\">\n",
       "  <thead>\n",
       "    <tr style=\"text-align: right;\">\n",
       "      <th></th>\n",
       "      <th>tmin</th>\n",
       "      <th>boost</th>\n",
       "    </tr>\n",
       "    <tr>\n",
       "      <th>time</th>\n",
       "      <th></th>\n",
       "      <th></th>\n",
       "    </tr>\n",
       "  </thead>\n",
       "  <tbody>\n",
       "    <tr>\n",
       "      <th>2018-01-07</th>\n",
       "      <td>0.000000</td>\n",
       "      <td>-14.249996</td>\n",
       "    </tr>\n",
       "    <tr>\n",
       "      <th>2018-01-14</th>\n",
       "      <td>-29.950339</td>\n",
       "      <td>-23.431544</td>\n",
       "    </tr>\n",
       "    <tr>\n",
       "      <th>2018-01-21</th>\n",
       "      <td>8.015400</td>\n",
       "      <td>-6.419741</td>\n",
       "    </tr>\n",
       "    <tr>\n",
       "      <th>2018-01-28</th>\n",
       "      <td>-10.097014</td>\n",
       "      <td>-9.182779</td>\n",
       "    </tr>\n",
       "    <tr>\n",
       "      <th>2018-02-04</th>\n",
       "      <td>8.851185</td>\n",
       "      <td>-8.662085</td>\n",
       "    </tr>\n",
       "    <tr>\n",
       "      <th>...</th>\n",
       "      <td>...</td>\n",
       "      <td>...</td>\n",
       "    </tr>\n",
       "    <tr>\n",
       "      <th>2022-11-27</th>\n",
       "      <td>0.861336</td>\n",
       "      <td>-2.167619</td>\n",
       "    </tr>\n",
       "    <tr>\n",
       "      <th>2022-12-04</th>\n",
       "      <td>1.318658</td>\n",
       "      <td>-5.130692</td>\n",
       "    </tr>\n",
       "    <tr>\n",
       "      <th>2022-12-11</th>\n",
       "      <td>-6.294087</td>\n",
       "      <td>-5.157280</td>\n",
       "    </tr>\n",
       "    <tr>\n",
       "      <th>2022-12-18</th>\n",
       "      <td>-9.511313</td>\n",
       "      <td>-9.677804</td>\n",
       "    </tr>\n",
       "    <tr>\n",
       "      <th>2022-12-25</th>\n",
       "      <td>-12.965444</td>\n",
       "      <td>-19.716017</td>\n",
       "    </tr>\n",
       "  </tbody>\n",
       "</table>\n",
       "<p>260 rows × 2 columns</p>\n",
       "</div>"
      ],
      "text/plain": [
       "                 tmin      boost\n",
       "time                            \n",
       "2018-01-07   0.000000 -14.249996\n",
       "2018-01-14 -29.950339 -23.431544\n",
       "2018-01-21   8.015400  -6.419741\n",
       "2018-01-28 -10.097014  -9.182779\n",
       "2018-02-04   8.851185  -8.662085\n",
       "...               ...        ...\n",
       "2022-11-27   0.861336  -2.167619\n",
       "2022-12-04   1.318658  -5.130692\n",
       "2022-12-11  -6.294087  -5.157280\n",
       "2022-12-18  -9.511313  -9.677804\n",
       "2022-12-25 -12.965444 -19.716017\n",
       "\n",
       "[260 rows x 2 columns]"
      ]
     },
     "execution_count": 646,
     "metadata": {},
     "output_type": "execute_result"
    }
   ],
   "source": [
    "pred_df"
   ]
  },
  {
   "cell_type": "code",
   "execution_count": 647,
   "id": "36dc1fda",
   "metadata": {},
   "outputs": [],
   "source": [
    "pred_first, pred_last = get_frost_dates(pred_df)"
   ]
  },
  {
   "cell_type": "code",
   "execution_count": 648,
   "id": "b914430b",
   "metadata": {},
   "outputs": [
    {
     "data": {
      "text/plain": [
       "[Timestamp('2018-10-07 00:00:00'),\n",
       " Timestamp('2019-10-13 00:00:00'),\n",
       " Timestamp('2020-09-27 00:00:00'),\n",
       " Timestamp('2021-11-07 00:00:00'),\n",
       " Timestamp('2022-10-30 00:00:00')]"
      ]
     },
     "execution_count": 648,
     "metadata": {},
     "output_type": "execute_result"
    }
   ],
   "source": [
    "pred_first"
   ]
  },
  {
   "cell_type": "code",
   "execution_count": 649,
   "id": "59180a06",
   "metadata": {},
   "outputs": [
    {
     "data": {
      "text/plain": [
       "[Timestamp('2018-04-29 00:00:00'),\n",
       " Timestamp('2019-04-28 00:00:00'),\n",
       " Timestamp('2020-05-17 00:00:00'),\n",
       " Timestamp('2021-04-04 00:00:00'),\n",
       " Timestamp('2022-04-17 00:00:00')]"
      ]
     },
     "execution_count": 649,
     "metadata": {},
     "output_type": "execute_result"
    }
   ],
   "source": [
    "pred_last"
   ]
  },
  {
   "cell_type": "code",
   "execution_count": 650,
   "id": "fc2f967f",
   "metadata": {},
   "outputs": [],
   "source": [
    "boost_df = pd.DataFrame(\n",
    "    {\n",
    "        \"pred\": pred.drop(\"2023-01-01\"),\n",
    "        \"tmin\": pred.drop(\"2023-01-01\") + pred_resid,\n",
    "    }\n",
    ")"
   ]
  },
  {
   "cell_type": "code",
   "execution_count": 651,
   "id": "58e6a84b",
   "metadata": {},
   "outputs": [],
   "source": [
    "boost_first, boost_last = get_frost_dates(boost_df)"
   ]
  },
  {
   "cell_type": "code",
   "execution_count": 652,
   "id": "436bdf65",
   "metadata": {},
   "outputs": [
    {
     "data": {
      "text/plain": [
       "[Timestamp('2018-10-21 00:00:00'),\n",
       " Timestamp('2019-11-03 00:00:00'),\n",
       " Timestamp('2020-10-11 00:00:00'),\n",
       " Timestamp('2021-11-14 00:00:00'),\n",
       " Timestamp('2022-11-13 00:00:00')]"
      ]
     },
     "execution_count": 652,
     "metadata": {},
     "output_type": "execute_result"
    }
   ],
   "source": [
    "boost_first"
   ]
  },
  {
   "cell_type": "code",
   "execution_count": 653,
   "id": "fbb47a36",
   "metadata": {},
   "outputs": [
    {
     "data": {
      "text/plain": [
       "[Timestamp('2018-04-29 00:00:00'),\n",
       " Timestamp('2019-04-21 00:00:00'),\n",
       " Timestamp('2020-04-19 00:00:00'),\n",
       " Timestamp('2021-04-04 00:00:00'),\n",
       " Timestamp('2022-04-03 00:00:00')]"
      ]
     },
     "execution_count": 653,
     "metadata": {},
     "output_type": "execute_result"
    }
   ],
   "source": [
    "boost_last"
   ]
  },
  {
   "cell_type": "code",
   "execution_count": 654,
   "id": "1c3ace94",
   "metadata": {
    "scrolled": true
   },
   "outputs": [
    {
     "data": {
      "text/plain": [
       "Timestamp('2018-10-20 00:00:00')"
      ]
     },
     "execution_count": 654,
     "metadata": {},
     "output_type": "execute_result"
    }
   ],
   "source": [
    "first[0]"
   ]
  },
  {
   "cell_type": "code",
   "execution_count": 655,
   "id": "524fb996",
   "metadata": {},
   "outputs": [],
   "source": [
    "pred_diff = []"
   ]
  },
  {
   "cell_type": "code",
   "execution_count": 656,
   "id": "5cfad136",
   "metadata": {},
   "outputs": [],
   "source": [
    "for i, d in enumerate(first):\n",
    "    pred_diff.append((d - pred_first[i]).days)"
   ]
  },
  {
   "cell_type": "code",
   "execution_count": 657,
   "id": "a2c6ff5f",
   "metadata": {},
   "outputs": [],
   "source": [
    "boost_diff = []"
   ]
  },
  {
   "cell_type": "code",
   "execution_count": 658,
   "id": "afe764a3",
   "metadata": {},
   "outputs": [],
   "source": [
    "for i, d in enumerate(first):\n",
    "    boost_diff.append((d - boost_first[i]).days)"
   ]
  },
  {
   "cell_type": "code",
   "execution_count": 659,
   "id": "081aef48",
   "metadata": {},
   "outputs": [
    {
     "data": {
      "text/plain": [
       "[-1, -3, 17, -12, 0]"
      ]
     },
     "execution_count": 659,
     "metadata": {},
     "output_type": "execute_result"
    }
   ],
   "source": [
    "boost_diff"
   ]
  },
  {
   "cell_type": "code",
   "execution_count": 660,
   "id": "f12d1d4f",
   "metadata": {},
   "outputs": [
    {
     "data": {
      "text/plain": [
       "[13, 18, 31, -5, 14]"
      ]
     },
     "execution_count": 660,
     "metadata": {},
     "output_type": "execute_result"
    }
   ],
   "source": [
    "pred_diff"
   ]
  },
  {
   "cell_type": "code",
   "execution_count": 661,
   "id": "aff42fcf",
   "metadata": {},
   "outputs": [
    {
     "data": {
      "text/plain": [
       "Text(0, 0.5, 'Days')"
      ]
     },
     "execution_count": 661,
     "metadata": {},
     "output_type": "execute_result"
    },
    {
     "data": {
      "image/png": "[encoded data removed]",
      "text/plain": [
       "<Figure size 640x480 with 1 Axes>"
      ]
     },
     "metadata": {},
     "output_type": "display_data"
    }
   ],
   "source": [
    "plt.scatter(range(len(pred_diff)), pred_diff)\n",
    "plt.scatter(range(len(boost_diff)), boost_diff)\n",
    "plt.legend([\"Prediction\", \"Boosted\"])\n",
    "plt.title(\"First Frost Date (Observed - Prediction) 2018-2022\")\n",
    "plt.ylabel(\"Days\")"
   ]
  },
  {
   "cell_type": "code",
   "execution_count": 662,
   "id": "dd44426a",
   "metadata": {},
   "outputs": [
    {
     "data": {
      "text/plain": [
       "6.6"
      ]
     },
     "execution_count": 662,
     "metadata": {},
     "output_type": "execute_result"
    }
   ],
   "source": [
    "sum(np.abs(boost_diff)) / len(boost_diff)"
   ]
  },
  {
   "cell_type": "code",
   "execution_count": 663,
   "id": "d42de055",
   "metadata": {},
   "outputs": [
    {
     "data": {
      "text/plain": [
       "16.2"
      ]
     },
     "execution_count": 663,
     "metadata": {},
     "output_type": "execute_result"
    }
   ],
   "source": [
    "sum(np.abs(pred_diff)) / len(pred_diff)"
   ]
  },
  {
   "cell_type": "code",
   "execution_count": 664,
   "id": "42cd66b6",
   "metadata": {},
   "outputs": [],
   "source": [
    "pred_diff_last = []\n",
    "boost_diff_last = []"
   ]
  },
  {
   "cell_type": "code",
   "execution_count": 665,
   "id": "d84de358",
   "metadata": {},
   "outputs": [],
   "source": [
    "for i, d in enumerate(last):\n",
    "    pred_diff_last.append((d - pred_last[i]).days)"
   ]
  },
  {
   "cell_type": "code",
   "execution_count": 666,
   "id": "95c84928",
   "metadata": {},
   "outputs": [
    {
     "data": {
      "text/plain": [
       "[-11, -13, -8, 18, -19]"
      ]
     },
     "execution_count": 666,
     "metadata": {},
     "output_type": "execute_result"
    }
   ],
   "source": [
    "pred_diff_last"
   ]
  },
  {
   "cell_type": "code",
   "execution_count": 667,
   "id": "c68955b9",
   "metadata": {},
   "outputs": [],
   "source": [
    "for i, d in enumerate(last):\n",
    "    boost_diff_last.append((d - boost_last[i]).days)"
   ]
  },
  {
   "cell_type": "code",
   "execution_count": 668,
   "id": "aabe3c82",
   "metadata": {},
   "outputs": [
    {
     "data": {
      "text/plain": [
       "[-11, -6, 20, 18, -5]"
      ]
     },
     "execution_count": 668,
     "metadata": {},
     "output_type": "execute_result"
    }
   ],
   "source": [
    "boost_diff_last"
   ]
  },
  {
   "cell_type": "code",
   "execution_count": 669,
   "id": "79dc03bc",
   "metadata": {},
   "outputs": [
    {
     "data": {
      "text/plain": [
       "Text(0, 0.5, 'Days')"
      ]
     },
     "execution_count": 669,
     "metadata": {},
     "output_type": "execute_result"
    },
    {
     "data": {
      "image/png": "[encoded data removed]",
      "text/plain": [
       "<Figure size 640x480 with 1 Axes>"
      ]
     },
     "metadata": {},
     "output_type": "display_data"
    }
   ],
   "source": [
    "plt.scatter(range(len(pred_diff_last)), pred_diff_last)\n",
    "plt.scatter(range(len(boost_diff_last)), boost_diff_last)\n",
    "plt.legend([\"Prediction\", \"Boosted\"])\n",
    "plt.title(\"Last Frost Date (Observed - Prediction) 2018-2022\")\n",
    "plt.ylabel(\"Days\")"
   ]
  },
  {
   "cell_type": "code",
   "execution_count": 670,
   "id": "3d66a2e3",
   "metadata": {},
   "outputs": [
    {
     "data": {
      "text/plain": [
       "12.0"
      ]
     },
     "execution_count": 670,
     "metadata": {},
     "output_type": "execute_result"
    }
   ],
   "source": [
    "sum(np.abs(boost_diff_last)) / len(boost_diff_last)"
   ]
  },
  {
   "cell_type": "code",
   "execution_count": 671,
   "id": "4729b541",
   "metadata": {},
   "outputs": [
    {
     "data": {
      "text/plain": [
       "13.8"
      ]
     },
     "execution_count": 671,
     "metadata": {},
     "output_type": "execute_result"
    }
   ],
   "source": [
    "sum(np.abs(pred_diff_last)) / len(pred_diff_last)"
   ]
  },
  {
   "cell_type": "markdown",
   "id": "31c11dde",
   "metadata": {},
   "source": [
    "# Forecast Test"
   ]
  },
  {
   "cell_type": "code",
   "execution_count": 672,
   "id": "e271b1af",
   "metadata": {},
   "outputs": [],
   "source": [
    "df_future = get_weather_data(\n",
    "    \"Chicago, IL\", start=\"2023-01-01\", end=\"2023-12-31\"\n",
    ")"
   ]
  },
  {
   "cell_type": "code",
   "execution_count": 673,
   "id": "d062ac32",
   "metadata": {},
   "outputs": [],
   "source": [
    "future = mod.predict(start=\"2023-01-01\", end=\"2023-12-31\")"
   ]
  },
  {
   "cell_type": "code",
   "execution_count": 674,
   "id": "2101acd3",
   "metadata": {},
   "outputs": [
    {
     "data": {
      "text/plain": [
       "2023-01-01   -10.682153\n",
       "2023-01-08    -6.151388\n",
       "2023-01-15    -8.171074\n",
       "2023-01-22    -9.867391\n",
       "2023-01-29   -11.630997\n",
       "2023-02-05   -15.208360\n",
       "2023-02-12   -16.507805\n",
       "2023-02-19   -11.724744\n",
       "2023-02-26    -4.679217\n",
       "2023-03-05    -3.314681\n",
       "2023-03-12    -2.280974\n",
       "2023-03-19    -1.997567\n",
       "2023-03-26    -0.324310\n",
       "2023-04-02    -1.208800\n",
       "2023-04-09     4.843656\n",
       "2023-04-16     1.218141\n",
       "2023-04-23     1.306043\n",
       "2023-04-30     3.209462\n",
       "2023-05-07     2.194625\n",
       "2023-05-14     6.141438\n",
       "2023-05-21    12.999637\n",
       "2023-05-28     8.941456\n",
       "2023-06-04    12.673349\n",
       "2023-06-11    15.337605\n",
       "2023-06-18    13.713051\n",
       "2023-06-25    15.735626\n",
       "2023-07-02    17.717539\n",
       "2023-07-09    17.243539\n",
       "2023-07-16    18.609030\n",
       "2023-07-23    19.297485\n",
       "2023-07-30    17.836799\n",
       "2023-08-06    16.799490\n",
       "2023-08-13    16.926773\n",
       "2023-08-20    17.452552\n",
       "2023-08-27    18.615169\n",
       "2023-09-03    15.344328\n",
       "2023-09-10    14.761022\n",
       "2023-09-17    12.233621\n",
       "2023-09-24    11.026996\n",
       "2023-10-01     9.860009\n",
       "2023-10-08     8.663511\n",
       "2023-10-15     4.133162\n",
       "2023-10-22     3.116448\n",
       "2023-10-29     2.407937\n",
       "2023-11-05     0.901511\n",
       "2023-11-12     0.115680\n",
       "2023-11-19    -3.272392\n",
       "2023-11-26    -3.469401\n",
       "2023-12-03    -4.014925\n",
       "2023-12-10    -5.003654\n",
       "2023-12-17    -4.513048\n",
       "2023-12-24   -11.671154\n",
       "2023-12-31    -8.588492\n",
       "Freq: W-SUN, Name: predicted_mean, dtype: float64"
      ]
     },
     "execution_count": 674,
     "metadata": {},
     "output_type": "execute_result"
    }
   ],
   "source": [
    "future"
   ]
  },
  {
   "cell_type": "code",
   "execution_count": 675,
   "id": "aeec5ea8",
   "metadata": {},
   "outputs": [],
   "source": [
    "future_forec = pd.DataFrame({\"forecast\": future})"
   ]
  },
  {
   "cell_type": "code",
   "execution_count": 676,
   "id": "88a1c568",
   "metadata": {},
   "outputs": [],
   "source": [
    "future_forec[\"day_sin\"] = sin_transformer(365).fit_transform(\n",
    "    future_forec.index.day_of_year\n",
    ")\n",
    "future_forec[\"day_cos\"] = cos_transformer(365).fit_transform(\n",
    "    future_forec.index.day_of_year\n",
    ")"
   ]
  },
  {
   "cell_type": "code",
   "execution_count": 696,
   "id": "7c20543c",
   "metadata": {},
   "outputs": [
    {
     "data": {
      "text/html": [
       "<div>\n",
       "<style scoped>\n",
       "    .dataframe tbody tr th:only-of-type {\n",
       "        vertical-align: middle;\n",
       "    }\n",
       "\n",
       "    .dataframe tbody tr th {\n",
       "        vertical-align: top;\n",
       "    }\n",
       "\n",
       "    .dataframe thead th {\n",
       "        text-align: right;\n",
       "    }\n",
       "</style>\n",
       "<table border=\"1\" class=\"dataframe\">\n",
       "  <thead>\n",
       "    <tr style=\"text-align: right;\">\n",
       "      <th></th>\n",
       "      <th>forecast</th>\n",
       "      <th>day_sin</th>\n",
       "      <th>day_cos</th>\n",
       "      <th>resid_pred</th>\n",
       "      <th>tmin</th>\n",
       "      <th>tmin_bin</th>\n",
       "    </tr>\n",
       "  </thead>\n",
       "  <tbody>\n",
       "    <tr>\n",
       "      <th>2023-01-01</th>\n",
       "      <td>-10.682153</td>\n",
       "      <td>0.017213</td>\n",
       "      <td>0.999852</td>\n",
       "      <td>3.245077</td>\n",
       "      <td>-7.437076</td>\n",
       "      <td>1.0</td>\n",
       "    </tr>\n",
       "    <tr>\n",
       "      <th>2023-01-08</th>\n",
       "      <td>-6.151388</td>\n",
       "      <td>0.137279</td>\n",
       "      <td>0.990532</td>\n",
       "      <td>-19.302695</td>\n",
       "      <td>-25.454082</td>\n",
       "      <td>1.0</td>\n",
       "    </tr>\n",
       "    <tr>\n",
       "      <th>2023-01-15</th>\n",
       "      <td>-8.171074</td>\n",
       "      <td>0.255353</td>\n",
       "      <td>0.966848</td>\n",
       "      <td>1.229606</td>\n",
       "      <td>-6.941467</td>\n",
       "      <td>1.0</td>\n",
       "    </tr>\n",
       "    <tr>\n",
       "      <th>2023-01-22</th>\n",
       "      <td>-9.867391</td>\n",
       "      <td>0.369725</td>\n",
       "      <td>0.929141</td>\n",
       "      <td>-12.485309</td>\n",
       "      <td>-22.352700</td>\n",
       "      <td>1.0</td>\n",
       "    </tr>\n",
       "    <tr>\n",
       "      <th>2023-01-29</th>\n",
       "      <td>-11.630997</td>\n",
       "      <td>0.478734</td>\n",
       "      <td>0.877960</td>\n",
       "      <td>-0.760566</td>\n",
       "      <td>-12.391563</td>\n",
       "      <td>1.0</td>\n",
       "    </tr>\n",
       "  </tbody>\n",
       "</table>\n",
       "</div>"
      ],
      "text/plain": [
       "             forecast   day_sin   day_cos  resid_pred       tmin  tmin_bin\n",
       "2023-01-01 -10.682153  0.017213  0.999852    3.245077  -7.437076       1.0\n",
       "2023-01-08  -6.151388  0.137279  0.990532  -19.302695 -25.454082       1.0\n",
       "2023-01-15  -8.171074  0.255353  0.966848    1.229606  -6.941467       1.0\n",
       "2023-01-22  -9.867391  0.369725  0.929141  -12.485309 -22.352700       1.0\n",
       "2023-01-29 -11.630997  0.478734  0.877960   -0.760566 -12.391563       1.0"
      ]
     },
     "execution_count": 696,
     "metadata": {},
     "output_type": "execute_result"
    }
   ],
   "source": [
    "future_forec.head()"
   ]
  },
  {
   "cell_type": "code",
   "execution_count": 678,
   "id": "3b1c9eca",
   "metadata": {},
   "outputs": [],
   "source": [
    "resid_pred = rfr.predict(future_forec[[\"day_sin\", \"day_cos\"]])"
   ]
  },
  {
   "cell_type": "code",
   "execution_count": 679,
   "id": "18ed5351",
   "metadata": {},
   "outputs": [],
   "source": [
    "future_forec[\"resid_pred\"] = resid_pred"
   ]
  },
  {
   "cell_type": "code",
   "execution_count": 695,
   "id": "7355e999",
   "metadata": {},
   "outputs": [
    {
     "data": {
      "text/html": [
       "<div>\n",
       "<style scoped>\n",
       "    .dataframe tbody tr th:only-of-type {\n",
       "        vertical-align: middle;\n",
       "    }\n",
       "\n",
       "    .dataframe tbody tr th {\n",
       "        vertical-align: top;\n",
       "    }\n",
       "\n",
       "    .dataframe thead th {\n",
       "        text-align: right;\n",
       "    }\n",
       "</style>\n",
       "<table border=\"1\" class=\"dataframe\">\n",
       "  <thead>\n",
       "    <tr style=\"text-align: right;\">\n",
       "      <th></th>\n",
       "      <th>forecast</th>\n",
       "      <th>day_sin</th>\n",
       "      <th>day_cos</th>\n",
       "      <th>resid_pred</th>\n",
       "      <th>tmin</th>\n",
       "      <th>tmin_bin</th>\n",
       "    </tr>\n",
       "  </thead>\n",
       "  <tbody>\n",
       "    <tr>\n",
       "      <th>2023-01-01</th>\n",
       "      <td>-10.682153</td>\n",
       "      <td>0.017213</td>\n",
       "      <td>0.999852</td>\n",
       "      <td>3.245077</td>\n",
       "      <td>-7.437076</td>\n",
       "      <td>1.0</td>\n",
       "    </tr>\n",
       "    <tr>\n",
       "      <th>2023-01-08</th>\n",
       "      <td>-6.151388</td>\n",
       "      <td>0.137279</td>\n",
       "      <td>0.990532</td>\n",
       "      <td>-19.302695</td>\n",
       "      <td>-25.454082</td>\n",
       "      <td>1.0</td>\n",
       "    </tr>\n",
       "    <tr>\n",
       "      <th>2023-01-15</th>\n",
       "      <td>-8.171074</td>\n",
       "      <td>0.255353</td>\n",
       "      <td>0.966848</td>\n",
       "      <td>1.229606</td>\n",
       "      <td>-6.941467</td>\n",
       "      <td>1.0</td>\n",
       "    </tr>\n",
       "    <tr>\n",
       "      <th>2023-01-22</th>\n",
       "      <td>-9.867391</td>\n",
       "      <td>0.369725</td>\n",
       "      <td>0.929141</td>\n",
       "      <td>-12.485309</td>\n",
       "      <td>-22.352700</td>\n",
       "      <td>1.0</td>\n",
       "    </tr>\n",
       "    <tr>\n",
       "      <th>2023-01-29</th>\n",
       "      <td>-11.630997</td>\n",
       "      <td>0.478734</td>\n",
       "      <td>0.877960</td>\n",
       "      <td>-0.760566</td>\n",
       "      <td>-12.391563</td>\n",
       "      <td>1.0</td>\n",
       "    </tr>\n",
       "  </tbody>\n",
       "</table>\n",
       "</div>"
      ],
      "text/plain": [
       "             forecast   day_sin   day_cos  resid_pred       tmin  tmin_bin\n",
       "2023-01-01 -10.682153  0.017213  0.999852    3.245077  -7.437076       1.0\n",
       "2023-01-08  -6.151388  0.137279  0.990532  -19.302695 -25.454082       1.0\n",
       "2023-01-15  -8.171074  0.255353  0.966848    1.229606  -6.941467       1.0\n",
       "2023-01-22  -9.867391  0.369725  0.929141  -12.485309 -22.352700       1.0\n",
       "2023-01-29 -11.630997  0.478734  0.877960   -0.760566 -12.391563       1.0"
      ]
     },
     "execution_count": 695,
     "metadata": {},
     "output_type": "execute_result"
    }
   ],
   "source": [
    "future_forec.head()"
   ]
  },
  {
   "cell_type": "code",
   "execution_count": 681,
   "id": "ee01913b",
   "metadata": {},
   "outputs": [],
   "source": [
    "future_forec[\"tmin\"] = future_forec[\"forecast\"] + future_forec[\"resid_pred\"]"
   ]
  },
  {
   "cell_type": "code",
   "execution_count": 694,
   "id": "d3891179",
   "metadata": {},
   "outputs": [
    {
     "data": {
      "text/html": [
       "<div>\n",
       "<style scoped>\n",
       "    .dataframe tbody tr th:only-of-type {\n",
       "        vertical-align: middle;\n",
       "    }\n",
       "\n",
       "    .dataframe tbody tr th {\n",
       "        vertical-align: top;\n",
       "    }\n",
       "\n",
       "    .dataframe thead th {\n",
       "        text-align: right;\n",
       "    }\n",
       "</style>\n",
       "<table border=\"1\" class=\"dataframe\">\n",
       "  <thead>\n",
       "    <tr style=\"text-align: right;\">\n",
       "      <th></th>\n",
       "      <th>forecast</th>\n",
       "      <th>day_sin</th>\n",
       "      <th>day_cos</th>\n",
       "      <th>resid_pred</th>\n",
       "      <th>tmin</th>\n",
       "      <th>tmin_bin</th>\n",
       "    </tr>\n",
       "  </thead>\n",
       "  <tbody>\n",
       "    <tr>\n",
       "      <th>2023-01-01</th>\n",
       "      <td>-10.682153</td>\n",
       "      <td>0.017213</td>\n",
       "      <td>0.999852</td>\n",
       "      <td>3.245077</td>\n",
       "      <td>-7.437076</td>\n",
       "      <td>1.0</td>\n",
       "    </tr>\n",
       "    <tr>\n",
       "      <th>2023-01-08</th>\n",
       "      <td>-6.151388</td>\n",
       "      <td>0.137279</td>\n",
       "      <td>0.990532</td>\n",
       "      <td>-19.302695</td>\n",
       "      <td>-25.454082</td>\n",
       "      <td>1.0</td>\n",
       "    </tr>\n",
       "    <tr>\n",
       "      <th>2023-01-15</th>\n",
       "      <td>-8.171074</td>\n",
       "      <td>0.255353</td>\n",
       "      <td>0.966848</td>\n",
       "      <td>1.229606</td>\n",
       "      <td>-6.941467</td>\n",
       "      <td>1.0</td>\n",
       "    </tr>\n",
       "    <tr>\n",
       "      <th>2023-01-22</th>\n",
       "      <td>-9.867391</td>\n",
       "      <td>0.369725</td>\n",
       "      <td>0.929141</td>\n",
       "      <td>-12.485309</td>\n",
       "      <td>-22.352700</td>\n",
       "      <td>1.0</td>\n",
       "    </tr>\n",
       "    <tr>\n",
       "      <th>2023-01-29</th>\n",
       "      <td>-11.630997</td>\n",
       "      <td>0.478734</td>\n",
       "      <td>0.877960</td>\n",
       "      <td>-0.760566</td>\n",
       "      <td>-12.391563</td>\n",
       "      <td>1.0</td>\n",
       "    </tr>\n",
       "  </tbody>\n",
       "</table>\n",
       "</div>"
      ],
      "text/plain": [
       "             forecast   day_sin   day_cos  resid_pred       tmin  tmin_bin\n",
       "2023-01-01 -10.682153  0.017213  0.999852    3.245077  -7.437076       1.0\n",
       "2023-01-08  -6.151388  0.137279  0.990532  -19.302695 -25.454082       1.0\n",
       "2023-01-15  -8.171074  0.255353  0.966848    1.229606  -6.941467       1.0\n",
       "2023-01-22  -9.867391  0.369725  0.929141  -12.485309 -22.352700       1.0\n",
       "2023-01-29 -11.630997  0.478734  0.877960   -0.760566 -12.391563       1.0"
      ]
     },
     "execution_count": 694,
     "metadata": {},
     "output_type": "execute_result"
    }
   ],
   "source": [
    "future_forec.head()"
   ]
  },
  {
   "cell_type": "code",
   "execution_count": 683,
   "id": "42938f4b",
   "metadata": {},
   "outputs": [
    {
     "data": {
      "text/plain": [
       "[<matplotlib.lines.Line2D at 0x296598658d0>]"
      ]
     },
     "execution_count": 683,
     "metadata": {},
     "output_type": "execute_result"
    },
    {
     "data": {
      "image/png": "[encoded data removed]",
      "text/plain": [
       "<Figure size 640x480 with 1 Axes>"
      ]
     },
     "metadata": {},
     "output_type": "display_data"
    }
   ],
   "source": [
    "plt.plot(future_forec[\"tmin\"])\n",
    "plt.plot(df_future[\"tmin\"].resample(\"W\").min())"
   ]
  },
  {
   "cell_type": "code",
   "execution_count": 684,
   "id": "9e961f64",
   "metadata": {},
   "outputs": [],
   "source": [
    "future_first, future_last = get_frost_dates(df_future)"
   ]
  },
  {
   "cell_type": "code",
   "execution_count": 685,
   "id": "91bd6367",
   "metadata": {},
   "outputs": [
    {
     "data": {
      "text/plain": [
       "[Timestamp('2023-10-30 00:00:00')]"
      ]
     },
     "execution_count": 685,
     "metadata": {},
     "output_type": "execute_result"
    }
   ],
   "source": [
    "future_first"
   ]
  },
  {
   "cell_type": "code",
   "execution_count": 686,
   "id": "1d4f9c0a",
   "metadata": {},
   "outputs": [],
   "source": [
    "future_first_pred, future_last_pred = get_frost_dates(future_forec)"
   ]
  },
  {
   "cell_type": "code",
   "execution_count": 687,
   "id": "c23d3a76",
   "metadata": {},
   "outputs": [
    {
     "data": {
      "text/plain": [
       "[Timestamp('2023-11-19 00:00:00')]"
      ]
     },
     "execution_count": 687,
     "metadata": {},
     "output_type": "execute_result"
    }
   ],
   "source": [
    "future_first_pred"
   ]
  },
  {
   "cell_type": "code",
   "execution_count": 688,
   "id": "1017e741",
   "metadata": {},
   "outputs": [
    {
     "data": {
      "text/plain": [
       "[Timestamp('2023-04-17 00:00:00')]"
      ]
     },
     "execution_count": 688,
     "metadata": {},
     "output_type": "execute_result"
    }
   ],
   "source": [
    "future_last"
   ]
  },
  {
   "cell_type": "code",
   "execution_count": 689,
   "id": "318e3ed4",
   "metadata": {},
   "outputs": [
    {
     "data": {
      "text/plain": [
       "[Timestamp('2023-04-23 00:00:00')]"
      ]
     },
     "execution_count": 689,
     "metadata": {},
     "output_type": "execute_result"
    }
   ],
   "source": [
    "future_last_pred"
   ]
  },
  {
   "cell_type": "code",
   "execution_count": 690,
   "id": "deb9a6dc",
   "metadata": {},
   "outputs": [],
   "source": [
    "future_forec2 = pd.DataFrame({\"tmin\": future})"
   ]
  },
  {
   "cell_type": "code",
   "execution_count": 691,
   "id": "426d5872",
   "metadata": {},
   "outputs": [],
   "source": [
    "future_first_unboost, future_last_unboost = get_frost_dates(future_forec2)"
   ]
  },
  {
   "cell_type": "code",
   "execution_count": 692,
   "id": "ed1e8d8e",
   "metadata": {},
   "outputs": [
    {
     "name": "stdout",
     "output_type": "stream",
     "text": [
      "[Timestamp('2023-04-02 00:00:00')] [Timestamp('2023-04-23 00:00:00')] [Timestamp('2023-04-17 00:00:00')]\n"
     ]
    }
   ],
   "source": [
    "print(future_last_unboost, future_last_pred, future_last)"
   ]
  },
  {
   "cell_type": "code",
   "execution_count": 693,
   "id": "8ab42b5d",
   "metadata": {},
   "outputs": [
    {
     "name": "stdout",
     "output_type": "stream",
     "text": [
      "2023 Frost Date Predictions:\n",
      "\n",
      "Fall:\n",
      "Unboosted SARIMA Fall Frost: [Timestamp('2023-11-19 00:00:00')]\n",
      "Boosted SARIMA Fall Frost: [Timestamp('2023-11-19 00:00:00')]\n",
      "Observed Fall Frost: [Timestamp('2023-10-30 00:00:00')]\n",
      "\n",
      "Spring:\n",
      "Unboosted SARIMA Spring Frost: [Timestamp('2023-04-02 00:00:00')]\n",
      "Boosted SARIMA Spring Frost: [Timestamp('2023-04-23 00:00:00')]\n",
      "Observed Spring Frost: [Timestamp('2023-04-17 00:00:00')]\n",
      "\n"
     ]
    }
   ],
   "source": [
    "print(\n",
    "    f\"\"\"2023 Frost Date Predictions:\n",
    "\n",
    "Fall:\n",
    "Unboosted SARIMA Fall Frost: {future_first_unboost}\n",
    "Boosted SARIMA Fall Frost: {future_first_pred}\n",
    "Observed Fall Frost: {future_first}\n",
    "\n",
    "Spring:\n",
    "Unboosted SARIMA Spring Frost: {future_last_unboost}\n",
    "Boosted SARIMA Spring Frost: {future_last_pred}\n",
    "Observed Spring Frost: {future_last}\n",
    "\"\"\"\n",
    ")"
   ]
  },
  {
   "cell_type": "markdown",
   "id": "2c39c997",
   "metadata": {},
   "source": [
    "# Backtesting"
   ]
  },
  {
   "cell_type": "code",
   "execution_count": null,
   "id": "ae4b91eb",
   "metadata": {},
   "outputs": [],
   "source": [
    "\"\"\"\n",
    "Loop over years with year being the target year to forecast.\n",
    "get weather data for (year-5)-01-01 to (year-1)-12-31\n",
    "run sarima_forecast on that data to get fitted model\n",
    "do sin and cos transforms\n",
    "train random forest regressor with sin and cos transforms as features and residuals of sarima model as target\n",
    "sarima forecast the target year\n",
    "add predicted residual from RFR\n",
    "\"\"\""
   ]
  },
  {
   "cell_type": "code",
   "execution_count": 285,
   "id": "af24234d",
   "metadata": {},
   "outputs": [],
   "source": [
    "years = range(1985, 2024)\n",
    "config = ((3, 0, 2), (3, 0, 0, 52), \"c\")\n",
    "predictions_dict = {}"
   ]
  },
  {
   "cell_type": "code",
   "execution_count": 327,
   "id": "6590089c",
   "metadata": {},
   "outputs": [
    {
     "name": "stdout",
     "output_type": "stream",
     "text": [
      "1985\n",
      "Pause 1\n",
      "Returning fitted model\n",
      "Pause2 1\n",
      "1986\n",
      "Pause 0\n",
      "Pause 2\n",
      "Returning fitted model\n",
      "Pause2 1\n",
      "1987\n",
      "Pause 0\n",
      "Pause 2\n"
     ]
    },
    {
     "name": "stderr",
     "output_type": "stream",
     "text": [
      "ConvergenceWarning: Maximum Likelihood optimization failed to converge. Check mle_retvals\n"
     ]
    },
    {
     "name": "stdout",
     "output_type": "stream",
     "text": [
      "Returning fitted model\n",
      "Pause2 1\n",
      "1988\n",
      "Pause 0\n",
      "Pause 2\n",
      "Returning fitted model\n",
      "Pause2 1\n",
      "1989\n",
      "Pause 0\n",
      "Pause 2\n",
      "Returning fitted model\n",
      "Pause2 1\n",
      "1990\n",
      "Pause 0\n",
      "Pause 2\n"
     ]
    },
    {
     "name": "stderr",
     "output_type": "stream",
     "text": [
      "ConvergenceWarning: Maximum Likelihood optimization failed to converge. Check mle_retvals\n"
     ]
    },
    {
     "name": "stdout",
     "output_type": "stream",
     "text": [
      "Returning fitted model\n",
      "Pause2 1\n",
      "1991\n",
      "Pause 0\n",
      "Pause 2\n"
     ]
    },
    {
     "name": "stderr",
     "output_type": "stream",
     "text": [
      "ConvergenceWarning: Maximum Likelihood optimization failed to converge. Check mle_retvals\n"
     ]
    },
    {
     "name": "stdout",
     "output_type": "stream",
     "text": [
      "Returning fitted model\n",
      "Pause2 1\n",
      "1992\n",
      "Pause 0\n",
      "Pause 2\n"
     ]
    },
    {
     "name": "stderr",
     "output_type": "stream",
     "text": [
      "ConvergenceWarning: Maximum Likelihood optimization failed to converge. Check mle_retvals\n"
     ]
    },
    {
     "name": "stdout",
     "output_type": "stream",
     "text": [
      "Returning fitted model\n",
      "Pause2 1\n",
      "1993\n",
      "Pause 0\n",
      "Pause 2\n"
     ]
    },
    {
     "name": "stderr",
     "output_type": "stream",
     "text": [
      "ConvergenceWarning: Maximum Likelihood optimization failed to converge. Check mle_retvals\n"
     ]
    },
    {
     "name": "stdout",
     "output_type": "stream",
     "text": [
      "Returning fitted model\n",
      "Pause2 1\n",
      "1994\n",
      "Pause 0\n",
      "Pause 2\n",
      "Returning fitted model\n",
      "Pause2 1\n",
      "1995\n",
      "Pause 0\n",
      "Pause 2\n",
      "Returning fitted model\n",
      "Pause2 1\n",
      "1996\n",
      "Pause 0\n",
      "Pause 2\n",
      "Returning fitted model\n",
      "Pause2 1\n",
      "1997\n",
      "Pause 0\n",
      "Pause 2\n",
      "Returning fitted model\n",
      "Pause2 1\n",
      "1998\n",
      "Pause 0\n",
      "Pause 2\n",
      "Returning fitted model\n",
      "Pause2 1\n",
      "1999\n",
      "Pause 0\n",
      "Pause 2\n"
     ]
    },
    {
     "name": "stderr",
     "output_type": "stream",
     "text": [
      "ConvergenceWarning: Maximum Likelihood optimization failed to converge. Check mle_retvals\n"
     ]
    },
    {
     "name": "stdout",
     "output_type": "stream",
     "text": [
      "Returning fitted model\n",
      "Pause2 1\n",
      "2000\n",
      "Pause 0\n",
      "Pause 2\n",
      "Returning fitted model\n",
      "Pause2 1\n",
      "2001\n",
      "Pause 0\n",
      "Pause 2\n",
      "Returning fitted model\n",
      "Pause2 1\n",
      "2002\n",
      "Pause 0\n",
      "Pause 2\n"
     ]
    },
    {
     "name": "stderr",
     "output_type": "stream",
     "text": [
      "ConvergenceWarning: Maximum Likelihood optimization failed to converge. Check mle_retvals\n"
     ]
    },
    {
     "name": "stdout",
     "output_type": "stream",
     "text": [
      "Returning fitted model\n",
      "Pause2 1\n",
      "2003\n",
      "Pause 0\n",
      "Pause 2\n",
      "Returning fitted model\n",
      "Pause2 1\n",
      "2004\n",
      "Pause 0\n",
      "Pause 2\n"
     ]
    },
    {
     "name": "stderr",
     "output_type": "stream",
     "text": [
      "ConvergenceWarning: Maximum Likelihood optimization failed to converge. Check mle_retvals\n"
     ]
    },
    {
     "name": "stdout",
     "output_type": "stream",
     "text": [
      "Returning fitted model\n",
      "Pause2 1\n",
      "2005\n",
      "Pause 0\n",
      "Pause 2\n"
     ]
    },
    {
     "name": "stderr",
     "output_type": "stream",
     "text": [
      "ConvergenceWarning: Maximum Likelihood optimization failed to converge. Check mle_retvals\n"
     ]
    },
    {
     "name": "stdout",
     "output_type": "stream",
     "text": [
      "Returning fitted model\n",
      "Pause2 1\n",
      "2006\n",
      "Pause 0\n",
      "Pause 2\n",
      "Returning fitted model\n",
      "Pause2 1\n",
      "2007\n",
      "Pause 0\n",
      "Pause 2\n"
     ]
    },
    {
     "name": "stderr",
     "output_type": "stream",
     "text": [
      "ConvergenceWarning: Maximum Likelihood optimization failed to converge. Check mle_retvals\n"
     ]
    },
    {
     "name": "stdout",
     "output_type": "stream",
     "text": [
      "Returning fitted model\n",
      "Pause2 1\n",
      "2008\n",
      "Pause 0\n",
      "Pause 2\n"
     ]
    },
    {
     "name": "stderr",
     "output_type": "stream",
     "text": [
      "ConvergenceWarning: Maximum Likelihood optimization failed to converge. Check mle_retvals\n"
     ]
    },
    {
     "name": "stdout",
     "output_type": "stream",
     "text": [
      "Returning fitted model\n",
      "Pause2 1\n",
      "2009\n",
      "Pause 0\n",
      "Pause 2\n"
     ]
    },
    {
     "name": "stderr",
     "output_type": "stream",
     "text": [
      "ConvergenceWarning: Maximum Likelihood optimization failed to converge. Check mle_retvals\n"
     ]
    },
    {
     "name": "stdout",
     "output_type": "stream",
     "text": [
      "Returning fitted model\n",
      "Pause2 1\n",
      "2010\n",
      "Pause 0\n",
      "Pause 2\n"
     ]
    },
    {
     "name": "stderr",
     "output_type": "stream",
     "text": [
      "ConvergenceWarning: Maximum Likelihood optimization failed to converge. Check mle_retvals\n"
     ]
    },
    {
     "name": "stdout",
     "output_type": "stream",
     "text": [
      "Returning fitted model\n",
      "Pause2 1\n",
      "2011\n",
      "Pause 0\n",
      "Pause 2\n"
     ]
    },
    {
     "name": "stderr",
     "output_type": "stream",
     "text": [
      "ConvergenceWarning: Maximum Likelihood optimization failed to converge. Check mle_retvals\n"
     ]
    },
    {
     "name": "stdout",
     "output_type": "stream",
     "text": [
      "Returning fitted model\n",
      "Pause2 1\n",
      "2012\n",
      "Pause 0\n",
      "Pause 2\n"
     ]
    },
    {
     "name": "stderr",
     "output_type": "stream",
     "text": [
      "ConvergenceWarning: Maximum Likelihood optimization failed to converge. Check mle_retvals\n"
     ]
    },
    {
     "name": "stdout",
     "output_type": "stream",
     "text": [
      "Returning fitted model\n",
      "Pause2 1\n",
      "2013\n",
      "Pause 0\n",
      "Pause 2\n",
      "Returning fitted model\n",
      "Pause2 1\n",
      "2014\n",
      "Pause 0\n",
      "Pause 2\n",
      "Returning fitted model\n",
      "Pause2 1\n",
      "2015\n",
      "Pause 0\n",
      "Pause 2\n",
      "Returning fitted model\n",
      "Pause2 1\n",
      "2016\n",
      "Pause 0\n",
      "Pause 2\n"
     ]
    },
    {
     "name": "stderr",
     "output_type": "stream",
     "text": [
      "ConvergenceWarning: Maximum Likelihood optimization failed to converge. Check mle_retvals\n"
     ]
    },
    {
     "name": "stdout",
     "output_type": "stream",
     "text": [
      "Returning fitted model\n",
      "Pause2 1\n",
      "2017\n",
      "Pause 0\n",
      "Pause 2\n",
      "Returning fitted model\n",
      "Pause2 1\n",
      "2018\n",
      "Pause 0\n",
      "Pause 2\n",
      "Returning fitted model\n",
      "Pause2 1\n",
      "2019\n",
      "Pause 0\n",
      "Pause 2\n",
      "Returning fitted model\n",
      "Pause2 1\n",
      "2020\n",
      "Pause 0\n",
      "Pause 2\n",
      "Returning fitted model\n",
      "Pause2 1\n",
      "2021\n",
      "Pause 0\n",
      "Pause 2\n"
     ]
    },
    {
     "name": "stderr",
     "output_type": "stream",
     "text": [
      "ConvergenceWarning: Maximum Likelihood optimization failed to converge. Check mle_retvals\n"
     ]
    },
    {
     "name": "stdout",
     "output_type": "stream",
     "text": [
      "Returning fitted model\n",
      "Pause2 1\n",
      "2022\n",
      "Pause 0\n",
      "Pause 2\n"
     ]
    },
    {
     "name": "stderr",
     "output_type": "stream",
     "text": [
      "ConvergenceWarning: Maximum Likelihood optimization failed to converge. Check mle_retvals\n"
     ]
    },
    {
     "name": "stdout",
     "output_type": "stream",
     "text": [
      "Returning fitted model\n",
      "Pause2 1\n",
      "2023\n",
      "Pause 0\n",
      "Pause 2\n"
     ]
    },
    {
     "name": "stderr",
     "output_type": "stream",
     "text": [
      "ConvergenceWarning: Maximum Likelihood optimization failed to converge. Check mle_retvals\n"
     ]
    },
    {
     "name": "stdout",
     "output_type": "stream",
     "text": [
      "Returning fitted model\n",
      "Pause2 1\n"
     ]
    }
   ],
   "source": [
    "for year in years:\n",
    "    print(year)\n",
    "\n",
    "    for i in range(3):\n",
    "        try:\n",
    "            df = get_weather_data(\n",
    "                \"Chicago, IL\", f\"{year-5}-01-01\", f\"{year-1}-12-31\"\n",
    "            )\n",
    "        except Exception:\n",
    "            print(f\"Pause {i}\")\n",
    "            time.sleep(15)\n",
    "            continue\n",
    "\n",
    "    model_data = (\n",
    "        df[\"tmin\"]\n",
    "        .resample(\"W\")\n",
    "        .min()[df[\"tmin\"].resample(\"W\").min().index.year < year]\n",
    "    )\n",
    "\n",
    "    model = sarima_forecast(model_data, config)\n",
    "\n",
    "    start = df[\"tmin\"].resample(\"W\").min().index[0]\n",
    "    end = model_data.index[-1]\n",
    "\n",
    "    train_prediction = model.predict(start, end)\n",
    "    rfr = RandomForestRegressor(n_estimators=600)\n",
    "\n",
    "    df[\"day_sin\"] = sin_transformer(365).fit_transform(df.index.day_of_year)\n",
    "    df[\"day_cos\"] = cos_transformer(365).fit_transform(df.index.day_of_year)\n",
    "\n",
    "    resid = model.resid[model.resid.index.year < year]\n",
    "\n",
    "    rfr.fit(df[[\"day_sin\", \"day_cos\"]].loc[resid.index], resid)\n",
    "\n",
    "    pred_resid = rfr.predict(df[[\"day_sin\", \"day_cos\"]].loc[resid.index])\n",
    "\n",
    "    test_prediction = model.predict(start=f\"{year}-01-01\", end=f\"{year}-12-31\")\n",
    "\n",
    "    test_pred_df = pd.DataFrame({\"forecast\": test_prediction})\n",
    "\n",
    "    test_pred_df[\"day_sin\"] = sin_transformer(365).fit_transform(\n",
    "        test_pred_df.index.day_of_year\n",
    "    )\n",
    "    test_pred_df[\"day_cos\"] = cos_transformer(365).fit_transform(\n",
    "        test_pred_df.index.day_of_year\n",
    "    )\n",
    "\n",
    "    resid_pred = rfr.predict(test_pred_df[[\"day_sin\", \"day_cos\"]])\n",
    "\n",
    "    test_pred_df[\"resid_pred\"] = resid_pred\n",
    "\n",
    "    test_pred_df[\"boosted forecast\"] = (\n",
    "        test_pred_df[\"forecast\"] + test_pred_df[\"resid_pred\"]\n",
    "    )\n",
    "\n",
    "    for i in range(3):\n",
    "        try:\n",
    "            observed = get_weather_data(\n",
    "                \"Chicago, IL\", f\"{year}-01-01\", f\"{year}-12-31\"\n",
    "            )\n",
    "        except Exception:\n",
    "            print(f\"Pause2 {i}\")\n",
    "            time.sleep(20)\n",
    "            continue\n",
    "\n",
    "    test_pred_df[\"observed\"] = observed[\"tmin\"].resample(\"W\").min()\n",
    "    predictions_dict[year] = test_pred_df"
   ]
  },
  {
   "cell_type": "markdown",
   "id": "9ceca275",
   "metadata": {},
   "source": [
    "\n",
    "Loop through predictions_dict set column tmin equal to the unboosted, boosted, and observed columns to use get_frost_dates\n"
   ]
  },
  {
   "cell_type": "code",
   "execution_count": 341,
   "id": "0d5feda6",
   "metadata": {},
   "outputs": [],
   "source": [
    "obs_dict = {}\n",
    "fore_dict = {}\n",
    "boost_dict = {}"
   ]
  },
  {
   "cell_type": "markdown",
   "id": "aec0c817",
   "metadata": {},
   "source": [
    "### Get backtested frost dates"
   ]
  },
  {
   "cell_type": "code",
   "execution_count": 364,
   "id": "9eb96ade",
   "metadata": {},
   "outputs": [],
   "source": [
    "for year in years:\n",
    "    pred_df = predictions_dict[year]\n",
    "\n",
    "    pred_df[\"tmin\"] = pred_df[\"observed\"]\n",
    "\n",
    "    first_observed, last_observed = get_frost_dates(pred_df)\n",
    "\n",
    "    obs_dict[year] = [first_observed[0], last_observed[0]]\n",
    "    pred_df.drop(\"tmin_bin\", axis=1, inplace=True)\n",
    "\n",
    "    pred_df[\"tmin\"] = pred_df[\"forecast\"]\n",
    "\n",
    "    first_fore, last_fore = get_frost_dates(pred_df)\n",
    "\n",
    "    fore_dict[year] = [first_fore[0], last_fore[0]]\n",
    "\n",
    "    pred_df.drop(\"tmin_bin\", axis=1, inplace=True)\n",
    "\n",
    "    pred_df[\"tmin\"] = pred_df[\"boosted forecast\"]\n",
    "\n",
    "    first_boost, last_boost = get_frost_dates(pred_df)\n",
    "\n",
    "    boost_dict[year] = [first_boost[0], last_boost[0]]"
   ]
  },
  {
   "cell_type": "markdown",
   "id": "76447bd0",
   "metadata": {},
   "source": [
    "### Get differences"
   ]
  },
  {
   "cell_type": "code",
   "execution_count": 373,
   "id": "a57fad1a",
   "metadata": {},
   "outputs": [],
   "source": [
    "fall = {}\n",
    "spring = {}\n",
    "\n",
    "fall_boost = {}\n",
    "spring_boost = {}"
   ]
  },
  {
   "cell_type": "code",
   "execution_count": 412,
   "id": "4903a687",
   "metadata": {},
   "outputs": [
    {
     "name": "stdout",
     "output_type": "stream",
     "text": [
      "1985\n",
      "1986\n",
      "1987\n",
      "1988\n",
      "1989\n",
      "1990\n",
      "1991\n",
      "1992\n",
      "1993\n",
      "1994\n",
      "1995\n",
      "1996\n",
      "1997\n",
      "1998\n",
      "1999\n",
      "2000\n",
      "2001\n",
      "2002\n",
      "2003\n",
      "2004\n",
      "2005\n",
      "2006\n",
      "2007\n",
      "2008\n",
      "2009\n",
      "2010\n",
      "2011\n",
      "2012\n",
      "2013\n",
      "2014\n",
      "2015\n",
      "2016\n",
      "2017\n",
      "2018\n",
      "2019\n",
      "2020\n",
      "2021\n",
      "2022\n",
      "2023\n"
     ]
    }
   ],
   "source": [
    "# NOTE 1996 non boosted model predicts no days below zero in fall/winter\n",
    "\n",
    "for year in years:\n",
    "    print(year)\n",
    "    try:\n",
    "        fall[year] = (obs_dict[year][0] - fore_dict[year][0]).days\n",
    "    except TypeError:\n",
    "        fall[year] = 365\n",
    "\n",
    "    spring[year] = (obs_dict[year][1] - fore_dict[year][1]).days\n",
    "\n",
    "    fall_boost[year] = (obs_dict[year][0] - boost_dict[year][0]).days\n",
    "    spring_boost[year] = (obs_dict[year][1] - boost_dict[year][1]).days"
   ]
  },
  {
   "cell_type": "code",
   "execution_count": 402,
   "id": "71311054",
   "metadata": {},
   "outputs": [
    {
     "data": {
      "text/plain": [
       "Text(0.5, 0, 'Year')"
      ]
     },
     "execution_count": 402,
     "metadata": {},
     "output_type": "execute_result"
    },
    {
     "data": {
      "image/png": "[encoded data removed]",
      "text/plain": [
       "<Figure size 640x480 with 1 Axes>"
      ]
     },
     "metadata": {},
     "output_type": "display_data"
    }
   ],
   "source": [
    "plt.scatter(x=np.arange(1985, 2024), y=fall.values())\n",
    "plt.scatter(x=np.arange(1985, 2024), y=fall_boost.values())\n",
    "plt.legend([\"SARIMA\", \"Boosted\"])\n",
    "plt.title(\"Fall Frost Date (Observed - Prediction) 1985-2023\")\n",
    "plt.ylabel(\"Days\")\n",
    "plt.xlabel(\"Year\")"
   ]
  },
  {
   "cell_type": "code",
   "execution_count": 418,
   "id": "80932002",
   "metadata": {},
   "outputs": [
    {
     "data": {
      "text/plain": [
       "Text(0.5, 0, 'Year')"
      ]
     },
     "execution_count": 418,
     "metadata": {},
     "output_type": "execute_result"
    },
    {
     "data": {
      "image/png": "[encoded data removed]",
      "text/plain": [
       "<Figure size 640x480 with 1 Axes>"
      ]
     },
     "metadata": {},
     "output_type": "display_data"
    }
   ],
   "source": [
    "plt.scatter(x=np.arange(1985, 2024), y=spring.values())\n",
    "plt.scatter(x=np.arange(1985, 2024), y=spring_boost.values())\n",
    "plt.legend([\"SARIMA\", \"Boosted\"])\n",
    "plt.title(\"Spring Frost Date (Observed - Prediction) 1985-2023\")\n",
    "plt.ylabel(\"Days\")\n",
    "plt.xlabel(\"Year\")"
   ]
  },
  {
   "cell_type": "code",
   "execution_count": 413,
   "id": "eb479d69",
   "metadata": {},
   "outputs": [
    {
     "data": {
      "text/plain": [
       "26.94871794871795"
      ]
     },
     "execution_count": 413,
     "metadata": {},
     "output_type": "execute_result"
    }
   ],
   "source": [
    "np.abs(list(fall.values())).mean()"
   ]
  },
  {
   "cell_type": "code",
   "execution_count": 414,
   "id": "02248476",
   "metadata": {},
   "outputs": [
    {
     "data": {
      "text/plain": [
       "17.58974358974359"
      ]
     },
     "execution_count": 414,
     "metadata": {},
     "output_type": "execute_result"
    }
   ],
   "source": [
    "np.abs(list(fall_boost.values())).mean()"
   ]
  },
  {
   "cell_type": "code",
   "execution_count": 415,
   "id": "dfa87475",
   "metadata": {
    "scrolled": true
   },
   "outputs": [
    {
     "data": {
      "text/plain": [
       "17.76923076923077"
      ]
     },
     "execution_count": 415,
     "metadata": {},
     "output_type": "execute_result"
    }
   ],
   "source": [
    "np.abs(list(spring.values())).mean()"
   ]
  },
  {
   "cell_type": "code",
   "execution_count": 417,
   "id": "a91e70ab",
   "metadata": {},
   "outputs": [
    {
     "data": {
      "text/plain": [
       "17.41025641025641"
      ]
     },
     "execution_count": 417,
     "metadata": {},
     "output_type": "execute_result"
    }
   ],
   "source": [
    "np.abs(list(spring_boost.values())).mean()"
   ]
  },
  {
   "cell_type": "code",
   "execution_count": 394,
   "id": "c14448b3",
   "metadata": {},
   "outputs": [
    {
     "data": {
      "text/plain": [
       "{1985: -14,\n",
       " 1986: 0,\n",
       " 1987: -28,\n",
       " 1988: -35,\n",
       " 1989: 7,\n",
       " 1990: 7,\n",
       " 1991: 77,\n",
       " 1992: 7,\n",
       " 1993: -21,\n",
       " 1994: 21,\n",
       " 1995: 0,\n",
       " 1996: 365,\n",
       " 1997: 0,\n",
       " 1998: 7,\n",
       " 1999: -56,\n",
       " 2000: -49,\n",
       " 2001: -42,\n",
       " 2002: -14,\n",
       " 2003: -49,\n",
       " 2004: -21,\n",
       " 2005: 0,\n",
       " 2006: -21,\n",
       " 2007: -14,\n",
       " 2008: -7,\n",
       " 2009: -14,\n",
       " 2010: -7,\n",
       " 2011: -14,\n",
       " 2012: -28,\n",
       " 2013: -21,\n",
       " 2014: 7,\n",
       " 2015: 14,\n",
       " 2016: 7,\n",
       " 2017: 0,\n",
       " 2018: -28,\n",
       " 2019: -7,\n",
       " 2020: -14,\n",
       " 2021: 7,\n",
       " 2022: 7,\n",
       " 2023: -14}"
      ]
     },
     "execution_count": 394,
     "metadata": {},
     "output_type": "execute_result"
    }
   ],
   "source": [
    "fall"
   ]
  },
  {
   "cell_type": "code",
   "execution_count": 432,
   "id": "ca1729c0",
   "metadata": {},
   "outputs": [],
   "source": [
    "t = [x for x in fall.keys() if x != 1996]\n",
    "tt = []\n",
    "for i in t:\n",
    "    tt.append(fall_boost[i])"
   ]
  },
  {
   "cell_type": "code",
   "execution_count": 433,
   "id": "aa261fe7",
   "metadata": {},
   "outputs": [
    {
     "data": {
      "text/plain": [
       "16.94736842105263"
      ]
     },
     "execution_count": 433,
     "metadata": {},
     "output_type": "execute_result"
    }
   ],
   "source": [
    "np.mean(np.abs(tt))"
   ]
  },
  {
   "cell_type": "code",
   "execution_count": 499,
   "id": "22f87ae4",
   "metadata": {},
   "outputs": [
    {
     "data": {
      "text/plain": [
       "[0,\n",
       " 7,\n",
       " -28,\n",
       " -28,\n",
       " 14,\n",
       " 35,\n",
       " 77,\n",
       " 14,\n",
       " -21,\n",
       " 14,\n",
       " 0,\n",
       " 0,\n",
       " 7,\n",
       " -14,\n",
       " -14,\n",
       " 7,\n",
       " -14,\n",
       " -35,\n",
       " 14,\n",
       " 35,\n",
       " -7,\n",
       " 28,\n",
       " -7,\n",
       " -21,\n",
       " 28,\n",
       " 28,\n",
       " -28,\n",
       " -21,\n",
       " 7,\n",
       " 14,\n",
       " 7,\n",
       " 0,\n",
       " -21,\n",
       " 14,\n",
       " 0,\n",
       " 0,\n",
       " 14,\n",
       " 21]"
      ]
     },
     "execution_count": 499,
     "metadata": {},
     "output_type": "execute_result"
    }
   ],
   "source": []
  },
  {
   "cell_type": "code",
   "execution_count": 501,
   "id": "6893741a",
   "metadata": {},
   "outputs": [],
   "source": []
  },
  {
   "cell_type": "code",
   "execution_count": 502,
   "id": "bd8d1a49",
   "metadata": {},
   "outputs": [
    {
     "data": {
      "text/html": [
       "<style>#sk-container-id-9 {color: black;}#sk-container-id-9 pre{padding: 0;}#sk-container-id-9 div.sk-toggleable {background-color: white;}#sk-container-id-9 label.sk-toggleable__label {cursor: pointer;display: block;width: 100%;margin-bottom: 0;padding: 0.3em;box-sizing: border-box;text-align: center;}#sk-container-id-9 label.sk-toggleable__label-arrow:before {content: \"▸\";float: left;margin-right: 0.25em;color: #696969;}#sk-container-id-9 label.sk-toggleable__label-arrow:hover:before {color: black;}#sk-container-id-9 div.sk-estimator:hover label.sk-toggleable__label-arrow:before {color: black;}#sk-container-id-9 div.sk-toggleable__content {max-height: 0;max-width: 0;overflow: hidden;text-align: left;background-color: #f0f8ff;}#sk-container-id-9 div.sk-toggleable__content pre {margin: 0.2em;color: black;border-radius: 0.25em;background-color: #f0f8ff;}#sk-container-id-9 input.sk-toggleable__control:checked~div.sk-toggleable__content {max-height: 200px;max-width: 100%;overflow: auto;}#sk-container-id-9 input.sk-toggleable__control:checked~label.sk-toggleable__label-arrow:before {content: \"▾\";}#sk-container-id-9 div.sk-estimator input.sk-toggleable__control:checked~label.sk-toggleable__label {background-color: #d4ebff;}#sk-container-id-9 div.sk-label input.sk-toggleable__control:checked~label.sk-toggleable__label {background-color: #d4ebff;}#sk-container-id-9 input.sk-hidden--visually {border: 0;clip: rect(1px 1px 1px 1px);clip: rect(1px, 1px, 1px, 1px);height: 1px;margin: -1px;overflow: hidden;padding: 0;position: absolute;width: 1px;}#sk-container-id-9 div.sk-estimator {font-family: monospace;background-color: #f0f8ff;border: 1px dotted black;border-radius: 0.25em;box-sizing: border-box;margin-bottom: 0.5em;}#sk-container-id-9 div.sk-estimator:hover {background-color: #d4ebff;}#sk-container-id-9 div.sk-parallel-item::after {content: \"\";width: 100%;border-bottom: 1px solid gray;flex-grow: 1;}#sk-container-id-9 div.sk-label:hover label.sk-toggleable__label {background-color: #d4ebff;}#sk-container-id-9 div.sk-serial::before {content: \"\";position: absolute;border-left: 1px solid gray;box-sizing: border-box;top: 0;bottom: 0;left: 50%;z-index: 0;}#sk-container-id-9 div.sk-serial {display: flex;flex-direction: column;align-items: center;background-color: white;padding-right: 0.2em;padding-left: 0.2em;position: relative;}#sk-container-id-9 div.sk-item {position: relative;z-index: 1;}#sk-container-id-9 div.sk-parallel {display: flex;align-items: stretch;justify-content: center;background-color: white;position: relative;}#sk-container-id-9 div.sk-item::before, #sk-container-id-9 div.sk-parallel-item::before {content: \"\";position: absolute;border-left: 1px solid gray;box-sizing: border-box;top: 0;bottom: 0;left: 50%;z-index: -1;}#sk-container-id-9 div.sk-parallel-item {display: flex;flex-direction: column;z-index: 1;position: relative;background-color: white;}#sk-container-id-9 div.sk-parallel-item:first-child::after {align-self: flex-end;width: 50%;}#sk-container-id-9 div.sk-parallel-item:last-child::after {align-self: flex-start;width: 50%;}#sk-container-id-9 div.sk-parallel-item:only-child::after {width: 0;}#sk-container-id-9 div.sk-dashed-wrapped {border: 1px dashed gray;margin: 0 0.4em 0.5em 0.4em;box-sizing: border-box;padding-bottom: 0.4em;background-color: white;}#sk-container-id-9 div.sk-label label {font-family: monospace;font-weight: bold;display: inline-block;line-height: 1.2em;}#sk-container-id-9 div.sk-label-container {text-align: center;}#sk-container-id-9 div.sk-container {/* jupyter's `normalize.less` sets `[hidden] { display: none; }` but bootstrap.min.css set `[hidden] { display: none !important; }` so we also need the `!important` here to be able to override the default hidden behavior on the sphinx rendered scikit-learn.org. See: https://github.com/scikit-learn/scikit-learn/issues/21755 */display: inline-block !important;position: relative;}#sk-container-id-9 div.sk-text-repr-fallback {display: none;}</style><div id=\"sk-container-id-9\" class=\"sk-top-container\"><div class=\"sk-text-repr-fallback\"><pre>RandomForestRegressor(n_estimators=610)</pre><b>In a Jupyter environment, please rerun this cell to show the HTML representation or trust the notebook. <br />On GitHub, the HTML representation is unable to render, please try loading this page with nbviewer.org.</b></div><div class=\"sk-container\" hidden><div class=\"sk-item\"><div class=\"sk-estimator sk-toggleable\"><input class=\"sk-toggleable__control sk-hidden--visually\" id=\"sk-estimator-id-9\" type=\"checkbox\" checked><label for=\"sk-estimator-id-9\" class=\"sk-toggleable__label sk-toggleable__label-arrow\">RandomForestRegressor</label><div class=\"sk-toggleable__content\"><pre>RandomForestRegressor(n_estimators=610)</pre></div></div></div></div></div>"
      ],
      "text/plain": [
       "RandomForestRegressor(n_estimators=610)"
      ]
     },
     "execution_count": 502,
     "metadata": {},
     "output_type": "execute_result"
    }
   ],
   "source": []
  },
  {
   "cell_type": "code",
   "execution_count": null,
   "id": "931af8f6",
   "metadata": {},
   "outputs": [],
   "source": []
  }
 ],
 "metadata": {
  "kernelspec": {
   "display_name": "almanac kernel",
   "language": "python",
   "name": "almanac-kernel"
  },
  "language_info": {
   "codemirror_mode": {
    "name": "ipython",
    "version": 3
   },
   "file_extension": ".py",
   "mimetype": "text/x-python",
   "name": "python",
   "nbconvert_exporter": "python",
   "pygments_lexer": "ipython3",
   "version": "3.11.5"
  }
 },
 "nbformat": 4,
 "nbformat_minor": 5
}
