{
 "cells": [
  {
   "cell_type": "code",
   "execution_count": 1,
   "id": "7e1f0bc8",
   "metadata": {},
   "outputs": [],
   "source": [
    "from Almanac.Data import get_weather_data\n",
    "from Almanac.Data import get_frost_dates\n",
    "from Almanac.Data import binarize\n",
    "import pandas as pd\n",
    "import numpy as np\n",
    "import seaborn as sns\n",
    "import matplotlib.pyplot as plt\n",
    "\n",
    "%matplotlib inline"
   ]
  },
  {
   "cell_type": "code",
   "execution_count": 7,
   "id": "f1802eec",
   "metadata": {},
   "outputs": [],
   "source": [
    "df = get_weather_data(\"Chicago, IL\", \"1950-01-01\", \"2022-12-31\")"
   ]
  },
  {
   "cell_type": "code",
   "execution_count": 8,
   "id": "b755440b",
   "metadata": {},
   "outputs": [
    {
     "name": "stdout",
     "output_type": "stream",
     "text": [
      "<class 'pandas.core.frame.DataFrame'>\n",
      "DatetimeIndex: 26663 entries, 1950-01-01 to 2022-12-31\n",
      "Freq: D\n",
      "Data columns (total 10 columns):\n",
      " #   Column  Non-Null Count  Dtype  \n",
      "---  ------  --------------  -----  \n",
      " 0   tavg    24518 non-null  float64\n",
      " 1   tmin    26663 non-null  float64\n",
      " 2   tmax    26663 non-null  float64\n",
      " 3   prcp    26663 non-null  float64\n",
      " 4   snow    26663 non-null  float64\n",
      " 5   wdir    18437 non-null  float64\n",
      " 6   wspd    24543 non-null  float64\n",
      " 7   wpgt    15512 non-null  float64\n",
      " 8   pres    24094 non-null  float64\n",
      " 9   tsun    11914 non-null  float64\n",
      "dtypes: float64(10)\n",
      "memory usage: 2.2 MB\n"
     ]
    }
   ],
   "source": [
    "df.info()"
   ]
  },
  {
   "cell_type": "code",
   "execution_count": 11,
   "id": "04a93ef5",
   "metadata": {},
   "outputs": [
    {
     "data": {
      "text/plain": [
       "-7.0328767123287665"
      ]
     },
     "execution_count": 11,
     "metadata": {},
     "output_type": "execute_result"
    }
   ],
   "source": [
    "df[df.index.day_of_year == 1][\"tmin\"].mean()"
   ]
  },
  {
   "cell_type": "code",
   "execution_count": 12,
   "id": "8f8316f2",
   "metadata": {},
   "outputs": [],
   "source": [
    "daily_avg = []"
   ]
  },
  {
   "cell_type": "code",
   "execution_count": 13,
   "id": "fc829c61",
   "metadata": {},
   "outputs": [],
   "source": [
    "for day in range(365):\n",
    "    daily_avg.append(df[df.index.day_of_year == day + 1][\"tmin\"].mean())"
   ]
  },
  {
   "cell_type": "code",
   "execution_count": 15,
   "id": "1334bb1b",
   "metadata": {},
   "outputs": [
    {
     "data": {
      "text/plain": [
       "365"
      ]
     },
     "execution_count": 15,
     "metadata": {},
     "output_type": "execute_result"
    }
   ],
   "source": [
    "len(daily_avg)"
   ]
  },
  {
   "cell_type": "code",
   "execution_count": null,
   "id": "2bd1cf18",
   "metadata": {},
   "outputs": [],
   "source": []
  }
 ],
 "metadata": {
  "kernelspec": {
   "display_name": "almanac kernel",
   "language": "python",
   "name": "almanac-kernel"
  },
  "language_info": {
   "codemirror_mode": {
    "name": "ipython",
    "version": 3
   },
   "file_extension": ".py",
   "mimetype": "text/x-python",
   "name": "python",
   "nbconvert_exporter": "python",
   "pygments_lexer": "ipython3",
   "version": "3.11.5"
  }
 },
 "nbformat": 4,
 "nbformat_minor": 5
}
