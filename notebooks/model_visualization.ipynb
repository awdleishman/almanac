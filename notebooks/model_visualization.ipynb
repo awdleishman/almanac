{
 "cells": [
  {
   "cell_type": "markdown",
   "metadata": {},
   "source": [
    "# Model Visualization Notebook"
   ]
  },
  {
   "cell_type": "code",
   "execution_count": null,
   "metadata": {
    "tags": [
     "parameters",
     "hide"
    ]
   },
   "outputs": [],
   "source": [
    "# This cell is tagged parameters\n",
    "data_UUID = \"\"\n",
    "model_UUID = \"\"\n",
    "place = \"\"\n",
    "start = \"\"\n",
    "end = \"\"\n",
    "train_frac = \"\""
   ]
  },
  {
   "cell_type": "code",
   "execution_count": null,
   "metadata": {
    "tags": [
     "hide"
    ]
   },
   "outputs": [],
   "source": [
    "from Almanac.Data import get_weather_data\n",
    "import pandas as pd\n",
    "import numpy as np\n",
    "import matplotlib.pyplot as plt\n",
    "import seaborn as sns\n",
    "import pickle\n",
    "\n",
    "%matplotlib inline\n",
    "\n",
    "file_name = \"artifacts/\" + data_UUID + \"/data/train.pkl\"\n",
    "train_data = pickle.load(open(file_name, \"rb\"))\n",
    "\n",
    "file_name = \"artifacts/\" + data_UUID + \"/data/test.pkl\"\n",
    "test_data = pickle.load(open(file_name, \"rb\"))\n",
    "\n",
    "file_name = \"artifacts/\" + data_UUID + \"/models/\" + model_UUID + \".pkl\"\n",
    "fitted_model = pickle.load(open(file_name, \"rb\"))\n",
    "\n",
    "n_pred = len(test_data)\n",
    "pred = fitted_model.forecast(n_pred)\n",
    "\n",
    "print(f\"Location: {place}\")\n",
    "print(f\"Start Date: {start}\")\n",
    "print(f\"End Date: {end}\")\n",
    "print(f\"Training Fraction: {train_frac*100}%\")\n",
    "print(f\"\\n\")\n",
    "print(f\"Data Artifact: {data_UUID}\")\n",
    "print(f\"Model Artifact: {model_UUID}\")"
   ]
  },
  {
   "cell_type": "markdown",
   "metadata": {},
   "source": [
    "## Prediction vs Actual"
   ]
  },
  {
   "cell_type": "code",
   "execution_count": null,
   "metadata": {},
   "outputs": [],
   "source": [
    "train_data[\"tmin\"].plot(figsize=(12, 5), label=\"TRAIN\", legend=True)\n",
    "test_data[\"tmin\"].plot(label=\"TEST\", legend=True)\n",
    "pred.plot(label=\"PREDICTION\", legend=True)"
   ]
  }
 ],
 "metadata": {
  "kernelspec": {
   "display_name": "Python (myenv)",
   "language": "python",
   "name": "myenv"
  },
  "language_info": {
   "name": "python",
   "version": "3.11.5"
  }
 },
 "nbformat": 4,
 "nbformat_minor": 2
}
