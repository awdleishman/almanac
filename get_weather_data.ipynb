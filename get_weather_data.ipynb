{
 "cells": [
  {
   "cell_type": "code",
   "execution_count": 4,
   "id": "963fbd82",
   "metadata": {},
   "outputs": [],
   "source": [
    "import requests\n",
    "import pandas as pd\n",
    "import numpy as np\n",
    "import matplotlib.pyplot as plt\n",
    "import meteostat as ms\n",
    "from datetime import datetime\n",
    "from string import punctuation"
   ]
  },
  {
   "cell_type": "code",
   "execution_count": null,
   "id": "bd1c821b",
   "metadata": {},
   "outputs": [],
   "source": [
    "def get_weather_data(place,start,end=datetime.now):\n",
    "    \n",
    "    '''\n",
    "    In the future should implement more in the way of processing for place to make sure it's in a form that will be useable.\n",
    "    '''\n",
    "    \n",
    "    \n",
    "    #Base url for searching geocode.maps.co\n",
    "    base_url = 'https://geocode.maps.co/search?q='\n",
    "    \n",
    "    \n",
    "    #Remove punctuation from place and replace spaces with + for the search url\n",
    "    place_no_punc = ''\n",
    "\n",
    "    for char in place:\n",
    "        if char not in punctuation:\n",
    "            place_no_punc = place_no_punc+char\n",
    "            \n",
    "    place_url = place_no_punc.replace(' ','+')\n",
    "    \n",
    "    #Build search URL from base URL and place\n",
    "    url = base_url + place_url\n",
    "    \n",
    "    \n",
    "    #Request place information from the created url. The information is returned as a dict assigned as place_info\n",
    "    r = requests.get(url)\n",
    "    place_info = r.json()[0]\n",
    "    \n",
    "    #Extract the lat and lon info from place_info\n",
    "    lat = place_info['lat']\n",
    "    lon = place_info['lon']\n",
    "   \n",
    "\n",
    "\n",
    "    \n",
    "    #Make sure start and end are of type = datetime. This needs work to accept more date formats that may be entered\n",
    "    if type(start)==str:\n",
    "        start = datetime.strptime(start,'%Y-%m-%d')\n",
    "        \n",
    "    if type(end)==str:\n",
    "        end = datetime.strptime(end,'%Y-%m-%d')\n",
    "        \n",
    "    \n",
    "    location = ms.Point(lat,lon)\n",
    "    \n",
    "    data = ms.Daily(location,start,end)\n",
    "    data = data.fetch()\n",
    "    return data"
   ]
  }
 ],
 "metadata": {
  "kernelspec": {
   "display_name": "Python 3 (ipykernel)",
   "language": "python",
   "name": "python3"
  },
  "language_info": {
   "codemirror_mode": {
    "name": "ipython",
    "version": 3
   },
   "file_extension": ".py",
   "mimetype": "text/x-python",
   "name": "python",
   "nbconvert_exporter": "python",
   "pygments_lexer": "ipython3",
   "version": "3.10.9"
  }
 },
 "nbformat": 4,
 "nbformat_minor": 5
}
