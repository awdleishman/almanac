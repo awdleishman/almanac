{
 "cells": [
  {
   "cell_type": "code",
   "execution_count": 1,
   "id": "29a8ecba",
   "metadata": {},
   "outputs": [],
   "source": [
    "from dash import Dash, html, dcc\n",
    "from dash.dependencies import Output, Input\n",
    "from dash.exceptions import PreventUpdate\n",
    "import pandas as pd\n",
    "import plotly.express as px\n",
    "\n",
    "from Almanac.Data import get_weather_data\n",
    "from Almanac.Data import get_frost_dates\n",
    "from Almanac.Data import binarize\n",
    "from Almanac.Models import hw_weekly_frost_date_forecast\n",
    "from Almanac.Models import sarima_forecast\n",
    "from datetime import datetime, timedelta\n",
    "import time"
   ]
  },
  {
   "cell_type": "code",
   "execution_count": 2,
   "id": "7bca86d2",
   "metadata": {},
   "outputs": [],
   "source": [
    "app = Dash(__name__)"
   ]
  },
  {
   "cell_type": "code",
   "execution_count": 3,
   "id": "e1a75666",
   "metadata": {},
   "outputs": [],
   "source": [
    "app.layout = html.Div(\n",
    "    [\n",
    "        \"Location:\",\n",
    "        html.Br(),\n",
    "        dcc.Input(\n",
    "            id=\"location\",\n",
    "            type=\"text\",\n",
    "            placeholder=\"Enter Location\",\n",
    "            debounce=True,\n",
    "        ),\n",
    "        html.Div(id=\"text-output\"),\n",
    "        html.Br(),\n",
    "        # html.Div(id=\"hidden location\",style={\"display\":\"none\"}),\n",
    "        \"Start Date:\",\n",
    "        html.Br(),\n",
    "        dcc.Input(\n",
    "            id=\"start-date\",\n",
    "            type=\"text\",\n",
    "            placeholder=\"yyyy-mm-dd\",\n",
    "            debounce=True,\n",
    "        ),\n",
    "        html.Div(id=\"start-date-output\"),\n",
    "        html.Br(),\n",
    "        \"End Date:\",\n",
    "        html.Br(),\n",
    "        dcc.Input(\n",
    "            id=\"end-date\", type=\"text\", placeholder=\"yyyy-mm-dd\", debounce=True\n",
    "        ),\n",
    "        html.Div(id=\"end-date-output\"),\n",
    "        html.Br(),\n",
    "        \"Model:\",\n",
    "        html.Br(),\n",
    "        dcc.Dropdown(\n",
    "            [\"Holt Winters\", \"SARIMA\"],\n",
    "            \"Holt Winters\",\n",
    "            id=\"model dropdown\",\n",
    "        ),\n",
    "        html.Br(),\n",
    "        dcc.Graph(id=\"fig1\"),\n",
    "    ]\n",
    ")"
   ]
  },
  {
   "cell_type": "code",
   "execution_count": 4,
   "id": "25c5c316",
   "metadata": {},
   "outputs": [],
   "source": [
    "@app.callback(Output(\"text-output\", \"children\"), Input(\"location\", \"value\"))\n",
    "def update_location_div(location):\n",
    "    if not location:\n",
    "        raise PreventUpdate\n",
    "    return f\"Location Selected: {location}\""
   ]
  },
  {
   "cell_type": "code",
   "execution_count": 5,
   "id": "46c9a79c",
   "metadata": {},
   "outputs": [],
   "source": [
    "@app.callback(\n",
    "    Output(\"start-date-output\", \"children\"), Input(\"start-date\", \"value\")\n",
    ")\n",
    "def update_start_div(start):\n",
    "    if not start:\n",
    "        raise PreventUpdate\n",
    "    return f\"Start date Selected: {start}\""
   ]
  },
  {
   "cell_type": "code",
   "execution_count": 6,
   "id": "0f415d63",
   "metadata": {},
   "outputs": [],
   "source": [
    "@app.callback(\n",
    "    Output(\"end-date-output\", \"children\"), Input(\"end-date\", \"value\")\n",
    ")\n",
    "def update_end_div(end):\n",
    "    if not end:\n",
    "        raise PreventUpdate\n",
    "    return f\"End date Selected: {end}\""
   ]
  },
  {
   "cell_type": "code",
   "execution_count": 7,
   "id": "333a8b87",
   "metadata": {},
   "outputs": [],
   "source": [
    "# @app.callback(\n",
    "# Output(\"hidden location\",\"data\"),\n",
    "# Input(\"location\",\"value\"),\n",
    "# Input(\"start-date\",\"value\"),\n",
    "# Input(\"end-date\",\"value\")\n",
    "# )\n",
    "# def get_data(location,start,end):\n",
    "#     if (not location) or (not start) or (not end):\n",
    "#         raise PreventUpdate\n",
    "\n",
    "#     data = get_weather_data(location,start,end)\n",
    "#     return data"
   ]
  },
  {
   "cell_type": "code",
   "execution_count": 8,
   "id": "7710c6a7",
   "metadata": {},
   "outputs": [
    {
     "ename": "SyntaxError",
     "evalue": "unterminated string literal (detected at line 29) (1629631550.py, line 29)",
     "output_type": "error",
     "traceback": [
      "\u001b[1;36m  Cell \u001b[1;32mIn[8], line 29\u001b[1;36m\u001b[0m\n\u001b[1;33m    \"text\":f\"Holt Winters Prediction Weekly Min Temperature {figure.data[0].x[0].strftime('%Y-%m-%d')}\u001b[0m\n\u001b[1;37m           ^\u001b[0m\n\u001b[1;31mSyntaxError\u001b[0m\u001b[1;31m:\u001b[0m unterminated string literal (detected at line 29)\n"
     ]
    }
   ],
   "source": [
    "@app.callback(\n",
    "    Output(\"fig1\", \"figure\"),\n",
    "    Input(\"location\", \"value\"),\n",
    "    Input(\"start-date\", \"value\"),\n",
    "    Input(\"end-date\", \"value\"),\n",
    "    Input(\"model dropdown\", \"value\"),\n",
    "    # Input(\"hidden location\",\"data\")\n",
    ")\n",
    "def generate_figure(location, start, end, model):\n",
    "    #     print(f\"{location}, {start}, {end}\")\n",
    "    if not end:\n",
    "        raise PreventUpdate\n",
    "\n",
    "    for i in range(3):\n",
    "        try:\n",
    "            data = get_weather_data(location, start, end)\n",
    "        except Exception:\n",
    "            print(f\"Fetching Weather Data attempt {i+1}\")\n",
    "            time.sleep(3)\n",
    "            continue\n",
    "\n",
    "    if model == \"Holt Winters\":\n",
    "        prediction, os = hw_weekly_frost_date_forecast(data)\n",
    "        figure = px.line(x=prediction.index, y=prediction)\n",
    "        figure.update_layout(\n",
    "            title={\n",
    "                \"text\": (\n",
    "                    f\"Holt Winters Prediction Weekly Min Temperature {figure.data[0].x[0].strftime('%Y-%m-%d')}\"\n",
    "                    f\" to {figure.data[0].x[-1].strftime('%Y-%m-%d')} for {location}\"\n",
    "                ),\n",
    "                \"x\": 0.5,\n",
    "                \"y\": 0.95,\n",
    "                \"xanchor\": \"center\",\n",
    "            },\n",
    "            title_font={\"color\": \"deepskyblue\", \"size\": 17},\n",
    "        )\n",
    "        figure.update_xaxes(title=\"Date\")\n",
    "        figure.update_yaxes(title=\"Temperature\")\n",
    "        return figure\n",
    "\n",
    "    if model == \"SARIMA\":\n",
    "        df = data[\"tmin\"].resample(\"W\").min()\n",
    "        prediction = sarima_forecast(\n",
    "            df, start=df.index[-1], end=df.index[-1] + timedelta(days=365)\n",
    "        )\n",
    "\n",
    "        figure = px.line(x=prediction.index, y=prediction)\n",
    "        figure.update_layout(\n",
    "            title={\n",
    "                \"text\": (\n",
    "                    f\"SARIMA Prediction Weekly Min Temperature {figure.data[0].x[0].strftime('%Y-%m-%d')}\"\n",
    "                    f\" to {figure.data[0].x[-1].strftime('%Y-%m-%d')} for {location}\"\n",
    "                ),\n",
    "                \"x\": 0.5,\n",
    "                \"y\": 0.95,\n",
    "                \"xanchor\": \"center\",\n",
    "            },\n",
    "            title_font={\"color\": \"deepskyblue\", \"size\": 17},\n",
    "        )\n",
    "        figure.update_xaxes(title=\"Date\")\n",
    "        figure.update_yaxes(title=\"Temperature\")\n",
    "        return figure"
   ]
  },
  {
   "cell_type": "code",
   "execution_count": null,
   "id": "5cf72917",
   "metadata": {
    "scrolled": false
   },
   "outputs": [],
   "source": [
    "app.run()"
   ]
  },
  {
   "cell_type": "markdown",
   "id": "eaf513d1",
   "metadata": {},
   "source": [
    "make a new callback for fetching data that looks for location, start, and end not == none. This will update a hidden html.Div that generate figure can listen for."
   ]
  }
 ],
 "metadata": {
  "kernelspec": {
   "display_name": "Python 3 (ipykernel)",
   "language": "python",
   "name": "python3"
  },
  "language_info": {
   "codemirror_mode": {
    "name": "ipython",
    "version": 3
   },
   "file_extension": ".py",
   "mimetype": "text/x-python",
   "name": "python",
   "nbconvert_exporter": "python",
   "pygments_lexer": "ipython3",
   "version": "3.10.9"
  }
 },
 "nbformat": 4,
 "nbformat_minor": 5
}
